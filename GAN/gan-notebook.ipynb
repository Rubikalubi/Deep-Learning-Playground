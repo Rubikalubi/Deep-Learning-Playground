{
 "cells": [
  {
   "cell_type": "code",
   "execution_count": 1,
   "metadata": {},
   "outputs": [],
   "source": [
    "%load_ext autoreload\n",
    "%autoreload 2"
   ]
  },
  {
   "cell_type": "code",
   "execution_count": 2,
   "metadata": {},
   "outputs": [
    {
     "name": "stderr",
     "output_type": "stream",
     "text": [
      "f:\\Uni\\Cuda-Lab\\Cuda_Lab\\venv\\lib\\site-packages\\tqdm\\auto.py:22: TqdmWarning: IProgress not found. Please update jupyter and ipywidgets. See https://ipywidgets.readthedocs.io/en/stable/user_install.html\n",
      "  from .autonotebook import tqdm as notebook_tqdm\n"
     ]
    }
   ],
   "source": [
    "import torch\n",
    "from models import ConditionalDiscriminator, ConditionalGenerator\n",
    "from torchsummary import summary\n",
    "import torchvision\n",
    "from torchvision import transforms, datasets\n",
    "import torch.nn as nn\n",
    "from torch.nn import functional as F\n",
    "from torch.utils.data import DataLoader\n",
    "\n",
    "\n",
    "import numpy as np\n",
    "\n",
    "from tqdm import tqdm\n",
    "import os\n",
    "import shutil\n",
    "from torch.utils.tensorboard import SummaryWriter"
   ]
  },
  {
   "cell_type": "code",
   "execution_count": 3,
   "metadata": {},
   "outputs": [],
   "source": [
    "BSZ = 64\n",
    "device = torch.device(\"cuda:0\" if torch.cuda.is_available() else \"cpu\")"
   ]
  },
  {
   "cell_type": "code",
   "execution_count": 4,
   "metadata": {},
   "outputs": [],
   "source": [
    "# Downloading and Loading Dataset\n",
    "mnist_tf = transforms.Compose([\n",
    "        transforms.ToTensor(),\n",
    "        transforms.Normalize(mean=(0.5, ), std=(0.5, ))\n",
    "    ])\n",
    "\n",
    "train_dataset = datasets.FashionMNIST(root='./data', train=True, transform=mnist_tf,download=True)\n",
    "test_dataset = datasets.FashionMNIST(root='./data', train=False, transform=mnist_tf)"
   ]
  },
  {
   "cell_type": "code",
   "execution_count": 5,
   "metadata": {},
   "outputs": [],
   "source": [
    "train_loader = torch.utils.data.DataLoader(dataset=train_dataset, batch_size=BSZ, shuffle=True, drop_last=True)"
   ]
  },
  {
   "cell_type": "code",
   "execution_count": 6,
   "metadata": {},
   "outputs": [],
   "source": [
    "if not os.path.exists(\"tboard_logs\"):\n",
    "    os.mkdir(\"tboard_logs\")\n",
    "writer = SummaryWriter(log_dir=\"tboard_logs/CGAN\")"
   ]
  },
  {
   "cell_type": "markdown",
   "metadata": {},
   "source": [
    "## 1. Conditional GANs"
   ]
  },
  {
   "cell_type": "code",
   "execution_count": 7,
   "metadata": {},
   "outputs": [
    {
     "name": "stderr",
     "output_type": "stream",
     "text": [
      "0it [00:00, ?it/s]f:\\Uni\\Cuda-Lab\\Cuda_Lab\\venv\\lib\\site-packages\\torch\\nn\\modules\\loss.py:529: UserWarning: Using a target size (torch.Size([64])) that is different to the input size (torch.Size([64, 1])). This will likely lead to incorrect results due to broadcasting. Please ensure they have the same size.\n",
      "  return F.mse_loss(input, target, reduction=self.reduction)\n",
      "937it [00:18, 50.14it/s]\n",
      "937it [00:16, 57.46it/s]\n",
      "937it [00:16, 58.11it/s]\n",
      "937it [00:16, 57.89it/s]\n",
      "937it [00:16, 58.07it/s]\n",
      "937it [00:16, 57.23it/s]\n",
      "937it [00:16, 57.70it/s]\n",
      "937it [00:16, 57.94it/s]\n",
      "937it [00:16, 57.30it/s]\n",
      "937it [00:16, 57.94it/s]\n",
      "937it [00:16, 57.51it/s]\n",
      "937it [00:16, 58.21it/s]\n",
      "937it [00:16, 57.46it/s]\n",
      "937it [00:16, 57.91it/s]\n",
      "937it [00:16, 58.25it/s]\n",
      "937it [00:15, 58.69it/s]\n",
      "937it [00:15, 58.68it/s]\n",
      "937it [00:16, 58.27it/s]\n",
      "937it [00:16, 57.31it/s]\n",
      "937it [00:16, 57.80it/s]\n",
      "937it [00:16, 57.97it/s]\n",
      "937it [00:16, 57.53it/s]\n",
      "937it [00:16, 57.20it/s]\n",
      "937it [00:16, 57.43it/s]\n",
      "937it [00:16, 56.21it/s]\n",
      "937it [00:16, 56.80it/s]\n",
      "937it [00:16, 58.13it/s]\n",
      "937it [00:16, 58.05it/s]\n",
      "937it [00:16, 58.55it/s]\n",
      "937it [00:16, 57.47it/s]\n",
      "937it [00:17, 52.45it/s]\n",
      "937it [00:18, 51.97it/s]\n",
      "937it [00:17, 52.96it/s]\n",
      "937it [00:17, 55.12it/s]\n",
      "937it [00:17, 54.47it/s]\n",
      "937it [00:17, 54.53it/s]\n",
      "937it [00:17, 54.75it/s]\n",
      "937it [00:17, 54.45it/s]\n",
      "937it [00:17, 54.99it/s]\n",
      "937it [00:17, 54.70it/s]\n",
      "937it [00:17, 54.12it/s]\n",
      "937it [00:17, 52.36it/s]\n",
      "937it [00:17, 54.67it/s]\n",
      "937it [00:16, 55.18it/s]\n",
      "937it [00:17, 54.79it/s]\n",
      "937it [00:16, 55.41it/s]\n",
      "937it [00:17, 54.95it/s]\n",
      "937it [00:16, 55.58it/s]\n",
      "937it [00:17, 55.06it/s]\n",
      "937it [00:19, 48.30it/s]\n",
      "937it [00:17, 54.77it/s]\n",
      "937it [00:17, 54.32it/s]\n",
      "937it [00:17, 55.01it/s]\n",
      "937it [00:19, 49.12it/s]\n",
      "937it [00:18, 51.01it/s]\n",
      "937it [00:17, 54.88it/s]\n",
      "937it [00:17, 54.69it/s]\n",
      "937it [00:18, 51.38it/s]\n",
      "937it [00:18, 50.93it/s]\n",
      "937it [00:18, 50.41it/s]\n",
      "937it [00:17, 53.25it/s]\n",
      "937it [00:17, 54.18it/s]\n",
      "937it [00:17, 53.27it/s]\n",
      "937it [00:17, 54.47it/s]\n",
      "937it [00:17, 55.02it/s]\n",
      "937it [00:17, 54.38it/s]\n",
      "937it [00:17, 54.43it/s]\n",
      "937it [00:16, 55.21it/s]\n",
      "937it [00:17, 54.66it/s]\n",
      "937it [00:17, 54.97it/s]\n",
      "937it [00:16, 55.15it/s]\n",
      "937it [00:16, 55.23it/s]\n",
      "937it [00:16, 55.24it/s]\n",
      "937it [00:17, 55.02it/s]\n",
      "937it [00:17, 53.81it/s]\n",
      "937it [00:17, 52.97it/s]\n",
      "937it [00:18, 50.82it/s]\n",
      "937it [00:17, 54.23it/s]\n",
      "937it [00:16, 55.68it/s]\n",
      "937it [00:17, 54.93it/s]\n",
      "937it [00:17, 54.91it/s]\n",
      "937it [00:16, 55.36it/s]\n",
      "937it [00:17, 54.36it/s]\n",
      "937it [00:17, 54.89it/s]\n",
      "937it [00:17, 53.38it/s]\n",
      "937it [00:17, 54.84it/s]\n",
      "937it [00:17, 54.70it/s]\n",
      "937it [00:17, 54.70it/s]\n",
      "937it [00:17, 54.79it/s]\n",
      "937it [00:17, 55.05it/s]\n",
      "937it [00:18, 51.97it/s]\n",
      "937it [00:17, 54.75it/s]\n",
      "937it [00:16, 55.14it/s]\n",
      "937it [00:17, 54.69it/s]\n",
      "937it [00:17, 54.86it/s]\n",
      "937it [00:16, 55.50it/s]\n",
      "937it [00:17, 54.88it/s]\n",
      "937it [00:17, 54.76it/s]\n",
      "937it [00:17, 54.67it/s]\n",
      "937it [00:16, 55.22it/s]\n"
     ]
    }
   ],
   "source": [
    "discriminator = ConditionalDiscriminator(784, 1)\n",
    "generator = ConditionalGenerator(128, 784)\n",
    "\n",
    "optim_discriminator = torch.optim.Adam(discriminator.parameters(), lr=3e-4, betas=(0.5, 0.999))\n",
    "optim_generator = torch.optim.Adam(generator.parameters(), lr=3e-4, betas=(0.5, 0.999))\n",
    "\n",
    "\n",
    "discriminator.to(device)\n",
    "generator.to(device)\n",
    "\n",
    "criterion = nn.MSELoss()\n",
    "\n",
    "for epoch in range(100):\n",
    "    generator.train()\n",
    "    discriminator.train()\n",
    "    G_loss = []\n",
    "    D_loss = []\n",
    "\n",
    "    for batch, (images, labels) in tqdm(enumerate(train_loader)):\n",
    "        random_noise = torch.rand(BSZ, 128, device=device)\n",
    "        fake_labels = torch.randint(0,10, (BSZ, ), device=device)\n",
    "        generated_images = generator(random_noise, fake_labels)\n",
    "\n",
    "        images = images.view(-1, 784).to(device)\n",
    "\n",
    "        labels = labels.to(device)\n",
    "\n",
    "        true_labels = torch.ones(BSZ).to(device)\n",
    "\n",
    "        optim_discriminator.zero_grad()\n",
    "\n",
    "        discriminator_output_true_data = discriminator(images, labels)\n",
    "\n",
    "        true_discriminator_loss = criterion(discriminator_output_true_data, true_labels)\n",
    "\n",
    "        discriminator_output_for_generated_data = discriminator(generated_images.detach(), fake_labels).view(BSZ)\n",
    "\n",
    "        generator_discriminator_loss = criterion(\n",
    "            discriminator_output_for_generated_data, torch.zeros(BSZ).to(device)\n",
    "        )\n",
    "\n",
    "        discriminator_loss = (\n",
    "            true_discriminator_loss + generator_discriminator_loss\n",
    "        )\n",
    "\n",
    "        discriminator_loss.backward()\n",
    "        optim_discriminator.step()\n",
    "\n",
    "        D_loss.append(discriminator_loss.item())\n",
    "\n",
    "\n",
    "\n",
    "        optim_generator.zero_grad()\n",
    "\n",
    "        generated_images = generator(random_noise, fake_labels)\n",
    "\n",
    "        discriminator_output_generated_data = discriminator(generated_images, fake_labels).view(BSZ)\n",
    "\n",
    "        generator_loss = criterion(discriminator_output_generated_data, true_labels)\n",
    "\n",
    "        generator_loss.backward()\n",
    "        optim_generator.step()\n",
    "\n",
    "        G_loss.append(generator_loss.item())\n",
    "\n",
    "    if (epoch+1) % 5 == 0:\n",
    "        generator.eval()\n",
    "        labels = torch.tensor([i % 10 for i in range(20)], device=device)\n",
    "        random_noise = torch.rand(20, 128, device=device)\n",
    "        images = generator(random_noise, labels).view(-1, 1, 28, 28)\n",
    "        grid = torchvision.utils.make_grid(images, nrow=5)\n",
    "        writer.add_image(f'images', grid, epoch+1)\n",
    "\n",
    "\n",
    "    writer.add_scalar(\"CGAN/Generator Loss\", np.mean(G_loss), epoch)\n",
    "    writer.add_scalar(\"CGAN/Discriminator Loss\", np.mean(D_loss), epoch)\n",
    "\n",
    "\n",
    "\n",
    "    "
   ]
  },
  {
   "cell_type": "code",
   "execution_count": 8,
   "metadata": {},
   "outputs": [
    {
     "name": "stderr",
     "output_type": "stream",
     "text": [
      "Clipping input data to the valid range for imshow with RGB data ([0..1] for floats or [0..255] for integers).\n"
     ]
    },
    {
     "data": {
      "text/plain": [
       "<matplotlib.image.AxesImage at 0x20796350d30>"
      ]
     },
     "execution_count": 8,
     "metadata": {},
     "output_type": "execute_result"
    },
    {
     "data": {
      "image/png": "[encoded data removed]",
      "text/plain": [
       "<Figure size 432x288 with 1 Axes>"
      ]
     },
     "metadata": {
      "needs_background": "light"
     },
     "output_type": "display_data"
    }
   ],
   "source": [
    "random_noise = torch.rand(10, 128, device=device)\n",
    "fake_labels = torch.tensor([i for i in range(10)], device=device)\n",
    "\n",
    "images = generator(random_noise, fake_labels).view(-1, 1, 28, 28)\n",
    "grid = torchvision.utils.make_grid(images, nrow=5)\n",
    "\n",
    "import matplotlib.pyplot as plt\n",
    "\n",
    "plt.imshow(grid.cpu().permute(1, 2, 0))\n"
   ]
  },
  {
   "cell_type": "markdown",
   "metadata": {},
   "source": [
    "You can definetely recognize some of the fashion pieces and it is quite cool, that we can decide which piece to generate with the class label. But our model tends to forget stuff it has already learned. For example the bag and the last boot looked much better a few episodes before, as you can see in Tensorflow."
   ]
  },
  {
   "cell_type": "markdown",
   "metadata": {},
   "source": [
    "## 2. Deep Convolutional GANs"
   ]
  },
  {
   "cell_type": "code",
   "execution_count": 9,
   "metadata": {},
   "outputs": [],
   "source": [
    "from DCGAN import DCGenerator, DCDiscriminator"
   ]
  },
  {
   "cell_type": "code",
   "execution_count": 10,
   "metadata": {},
   "outputs": [
    {
     "name": "stdout",
     "output_type": "stream",
     "text": [
      "Files already downloaded and verified\n"
     ]
    }
   ],
   "source": [
    "data_transforms = {\n",
    "    'train': transforms.Compose([\n",
    "        #transforms.RandomHorizontalFlip(p=0.5),\n",
    "        transforms.Resize((64,64)),\n",
    "        transforms.ToTensor(),\n",
    "        transforms.Normalize((0.5, 0.5, 0.5), (0.5, 0.5, 0.5))\n",
    "    ]),\n",
    "    'test': transforms.Compose([\n",
    "        transforms.Resize((64,64)),\n",
    "        transforms.ToTensor(),\n",
    "        transforms.Normalize((0.5, 0.5, 0.5), (0.5, 0.5, 0.5))\n",
    "    ]),\n",
    "}\n",
    "\n",
    "#We used a smaller version of the dataset because we miscalculated the training time a bit\n",
    "train_dataset = datasets.CelebA(root=\"data/\", split=\"train\", transform=data_transforms['train'], download=True)\n",
    "#train_dataset, subtrain_dataset =  torch.utils.data.random_split(train_dataset, [9984, len(train_dataset) - 9984]) \n",
    "# test_dataset = datasets.CelebA(root=\"data/\", split=\"test\", transform=data_transforms['test'], download=True)\n",
    "# test_dataset, subtrain_dataset =  torch.utils.data.random_split(test_dataset, [1000, len(test_dataset) - 1000]) \n",
    "train_loader = DataLoader(train_dataset, batch_size=BSZ, shuffle=True, drop_last=True)"
   ]
  },
  {
   "cell_type": "code",
   "execution_count": 11,
   "metadata": {},
   "outputs": [
    {
     "name": "stdout",
     "output_type": "stream",
     "text": [
      "DCGenerator(\n",
      "  (conv1): Sequential(\n",
      "    (0): ConvTranspose2d(100, 512, kernel_size=(4, 4), stride=(1, 1))\n",
      "    (1): BatchNorm2d(512, eps=1e-05, momentum=0.1, affine=True, track_running_stats=True)\n",
      "    (2): ReLU()\n",
      "  )\n",
      "  (conv2): Sequential(\n",
      "    (0): ConvTranspose2d(512, 256, kernel_size=(4, 4), stride=(2, 2), padding=(1, 1))\n",
      "    (1): BatchNorm2d(256, eps=1e-05, momentum=0.1, affine=True, track_running_stats=True)\n",
      "    (2): ReLU()\n",
      "  )\n",
      "  (conv3): Sequential(\n",
      "    (0): ConvTranspose2d(256, 128, kernel_size=(4, 4), stride=(2, 2), padding=(1, 1))\n",
      "    (1): BatchNorm2d(128, eps=1e-05, momentum=0.1, affine=True, track_running_stats=True)\n",
      "    (2): ReLU()\n",
      "  )\n",
      "  (conv4): Sequential(\n",
      "    (0): ConvTranspose2d(128, 64, kernel_size=(4, 4), stride=(2, 2), padding=(1, 1))\n",
      "    (1): BatchNorm2d(64, eps=1e-05, momentum=0.1, affine=True, track_running_stats=True)\n",
      "    (2): ReLU()\n",
      "  )\n",
      "  (conv5): Sequential(\n",
      "    (0): ConvTranspose2d(64, 3, kernel_size=(4, 4), stride=(2, 2), padding=(1, 1))\n",
      "    (1): Tanh()\n",
      "  )\n",
      ")\n"
     ]
    }
   ],
   "source": [
    "dc_generator = DCGenerator()\n",
    "print(dc_generator)"
   ]
  },
  {
   "cell_type": "code",
   "execution_count": 12,
   "metadata": {},
   "outputs": [
    {
     "name": "stdout",
     "output_type": "stream",
     "text": [
      "DCDiscriminator(\n",
      "  (layers): Sequential(\n",
      "    (0): Conv2d(3, 64, kernel_size=(4, 4), stride=(2, 2), padding=(1, 1))\n",
      "    (1): LeakyReLU(negative_slope=0.2)\n",
      "    (2): Conv2d(64, 128, kernel_size=(4, 4), stride=(2, 2), padding=(1, 1))\n",
      "    (3): BatchNorm2d(128, eps=1e-05, momentum=0.1, affine=True, track_running_stats=True)\n",
      "    (4): LeakyReLU(negative_slope=0.2)\n",
      "    (5): Conv2d(128, 256, kernel_size=(4, 4), stride=(2, 2), padding=(1, 1))\n",
      "    (6): BatchNorm2d(256, eps=1e-05, momentum=0.1, affine=True, track_running_stats=True)\n",
      "    (7): LeakyReLU(negative_slope=0.2)\n",
      "    (8): Conv2d(256, 512, kernel_size=(4, 4), stride=(2, 2), padding=(1, 1))\n",
      "    (9): BatchNorm2d(512, eps=1e-05, momentum=0.1, affine=True, track_running_stats=True)\n",
      "    (10): LeakyReLU(negative_slope=0.2)\n",
      "    (11): Conv2d(512, 1, kernel_size=(4, 4), stride=(1, 1))\n",
      "  )\n",
      ")\n"
     ]
    }
   ],
   "source": [
    "dc_discriminator = DCDiscriminator()\n",
    "print(dc_discriminator)"
   ]
  },
  {
   "cell_type": "code",
   "execution_count": 13,
   "metadata": {},
   "outputs": [],
   "source": [
    "def image_to_vector(img):\n",
    "    \"\"\" Converting images into vectors \"\"\"\n",
    "    vector = img.view(img.shape[0], -1)\n",
    "    return vector \n",
    "\n",
    "def vector_to_image(vector, shape=(3,64,64)):\n",
    "    \"\"\" Converting flattened images into matrices \"\"\"\n",
    "    images = vector.view(vector.shape[0], *shape)\n",
    "    return images"
   ]
  },
  {
   "cell_type": "code",
   "execution_count": 14,
   "metadata": {},
   "outputs": [],
   "source": [
    "class Trainer:\n",
    "    def __init__(self, generator, discriminator, device, latent_dim, writer=None):\n",
    "        assert writer is not None, f\"Tensorboard writer not set...\"\n",
    "        self.latent_dim = latent_dim\n",
    "        self.writer = writer\n",
    "        self.device = device\n",
    "        self.generator = generator.to(self.device)\n",
    "        self.discriminator = discriminator.to(self.device)\n",
    "        self.optim_DCdiscriminator = torch.optim.Adam(dc_discriminator.parameters(), lr=2e-4, betas=(0.5, 0.999))\n",
    "        self.optim_DCgenerator = torch.optim.Adam(dc_generator.parameters(), lr=2e-3, betas=(0.5, 0.999))\n",
    "        self.criterion = nn.MSELoss()\n",
    "        \n",
    "    def train_one_step(self, imgs):\n",
    "        self.generator.train()\n",
    "        self.discriminator.train()\n",
    "\n",
    "        ##################################\n",
    "        # ==== Training Discriminator ====\n",
    "        ##################################\n",
    "        \n",
    "        self.optim_DCdiscriminator.zero_grad()\n",
    "        prediction_real = self.discriminator(imgs)        \n",
    "        \n",
    "        d_loss_real = self.criterion(prediction_real, torch.ones((BSZ,1), device=device))\n",
    "        \n",
    "        # Generating fake samples with the generator\n",
    "        fake_samples = self.generator(torch.randn(BSZ, self.latent_dim).to(device))\n",
    "        prediction_fake = self.discriminator(fake_samples.detach())\n",
    "        \n",
    "        d_loss_fake = self.criterion(prediction_fake, torch.zeros((BSZ,1), device=device))\n",
    "        d_loss = d_loss_real + d_loss_fake\n",
    "        d_loss.backward()\n",
    "        \n",
    "        torch.nn.utils.clip_grad_norm_(self.discriminator.parameters(), 3.0)\n",
    "        self.optim_DCdiscriminator.step()\n",
    "        \n",
    "        #############################\n",
    "        # === Train the generator ===\n",
    "        #############################\n",
    "        self.optim_DCgenerator.zero_grad()\n",
    "        prediction_fake_g = self.discriminator(fake_samples)\n",
    "        g_loss = self.criterion(prediction_fake_g, torch.ones((BSZ,1), device=device))\n",
    "        g_loss.backward()\n",
    "        self.optim_DCgenerator.step()\n",
    "        return d_loss, g_loss\n",
    "\n",
    "    @torch.no_grad()\n",
    "    def generate(self, BSZ=64):\n",
    "        \"\"\" Generating a bunch of images using current state of generator \"\"\"\n",
    "        self.generator.eval()\n",
    "        latent = torch.randn(BSZ, self.latent_dim).to(device)\n",
    "        samples = self.generator(latent)\n",
    "        imgs = vector_to_image(samples)\n",
    "        imgs = imgs * 0.5 + 0.5\n",
    "        return imgs\n",
    "    \n",
    "    def train(self, data_loader, N_iters=10, init_step=0):\n",
    "        \n",
    "        progress_bar = tqdm(total=N_iters, initial=init_step)\n",
    "        running_d_loss = 0\n",
    "        running_g_loss = 0\n",
    "        \n",
    "        iter_ = 0\n",
    "        for i in range(N_iters):\n",
    "            for real_batch, _ in data_loader:           \n",
    "                #real_samples = image_to_vector(real_batch)\n",
    "                #real_samples = real_samples.to(self.device)\n",
    "                real_samples = real_batch.to(self.device)\n",
    "                d_loss, g_loss = self.train_one_step(imgs=real_samples)\n",
    "            \n",
    "                # updating progress bar\n",
    "                progress_bar.set_description(f\"Ep {i+1} Iter {iter_}: D_Loss={round(d_loss.item(),5)}, G_Loss={round(g_loss.item(),5)})\")\n",
    "                \n",
    "                # adding stuff to tensorboard\n",
    "                self.writer.add_scalar(f'Loss/Discriminator Loss', d_loss.item(), global_step=iter_)\n",
    "                self.writer.add_scalar(f'Loss/Generator Loss', g_loss.item(), global_step=iter_)\n",
    "                self.writer.add_scalars(f'Comb_Loss/Losses', {\n",
    "                            'Discriminator': d_loss.item(),\n",
    "                            'Generator':  g_loss.item()\n",
    "                        }, iter_)    \n",
    "                if(iter_ % 200 == 0):\n",
    "                    imgs = self.generate()\n",
    "                    grid = torchvision.utils.make_grid(imgs, nrow=8)\n",
    "                    self.writer.add_image('images', grid, global_step=iter_)\n",
    "                    torchvision.utils.save_image(grid, os.path.join(os.getcwd(), \"imgs\", \"training\", f\"imgs_{iter_}.png\"))\n",
    "\n",
    "                iter_ = iter_ + 1 \n",
    "                \n",
    "        return"
   ]
  },
  {
   "cell_type": "code",
   "execution_count": 15,
   "metadata": {},
   "outputs": [],
   "source": [
    "if not os.path.exists(\"imgs\"):\n",
    "    os.makedirs(\"imgs\")\n",
    "if os.path.exists(\"imgs/training\"):  \n",
    "    shutil.rmtree(\"imgs/training\")\n",
    "\n",
    "if not os.path.exists(\"imgs/training\"):\n",
    "    os.makedirs(\"imgs/training\")"
   ]
  },
  {
   "cell_type": "code",
   "execution_count": 16,
   "metadata": {},
   "outputs": [],
   "source": [
    "GAN_LOGS = os.path.join(os.getcwd(), \"tboard_logs\", \"DCGAN\")\n",
    "if not os.path.exists(GAN_LOGS):\n",
    "    os.makedirs(GAN_LOGS)\n",
    "\n",
    "shutil.rmtree(GAN_LOGS)\n",
    "writer = SummaryWriter(GAN_LOGS)"
   ]
  },
  {
   "cell_type": "code",
   "execution_count": 17,
   "metadata": {},
   "outputs": [],
   "source": [
    "trainer = Trainer(generator=dc_generator, discriminator=dc_discriminator, device=device, latent_dim=100, writer=writer)"
   ]
  },
  {
   "cell_type": "code",
   "execution_count": 18,
   "metadata": {},
   "outputs": [
    {
     "name": "stderr",
     "output_type": "stream",
     "text": [
      "Ep 4 Iter 8486: D_Loss=0.55923, G_Loss=0.98326):   0%|          | 0/10 [13:19<?, ?it/s]"
     ]
    },
    {
     "ename": "KeyboardInterrupt",
     "evalue": "",
     "output_type": "error",
     "traceback": [
      "\u001b[1;31m---------------------------------------------------------------------------\u001b[0m",
      "\u001b[1;31mKeyboardInterrupt\u001b[0m                         Traceback (most recent call last)",
      "\u001b[1;32mf:\\Uni\\Cuda-Lab\\Cuda_Lab\\sheet07\\gan-notebook.ipynb Cell 21'\u001b[0m in \u001b[0;36m<cell line: 1>\u001b[1;34m()\u001b[0m\n\u001b[1;32m----> <a href='vscode-notebook-cell:/f%3A/Uni/Cuda-Lab/Cuda_Lab/sheet07/gan-notebook.ipynb#ch0000019?line=0'>1</a>\u001b[0m trainer\u001b[39m.\u001b[39;49mtrain(data_loader\u001b[39m=\u001b[39;49mtrain_loader)\n",
      "\u001b[1;32mf:\\Uni\\Cuda-Lab\\Cuda_Lab\\sheet07\\gan-notebook.ipynb Cell 17'\u001b[0m in \u001b[0;36mTrainer.train\u001b[1;34m(self, data_loader, N_iters, init_step)\u001b[0m\n\u001b[0;32m     <a href='vscode-notebook-cell:/f%3A/Uni/Cuda-Lab/Cuda_Lab/sheet07/gan-notebook.ipynb#ch0000015?line=68'>69</a>\u001b[0m d_loss, g_loss \u001b[39m=\u001b[39m \u001b[39mself\u001b[39m\u001b[39m.\u001b[39mtrain_one_step(imgs\u001b[39m=\u001b[39mreal_samples)\n\u001b[0;32m     <a href='vscode-notebook-cell:/f%3A/Uni/Cuda-Lab/Cuda_Lab/sheet07/gan-notebook.ipynb#ch0000015?line=70'>71</a>\u001b[0m \u001b[39m# updating progress bar\u001b[39;00m\n\u001b[1;32m---> <a href='vscode-notebook-cell:/f%3A/Uni/Cuda-Lab/Cuda_Lab/sheet07/gan-notebook.ipynb#ch0000015?line=71'>72</a>\u001b[0m progress_bar\u001b[39m.\u001b[39mset_description(\u001b[39mf\u001b[39m\u001b[39m\"\u001b[39m\u001b[39mEp \u001b[39m\u001b[39m{\u001b[39;00mi\u001b[39m+\u001b[39m\u001b[39m1\u001b[39m\u001b[39m}\u001b[39;00m\u001b[39m Iter \u001b[39m\u001b[39m{\u001b[39;00miter_\u001b[39m}\u001b[39;00m\u001b[39m: D_Loss=\u001b[39m\u001b[39m{\u001b[39;00m\u001b[39mround\u001b[39m(d_loss\u001b[39m.\u001b[39mitem(),\u001b[39m5\u001b[39m)\u001b[39m}\u001b[39;00m\u001b[39m, G_Loss=\u001b[39m\u001b[39m{\u001b[39;00m\u001b[39mround\u001b[39m(g_loss\u001b[39m.\u001b[39mitem(),\u001b[39m5\u001b[39m)\u001b[39m}\u001b[39;00m\u001b[39m)\u001b[39m\u001b[39m\"\u001b[39m)\n\u001b[0;32m     <a href='vscode-notebook-cell:/f%3A/Uni/Cuda-Lab/Cuda_Lab/sheet07/gan-notebook.ipynb#ch0000015?line=73'>74</a>\u001b[0m \u001b[39m# adding stuff to tensorboard\u001b[39;00m\n\u001b[0;32m     <a href='vscode-notebook-cell:/f%3A/Uni/Cuda-Lab/Cuda_Lab/sheet07/gan-notebook.ipynb#ch0000015?line=74'>75</a>\u001b[0m \u001b[39mself\u001b[39m\u001b[39m.\u001b[39mwriter\u001b[39m.\u001b[39madd_scalar(\u001b[39mf\u001b[39m\u001b[39m'\u001b[39m\u001b[39mLoss/Discriminator Loss\u001b[39m\u001b[39m'\u001b[39m, d_loss\u001b[39m.\u001b[39mitem(), global_step\u001b[39m=\u001b[39miter_)\n",
      "\u001b[1;31mKeyboardInterrupt\u001b[0m: "
     ]
    }
   ],
   "source": [
    "trainer.train(data_loader=train_loader)"
   ]
  },
  {
   "cell_type": "markdown",
   "metadata": {},
   "source": [
    "This is a very similar picture to the CGAN we saw earlier. Some of the epochs produce quite nice pictures of fake celebrities but sometimes the network seems to just go into a completely different direction with the gradient.\n",
    "\n",
    "You can have a look ath the images in tensorboard."
   ]
  },
  {
   "cell_type": "markdown",
   "metadata": {},
   "source": [
    "### Wasserstein GANs"
   ]
  },
  {
   "cell_type": "code",
   "execution_count": 19,
   "metadata": {},
   "outputs": [],
   "source": [
    "class discriminator_loss(nn.Module):\n",
    "    \n",
    "    def forward(self, real, fake):\n",
    "        return - torch.mean(real.reshape(-1)) + torch.mean(fake.reshape(-1))\n",
    "\n",
    "class generator_loss(nn.Module):\n",
    "    \n",
    "    def forward(self, fake):\n",
    "        return - torch.mean(fake.reshape(-1))"
   ]
  },
  {
   "cell_type": "code",
   "execution_count": 20,
   "metadata": {},
   "outputs": [],
   "source": [
    "dc_generator = DCGenerator()\n",
    "dc_discriminator = DCDiscriminator()"
   ]
  },
  {
   "cell_type": "code",
   "execution_count": 21,
   "metadata": {},
   "outputs": [],
   "source": [
    "class WTrainer:\n",
    "    def __init__(self, generator, discriminator, device, latent_dim, writer=None):\n",
    "        assert writer is not None, f\"Tensorboard writer not set...\"\n",
    "        self.latent_dim = latent_dim\n",
    "        self.writer = writer\n",
    "        self.device = device\n",
    "        self.generator = generator.to(self.device)\n",
    "        self.discriminator = discriminator.to(self.device)\n",
    "        self.optim_DCdiscriminator = torch.optim.RMSprop(dc_discriminator.parameters(), lr=5e-5)\n",
    "        self.optim_DCgenerator = torch.optim.RMSprop(dc_generator.parameters(), lr=5e-5)\n",
    "        self.criterion_d = discriminator_loss()\n",
    "        self.criterion_g = generator_loss()\n",
    "        \n",
    "        \n",
    "    def train_one_step(self, imgs):\n",
    "        self.generator.train()\n",
    "        self.discriminator.train()\n",
    "\n",
    "        ##################################\n",
    "        # ==== Training Discriminator ====\n",
    "        ##################################\n",
    "        \n",
    "        self.optim_DCdiscriminator.zero_grad()\n",
    "        prediction_real = self.discriminator(imgs)        \n",
    "        \n",
    "        # Generating fake samples with the generator\n",
    "        fake_samples = self.generator(torch.randn(BSZ, self.latent_dim).to(device))\n",
    "        prediction_fake = self.discriminator(fake_samples.detach())\n",
    "        \n",
    "        d_loss = self.criterion_d(prediction_real, prediction_fake)\n",
    "        d_loss.backward()\n",
    "        \n",
    "        self.optim_DCdiscriminator.step()\n",
    "        #torch.nn.utils.clip_grad_norm_(self.discriminator.parameters(), 3.0)\n",
    "        \n",
    "        for p in self.discriminator.parameters():\n",
    "                p.data.clamp_(-0.01, 0.01)\n",
    "        \n",
    "        #############################\n",
    "        # === Train the generator ===\n",
    "        #############################\n",
    "        self.optim_DCgenerator.zero_grad()\n",
    "        prediction_fake_g = self.discriminator(fake_samples)\n",
    "        g_loss = self.criterion_g(prediction_fake_g)\n",
    "        g_loss.backward()\n",
    "        self.optim_DCgenerator.step()\n",
    "        return d_loss, g_loss\n",
    "\n",
    "    @torch.no_grad()\n",
    "    def generate(self, BSZ=64):\n",
    "        \"\"\" Generating a bunch of images using current state of generator \"\"\"\n",
    "        self.generator.eval()\n",
    "        latent = torch.randn(BSZ, self.latent_dim).to(device)\n",
    "        samples = self.generator(latent)\n",
    "        imgs = vector_to_image(samples)\n",
    "        imgs = imgs * 0.5 + 0.5\n",
    "        return imgs\n",
    "    \n",
    "    def train(self, data_loader, N_iters=10, init_step=0):\n",
    "        \n",
    "        progress_bar = tqdm(total=N_iters, initial=init_step)\n",
    "        running_d_loss = 0\n",
    "        running_g_loss = 0\n",
    "        \n",
    "        iter_ = 0\n",
    "        for i in range(N_iters):\n",
    "            for real_batch, _ in data_loader:           \n",
    "                #real_samples = image_to_vector(real_batch)\n",
    "                #real_samples = real_samples.to(self.device)\n",
    "                real_samples = real_batch.to(self.device)\n",
    "                d_loss, g_loss = self.train_one_step(imgs=real_samples)\n",
    "            \n",
    "                # updating progress bar\n",
    "                progress_bar.set_description(f\"Ep {i+1} Iter {iter_}: D_Loss={round(d_loss.item(),5)}, G_Loss={round(g_loss.item(),5)})\")\n",
    "                \n",
    "                # adding stuff to tensorboard\n",
    "                self.writer.add_scalar(f'Loss/Discriminator Loss', d_loss.item(), global_step=iter_)\n",
    "                self.writer.add_scalar(f'Loss/Generator Loss', g_loss.item(), global_step=iter_)\n",
    "                self.writer.add_scalars(f'Comb_Loss/Losses', {\n",
    "                            'Discriminator': d_loss.item(),\n",
    "                            'Generator':  g_loss.item()\n",
    "                        }, iter_)    \n",
    "                if(iter_ % 200 == 0):\n",
    "                    imgs = self.generate()\n",
    "                    grid = torchvision.utils.make_grid(imgs, nrow=8)\n",
    "                    self.writer.add_image('images', grid, global_step=iter_)\n",
    "                    torchvision.utils.save_image(grid, os.path.join(os.getcwd(), \"imgs\", \"training_w\", f\"imgs_{iter_}.png\"))\n",
    "\n",
    "                iter_ = iter_ + 1 \n",
    "                \n",
    "        return"
   ]
  },
  {
   "cell_type": "code",
   "execution_count": 22,
   "metadata": {},
   "outputs": [],
   "source": [
    "if not os.path.exists(\"imgs\"):\n",
    "    os.makedirs(\"imgs\")\n",
    "if os.path.exists(\"imgs/training_w\"):  \n",
    "    shutil.rmtree(\"imgs/training_w\")\n",
    "if not os.path.exists(\"imgs/training_w\"):\n",
    "    os.makedirs(\"imgs/training_w\")\n"
   ]
  },
  {
   "cell_type": "code",
   "execution_count": 23,
   "metadata": {},
   "outputs": [],
   "source": [
    "GAN_LOGS = os.path.join(os.getcwd(), \"tboard_logs\", \"WassersteinGAN\")\n",
    "if not os.path.exists(GAN_LOGS):\n",
    "    os.makedirs(GAN_LOGS)\n",
    "\n",
    "shutil.rmtree(GAN_LOGS)\n",
    "writer = SummaryWriter(GAN_LOGS)"
   ]
  },
  {
   "cell_type": "code",
   "execution_count": 24,
   "metadata": {},
   "outputs": [],
   "source": [
    "trainer = WTrainer(generator=dc_generator, discriminator=dc_discriminator, device=device, latent_dim=100, writer=writer)"
   ]
  },
  {
   "cell_type": "code",
   "execution_count": 25,
   "metadata": {},
   "outputs": [
    {
     "name": "stderr",
     "output_type": "stream",
     "text": []
    },
    {
     "ename": "KeyboardInterrupt",
     "evalue": "",
     "output_type": "error",
     "traceback": [
      "\u001b[1;31m---------------------------------------------------------------------------\u001b[0m",
      "\u001b[1;31mKeyboardInterrupt\u001b[0m                         Traceback (most recent call last)",
      "\u001b[1;32mf:\\Uni\\Cuda-Lab\\Cuda_Lab\\sheet07\\gan-notebook.ipynb Cell 30'\u001b[0m in \u001b[0;36m<cell line: 1>\u001b[1;34m()\u001b[0m\n\u001b[1;32m----> <a href='vscode-notebook-cell:/f%3A/Uni/Cuda-Lab/Cuda_Lab/sheet07/gan-notebook.ipynb#ch0000027?line=0'>1</a>\u001b[0m trainer\u001b[39m.\u001b[39;49mtrain(data_loader\u001b[39m=\u001b[39;49mtrain_loader)\n",
      "\u001b[1;32mf:\\Uni\\Cuda-Lab\\Cuda_Lab\\sheet07\\gan-notebook.ipynb Cell 26'\u001b[0m in \u001b[0;36mWTrainer.train\u001b[1;34m(self, data_loader, N_iters, init_step)\u001b[0m\n\u001b[0;32m     <a href='vscode-notebook-cell:/f%3A/Uni/Cuda-Lab/Cuda_Lab/sheet07/gan-notebook.ipynb#ch0000023?line=70'>71</a>\u001b[0m d_loss, g_loss \u001b[39m=\u001b[39m \u001b[39mself\u001b[39m\u001b[39m.\u001b[39mtrain_one_step(imgs\u001b[39m=\u001b[39mreal_samples)\n\u001b[0;32m     <a href='vscode-notebook-cell:/f%3A/Uni/Cuda-Lab/Cuda_Lab/sheet07/gan-notebook.ipynb#ch0000023?line=72'>73</a>\u001b[0m \u001b[39m# updating progress bar\u001b[39;00m\n\u001b[1;32m---> <a href='vscode-notebook-cell:/f%3A/Uni/Cuda-Lab/Cuda_Lab/sheet07/gan-notebook.ipynb#ch0000023?line=73'>74</a>\u001b[0m progress_bar\u001b[39m.\u001b[39mset_description(\u001b[39mf\u001b[39m\u001b[39m\"\u001b[39m\u001b[39mEp \u001b[39m\u001b[39m{\u001b[39;00mi\u001b[39m+\u001b[39m\u001b[39m1\u001b[39m\u001b[39m}\u001b[39;00m\u001b[39m Iter \u001b[39m\u001b[39m{\u001b[39;00miter_\u001b[39m}\u001b[39;00m\u001b[39m: D_Loss=\u001b[39m\u001b[39m{\u001b[39;00m\u001b[39mround\u001b[39m(d_loss\u001b[39m.\u001b[39mitem(),\u001b[39m5\u001b[39m)\u001b[39m}\u001b[39;00m\u001b[39m, G_Loss=\u001b[39m\u001b[39m{\u001b[39;00m\u001b[39mround\u001b[39m(g_loss\u001b[39m.\u001b[39mitem(),\u001b[39m5\u001b[39m)\u001b[39m}\u001b[39;00m\u001b[39m)\u001b[39m\u001b[39m\"\u001b[39m)\n\u001b[0;32m     <a href='vscode-notebook-cell:/f%3A/Uni/Cuda-Lab/Cuda_Lab/sheet07/gan-notebook.ipynb#ch0000023?line=75'>76</a>\u001b[0m \u001b[39m# adding stuff to tensorboard\u001b[39;00m\n\u001b[0;32m     <a href='vscode-notebook-cell:/f%3A/Uni/Cuda-Lab/Cuda_Lab/sheet07/gan-notebook.ipynb#ch0000023?line=76'>77</a>\u001b[0m \u001b[39mself\u001b[39m\u001b[39m.\u001b[39mwriter\u001b[39m.\u001b[39madd_scalar(\u001b[39mf\u001b[39m\u001b[39m'\u001b[39m\u001b[39mLoss/Discriminator Loss\u001b[39m\u001b[39m'\u001b[39m, d_loss\u001b[39m.\u001b[39mitem(), global_step\u001b[39m=\u001b[39miter_)\n",
      "\u001b[1;31mKeyboardInterrupt\u001b[0m: "
     ]
    }
   ],
   "source": [
    "trainer.train(data_loader=train_loader)"
   ]
  },
  {
   "cell_type": "markdown",
   "metadata": {},
   "source": [
    "The WatersteinGan images only look okay in our eyes. They are to vibrant and lack detail to be close to real images."
   ]
  },
  {
   "cell_type": "markdown",
   "metadata": {},
   "source": []
  }
 ],
 "metadata": {
  "kernelspec": {
   "display_name": "Python 3",
   "language": "python",
   "name": "python3"
  },
  "language_info": {
   "codemirror_mode": {
    "name": "ipython",
    "version": 3
   },
   "file_extension": ".py",
   "mimetype": "text/x-python",
   "name": "python",
   "nbconvert_exporter": "python",
   "pygments_lexer": "ipython3",
   "version": "3.9.5"
  },
  "vscode": {
   "interpreter": {
    "hash": "53255508f1ba9865586e3e7b5d3e6f61e5dc26822489f7f6790e2b183ae9e4dc"
   }
  }
 },
 "nbformat": 4,
 "nbformat_minor": 2
}
