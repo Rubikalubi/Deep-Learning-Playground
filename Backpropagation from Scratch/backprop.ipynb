{
 "cells": [
  {
   "cell_type": "code",
   "execution_count": 1,
   "id": "730f6a12",
   "metadata": {},
   "outputs": [],
   "source": [
    "import torch\n",
    "import torch.nn as nn\n",
    "import torchvision.transforms as transforms\n",
    "import torchvision.datasets as datasets\n",
    "from torch.utils.data import DataLoader\n",
    "from tqdm import tqdm\n",
    "from PIL import Image\n",
    "import matplotlib.pyplot as plt\n",
    "import seaborn as sns"
   ]
  },
  {
   "cell_type": "code",
   "execution_count": 2,
   "id": "c9f8c152",
   "metadata": {},
   "outputs": [],
   "source": [
    "BSZ = 16\n",
    "EPOCH = 20\n",
    "#device = torch.device(\"cuda\" if torch.cuda.is_available() else \"cpu\")\n",
    "device = \"cpu\""
   ]
  },
  {
   "cell_type": "code",
   "execution_count": 3,
   "id": "aed284a2",
   "metadata": {},
   "outputs": [],
   "source": [
    "def sigmoid(x, deriv=False):\n",
    "  \"\"\"\n",
    "  returns the derivative or \n",
    "  \"\"\"\n",
    "  if deriv:\n",
    "      return sigmoid(x) * (1-sigmoid(x))\n",
    "  return (1.0 / (1.0 + torch.exp(-x)))\n",
    "\n",
    "\n",
    "def softmax(x):\n",
    "  \"\"\"\n",
    "  implementation for the sigmoid function for the forward pass\n",
    "  pay attention to sum dimension and .view(-1,1)\n",
    "  \"\"\"\n",
    "  exps = torch.exp(x)\n",
    "  sums = torch.sum(exps, dim=1).view(-1,1) \n",
    "  return torch.div(exps, sums)\n",
    "\n",
    "def delta_cross_entropy(X,y):\n",
    "  \"\"\"\n",
    "  Derivative is taken from here https://deepnotes.io/softmax-crossentropy#derivative-of-cross-entropy-loss-with-softmax\n",
    "  and adapted for softmax already applied to the input\n",
    "\n",
    "  calculates the gradient of the cross entropy loss with softmax\n",
    "  X is the output from the ouput layer, softmax is already applied\n",
    "  y are the labels, one hot encoded\n",
    "  \"\"\"\n",
    "  m = y.size()[0]\n",
    "  grad = X\n",
    "  grad = grad - y\n",
    "  grad = grad/m\n",
    "  return grad\n",
    "\n",
    "\n",
    "def crossEntropy(predictions, targets):\n",
    "  \"\"\"\n",
    "  prediction is a list of torch tensors, and target is a list of one hot encoded targets\n",
    "  \"\"\"\n",
    "  loss = [- torch.sum(t * torch.log(p)) for p,t in zip(predictions,targets)]\n",
    "  return sum(loss) / len(loss)\n",
    "\n",
    "\n",
    "class simpleMLP:\n",
    "  def __init__(self, input_dim, hidden_dim, output_dim, lr):\n",
    "      self.input_dim = input_dim\n",
    "      self.hidden_dim = hidden_dim\n",
    "      self.output_dim = output_dim\n",
    "      self.lr = lr\n",
    "      #init weights, which are uniformly distributed in [-0.5, 0.5]\n",
    "      self.W1 = torch.rand(self.input_dim, self.hidden_dim, dtype=torch.float32) - 0.5\n",
    "      self.W2 = torch.rand(self.hidden_dim, self.output_dim, dtype=torch.float32) - 0.5\n",
    "\n",
    "  def forward(self, mini_batch):\n",
    "    hidden_output = sigmoid(torch.matmul(mini_batch, self.W1))\n",
    "    #we used the derivative for cross entropy with softmax from this website\n",
    "    #https://deepnotes.io/softmax-crossentropy#derivative-of-cross-entropy-loss-with-softmax \n",
    "    output = softmax(torch.matmul(hidden_output, self.W2))\n",
    "    return hidden_output, output\n",
    "\n",
    "  def backward(self, input_batch, hidden_output, output, labels):\n",
    "\n",
    "    #calculate the loss (only for plotting)\n",
    "    loss = crossEntropy(output, torch.nn.functional.one_hot(labels, num_classes=10))\n",
    "    #calculate the delta for the second layer\n",
    "    second_delta = delta_cross_entropy(output, torch.nn.functional.one_hot(labels, num_classes=10))\n",
    "\n",
    "\n",
    "    #calculate the deltas for the first layer\n",
    "    hidden_delta = torch.matmul(second_delta, self.W2.T)\n",
    "    first_delta = hidden_delta * sigmoid(hidden_output, deriv=True)\n",
    "\n",
    "\n",
    "    #SGD execution\n",
    "    self.W2 -= self.lr * torch.matmul(hidden_output.T, second_delta)\n",
    "    self.W1 -= self.lr * torch.matmul(input_batch.T, first_delta)\n",
    "    return loss\n",
    "\n",
    "\n"
   ]
  },
  {
   "cell_type": "code",
   "execution_count": 4,
   "id": "9940660b",
   "metadata": {},
   "outputs": [],
   "source": [
    "data_transform = transforms.Compose([transforms.Resize(32), transforms.ToTensor()])\n",
    "train_dataset = datasets.MNIST(root='./data', train=True, transform=data_transform, download=True)\n",
    "test_dataset = datasets.MNIST(root='./data', train=False, transform=data_transform, download=True)"
   ]
  },
  {
   "cell_type": "code",
   "execution_count": 5,
   "id": "c4493fc7",
   "metadata": {},
   "outputs": [],
   "source": [
    "train_loader = DataLoader(train_dataset, batch_size=BSZ, shuffle=True, drop_last=False)\n",
    "test_loader = DataLoader(train_dataset, batch_size=BSZ, shuffle=True, drop_last=False)"
   ]
  },
  {
   "cell_type": "code",
   "execution_count": 6,
   "id": "f648207e",
   "metadata": {},
   "outputs": [],
   "source": [
    "model = simpleMLP(1024, 128, 10, 1e-3)"
   ]
  },
  {
   "cell_type": "code",
   "execution_count": 7,
   "id": "2c0a7578",
   "metadata": {},
   "outputs": [
    {
     "name": "stderr",
     "output_type": "stream",
     "text": [
      "100%|██████████| 3750/3750 [00:11<00:00, 313.95it/s]\n"
     ]
    },
    {
     "name": "stdout",
     "output_type": "stream",
     "text": [
      "Epochs: 1/20 batch_loss:1.9265\n"
     ]
    },
    {
     "name": "stderr",
     "output_type": "stream",
     "text": [
      "100%|██████████| 3750/3750 [00:08<00:00, 428.61it/s]\n"
     ]
    },
    {
     "name": "stdout",
     "output_type": "stream",
     "text": [
      "Epochs: 1/20 Accuracy:0.5886\n"
     ]
    },
    {
     "name": "stderr",
     "output_type": "stream",
     "text": [
      "100%|██████████| 3750/3750 [00:11<00:00, 324.24it/s]\n"
     ]
    },
    {
     "name": "stdout",
     "output_type": "stream",
     "text": [
      "Epochs: 2/20 batch_loss:1.1412\n"
     ]
    },
    {
     "name": "stderr",
     "output_type": "stream",
     "text": [
      "100%|██████████| 3750/3750 [00:08<00:00, 429.73it/s]\n"
     ]
    },
    {
     "name": "stdout",
     "output_type": "stream",
     "text": [
      "Epochs: 2/20 Accuracy:0.7253\n"
     ]
    },
    {
     "name": "stderr",
     "output_type": "stream",
     "text": [
      "100%|██████████| 3750/3750 [00:11<00:00, 318.84it/s]\n"
     ]
    },
    {
     "name": "stdout",
     "output_type": "stream",
     "text": [
      "Epochs: 3/20 batch_loss:0.8835\n"
     ]
    },
    {
     "name": "stderr",
     "output_type": "stream",
     "text": [
      "100%|██████████| 3750/3750 [00:09<00:00, 414.49it/s]\n"
     ]
    },
    {
     "name": "stdout",
     "output_type": "stream",
     "text": [
      "Epochs: 3/20 Accuracy:0.7836\n"
     ]
    },
    {
     "name": "stderr",
     "output_type": "stream",
     "text": [
      "100%|██████████| 3750/3750 [00:11<00:00, 332.62it/s]\n"
     ]
    },
    {
     "name": "stdout",
     "output_type": "stream",
     "text": [
      "Epochs: 4/20 batch_loss:0.7522\n"
     ]
    },
    {
     "name": "stderr",
     "output_type": "stream",
     "text": [
      "100%|██████████| 3750/3750 [00:08<00:00, 459.94it/s]\n"
     ]
    },
    {
     "name": "stdout",
     "output_type": "stream",
     "text": [
      "Epochs: 4/20 Accuracy:0.8099\n"
     ]
    },
    {
     "name": "stderr",
     "output_type": "stream",
     "text": [
      "100%|██████████| 3750/3750 [00:10<00:00, 343.30it/s]\n"
     ]
    },
    {
     "name": "stdout",
     "output_type": "stream",
     "text": [
      "Epochs: 5/20 batch_loss:0.6719\n"
     ]
    },
    {
     "name": "stderr",
     "output_type": "stream",
     "text": [
      "100%|██████████| 3750/3750 [00:08<00:00, 449.55it/s]\n"
     ]
    },
    {
     "name": "stdout",
     "output_type": "stream",
     "text": [
      "Epochs: 5/20 Accuracy:0.8258\n"
     ]
    },
    {
     "name": "stderr",
     "output_type": "stream",
     "text": [
      "100%|██████████| 3750/3750 [00:11<00:00, 322.32it/s]\n"
     ]
    },
    {
     "name": "stdout",
     "output_type": "stream",
     "text": [
      "Epochs: 6/20 batch_loss:0.6175\n"
     ]
    },
    {
     "name": "stderr",
     "output_type": "stream",
     "text": [
      "100%|██████████| 3750/3750 [00:08<00:00, 455.31it/s]\n"
     ]
    },
    {
     "name": "stdout",
     "output_type": "stream",
     "text": [
      "Epochs: 6/20 Accuracy:0.8372\n"
     ]
    },
    {
     "name": "stderr",
     "output_type": "stream",
     "text": [
      "100%|██████████| 3750/3750 [00:10<00:00, 345.93it/s]\n"
     ]
    },
    {
     "name": "stdout",
     "output_type": "stream",
     "text": [
      "Epochs: 7/20 batch_loss:0.5780\n"
     ]
    },
    {
     "name": "stderr",
     "output_type": "stream",
     "text": [
      "100%|██████████| 3750/3750 [00:08<00:00, 446.10it/s]\n"
     ]
    },
    {
     "name": "stdout",
     "output_type": "stream",
     "text": [
      "Epochs: 7/20 Accuracy:0.8447\n"
     ]
    },
    {
     "name": "stderr",
     "output_type": "stream",
     "text": [
      "100%|██████████| 3750/3750 [00:11<00:00, 333.19it/s]\n"
     ]
    },
    {
     "name": "stdout",
     "output_type": "stream",
     "text": [
      "Epochs: 8/20 batch_loss:0.5478\n"
     ]
    },
    {
     "name": "stderr",
     "output_type": "stream",
     "text": [
      "100%|██████████| 3750/3750 [00:08<00:00, 454.67it/s]\n"
     ]
    },
    {
     "name": "stdout",
     "output_type": "stream",
     "text": [
      "Epochs: 8/20 Accuracy:0.8512\n"
     ]
    },
    {
     "name": "stderr",
     "output_type": "stream",
     "text": [
      "100%|██████████| 3750/3750 [00:11<00:00, 339.98it/s]\n"
     ]
    },
    {
     "name": "stdout",
     "output_type": "stream",
     "text": [
      "Epochs: 9/20 batch_loss:0.5237\n"
     ]
    },
    {
     "name": "stderr",
     "output_type": "stream",
     "text": [
      "100%|██████████| 3750/3750 [00:08<00:00, 458.01it/s]\n"
     ]
    },
    {
     "name": "stdout",
     "output_type": "stream",
     "text": [
      "Epochs: 9/20 Accuracy:0.8569\n"
     ]
    },
    {
     "name": "stderr",
     "output_type": "stream",
     "text": [
      "100%|██████████| 3750/3750 [00:10<00:00, 345.60it/s]\n"
     ]
    },
    {
     "name": "stdout",
     "output_type": "stream",
     "text": [
      "Epochs: 10/20 batch_loss:0.5040\n"
     ]
    },
    {
     "name": "stderr",
     "output_type": "stream",
     "text": [
      "100%|██████████| 3750/3750 [00:08<00:00, 457.15it/s]\n"
     ]
    },
    {
     "name": "stdout",
     "output_type": "stream",
     "text": [
      "Epochs: 10/20 Accuracy:0.8603\n"
     ]
    },
    {
     "name": "stderr",
     "output_type": "stream",
     "text": [
      "100%|██████████| 3750/3750 [00:10<00:00, 342.85it/s]\n"
     ]
    },
    {
     "name": "stdout",
     "output_type": "stream",
     "text": [
      "Epochs: 11/20 batch_loss:0.4875\n"
     ]
    },
    {
     "name": "stderr",
     "output_type": "stream",
     "text": [
      "100%|██████████| 3750/3750 [00:08<00:00, 455.89it/s]\n"
     ]
    },
    {
     "name": "stdout",
     "output_type": "stream",
     "text": [
      "Epochs: 11/20 Accuracy:0.8644\n"
     ]
    },
    {
     "name": "stderr",
     "output_type": "stream",
     "text": [
      "100%|██████████| 3750/3750 [00:10<00:00, 342.15it/s]\n"
     ]
    },
    {
     "name": "stdout",
     "output_type": "stream",
     "text": [
      "Epochs: 12/20 batch_loss:0.4736\n"
     ]
    },
    {
     "name": "stderr",
     "output_type": "stream",
     "text": [
      "100%|██████████| 3750/3750 [00:08<00:00, 452.13it/s]\n"
     ]
    },
    {
     "name": "stdout",
     "output_type": "stream",
     "text": [
      "Epochs: 12/20 Accuracy:0.8682\n"
     ]
    },
    {
     "name": "stderr",
     "output_type": "stream",
     "text": [
      "100%|██████████| 3750/3750 [00:11<00:00, 331.07it/s]\n"
     ]
    },
    {
     "name": "stdout",
     "output_type": "stream",
     "text": [
      "Epochs: 13/20 batch_loss:0.4614\n"
     ]
    },
    {
     "name": "stderr",
     "output_type": "stream",
     "text": [
      "100%|██████████| 3750/3750 [00:08<00:00, 437.88it/s]\n"
     ]
    },
    {
     "name": "stdout",
     "output_type": "stream",
     "text": [
      "Epochs: 13/20 Accuracy:0.8709\n"
     ]
    },
    {
     "name": "stderr",
     "output_type": "stream",
     "text": [
      "100%|██████████| 3750/3750 [00:11<00:00, 337.81it/s]\n"
     ]
    },
    {
     "name": "stdout",
     "output_type": "stream",
     "text": [
      "Epochs: 14/20 batch_loss:0.4509\n"
     ]
    },
    {
     "name": "stderr",
     "output_type": "stream",
     "text": [
      "100%|██████████| 3750/3750 [00:08<00:00, 436.51it/s]\n"
     ]
    },
    {
     "name": "stdout",
     "output_type": "stream",
     "text": [
      "Epochs: 14/20 Accuracy:0.8736\n"
     ]
    },
    {
     "name": "stderr",
     "output_type": "stream",
     "text": [
      "100%|██████████| 3750/3750 [00:11<00:00, 327.38it/s]\n"
     ]
    },
    {
     "name": "stdout",
     "output_type": "stream",
     "text": [
      "Epochs: 15/20 batch_loss:0.4415\n"
     ]
    },
    {
     "name": "stderr",
     "output_type": "stream",
     "text": [
      "100%|██████████| 3750/3750 [00:08<00:00, 430.49it/s]\n"
     ]
    },
    {
     "name": "stdout",
     "output_type": "stream",
     "text": [
      "Epochs: 15/20 Accuracy:0.8762\n"
     ]
    },
    {
     "name": "stderr",
     "output_type": "stream",
     "text": [
      "100%|██████████| 3750/3750 [00:11<00:00, 325.30it/s]\n"
     ]
    },
    {
     "name": "stdout",
     "output_type": "stream",
     "text": [
      "Epochs: 16/20 batch_loss:0.4332\n"
     ]
    },
    {
     "name": "stderr",
     "output_type": "stream",
     "text": [
      "100%|██████████| 3750/3750 [00:08<00:00, 436.70it/s]\n"
     ]
    },
    {
     "name": "stdout",
     "output_type": "stream",
     "text": [
      "Epochs: 16/20 Accuracy:0.8787\n"
     ]
    },
    {
     "name": "stderr",
     "output_type": "stream",
     "text": [
      "100%|██████████| 3750/3750 [00:11<00:00, 327.47it/s]\n"
     ]
    },
    {
     "name": "stdout",
     "output_type": "stream",
     "text": [
      "Epochs: 17/20 batch_loss:0.4256\n"
     ]
    },
    {
     "name": "stderr",
     "output_type": "stream",
     "text": [
      "100%|██████████| 3750/3750 [00:08<00:00, 435.96it/s]\n"
     ]
    },
    {
     "name": "stdout",
     "output_type": "stream",
     "text": [
      "Epochs: 17/20 Accuracy:0.8803\n"
     ]
    },
    {
     "name": "stderr",
     "output_type": "stream",
     "text": [
      "100%|██████████| 3750/3750 [00:11<00:00, 328.67it/s]\n"
     ]
    },
    {
     "name": "stdout",
     "output_type": "stream",
     "text": [
      "Epochs: 18/20 batch_loss:0.4188\n"
     ]
    },
    {
     "name": "stderr",
     "output_type": "stream",
     "text": [
      "100%|██████████| 3750/3750 [00:08<00:00, 430.75it/s]\n"
     ]
    },
    {
     "name": "stdout",
     "output_type": "stream",
     "text": [
      "Epochs: 18/20 Accuracy:0.8819\n"
     ]
    },
    {
     "name": "stderr",
     "output_type": "stream",
     "text": [
      "100%|██████████| 3750/3750 [00:11<00:00, 326.54it/s]\n"
     ]
    },
    {
     "name": "stdout",
     "output_type": "stream",
     "text": [
      "Epochs: 19/20 batch_loss:0.4126\n"
     ]
    },
    {
     "name": "stderr",
     "output_type": "stream",
     "text": [
      "100%|██████████| 3750/3750 [00:08<00:00, 430.24it/s]\n"
     ]
    },
    {
     "name": "stdout",
     "output_type": "stream",
     "text": [
      "Epochs: 19/20 Accuracy:0.8834\n"
     ]
    },
    {
     "name": "stderr",
     "output_type": "stream",
     "text": [
      "100%|██████████| 3750/3750 [00:11<00:00, 324.97it/s]\n"
     ]
    },
    {
     "name": "stdout",
     "output_type": "stream",
     "text": [
      "Epochs: 20/20 batch_loss:0.4069\n"
     ]
    },
    {
     "name": "stderr",
     "output_type": "stream",
     "text": [
      "100%|██████████| 3750/3750 [00:08<00:00, 433.87it/s]"
     ]
    },
    {
     "name": "stdout",
     "output_type": "stream",
     "text": [
      "Epochs: 20/20 Accuracy:0.8846\n"
     ]
    },
    {
     "name": "stderr",
     "output_type": "stream",
     "text": [
      "\n"
     ]
    }
   ],
   "source": [
    "losses = []\n",
    "accuracies = []\n",
    "\n",
    "for e in range(EPOCH):\n",
    "    loss_sum = 0\n",
    "    for idx, (X, label) in enumerate(tqdm(train_loader)):\n",
    "        hidden, output = model.forward(X.flatten(1,3))\n",
    "        loss = model.backward(X.flatten(1,3), hidden, output, label)\n",
    "        loss_sum += loss.item()\n",
    "    print('Epochs: {}/{}'.format(e + 1, EPOCH), 'batch_loss:{:.4f}'.format(loss_sum/len(train_loader)))\n",
    "    correct = 0\n",
    "    #I have a minor error in the accuracy calculation here, if someone of ypu has time, maybe try to fix :)\n",
    "    for idx, (X, label) in enumerate(tqdm(test_loader)):\n",
    "        \n",
    "        _, predictions = model.forward(X.flatten(1,3))\n",
    "        _, predicted_labels = torch.max(predictions, axis=1)\n",
    "        correct += torch.sum(predicted_labels == label).item()\n",
    "    \n",
    "    print('Epochs: {}/{}'.format(e + 1, EPOCH), 'Accuracy:{:.4f}'.format(correct/len(test_loader) / BSZ))\n",
    "    accuracies.append(correct/len(test_loader) / BSZ)\n",
    "    losses.append(loss_sum/len(train_loader))\n"
   ]
  },
  {
   "cell_type": "code",
   "execution_count": 8,
   "id": "3e7b6009",
   "metadata": {},
   "outputs": [
    {
     "data": {
      "text/plain": [
       "Text(0.5, 1.0, 'Training Accuracy (MLP)')"
      ]
     },
     "execution_count": 8,
     "metadata": {},
     "output_type": "execute_result"
    },
    {
     "data": {
      "image/png": "[encoded data removed]",
      "text/plain": [
       "<Figure size 1296x360 with 2 Axes>"
      ]
     },
     "metadata": {
      "needs_background": "light"
     },
     "output_type": "display_data"
    }
   ],
   "source": [
    "plt.style.use('seaborn')\n",
    "fig, ax = plt.subplots(1,2)\n",
    "fig.set_size_inches(18,5)\n",
    "\n",
    "ax[0].plot(losses, c=\"blue\", label=\"Training Loss\", linewidth=3, alpha=0.5)\n",
    "ax[0].legend(loc=\"best\")\n",
    "ax[0].set_xlabel(\"EPOCH\")\n",
    "ax[0].set_ylabel(\"Loss\")\n",
    "ax[0].set_title(\"Training Progress (MLP)\")\n",
    "\n",
    "\n",
    "ax[1].plot(accuracies, c=\"red\", label=\"Accuracy\", linewidth=3, alpha=0.5)\n",
    "ax[1].legend(loc=\"best\")\n",
    "ax[1].set_xlabel(\"EPOCH\")\n",
    "ax[1].set_ylabel(\"Accuracy\")\n",
    "ax[1].set_xscale(\"linear\")\n",
    "ax[1].set_yscale(\"linear\")\n",
    "ax[1].set_title(\"Training Accuracy (MLP)\")"
   ]
  },
  {
   "cell_type": "markdown",
   "id": "ba6c285f",
   "metadata": {},
   "source": [
    "### Here is an additional Plot which shows the images, our networks predictions and the real labels:"
   ]
  },
  {
   "cell_type": "code",
   "execution_count": 9,
   "id": "918c9108",
   "metadata": {},
   "outputs": [
    {
     "data": {
      "image/png": "[encoded data removed]",
      "text/plain": [
       "<Figure size 720x1008 with 16 Axes>"
      ]
     },
     "metadata": {
      "needs_background": "light"
     },
     "output_type": "display_data"
    }
   ],
   "source": [
    "X, label = next(iter(test_loader))\n",
    "_, predictions = model.forward(X.flatten(1,3))\n",
    "_, predicted_labels = torch.max(predictions, axis=1)\n",
    "\n",
    "w = 10\n",
    "h = 10\n",
    "fig = plt.figure(figsize=(10, 14))\n",
    "columns = 4\n",
    "rows = 4\n",
    "\n",
    "for i in range(1, columns*rows +1):\n",
    "    img = X[i-1,0]\n",
    "    fig.add_subplot(rows, columns, i)\n",
    "    plt.imshow(img)\n",
    "    plt.axis('off')\n",
    "    plt.title(\"Predicted Label: \" + str(predicted_labels[i-1].item()) + \"\\n\" + \"Real Label: \" + str(label[i-1].item()))\n",
    "plt.show()\n"
   ]
  }
 ],
 "metadata": {
  "interpreter": {
   "hash": "70507ed38c279ae1b5c7188e4406092ab4148498bd25f9647b988efcdc617168"
  },
  "kernelspec": {
   "display_name": "Python 3 (ipykernel)",
   "language": "python",
   "name": "python3"
  },
  "language_info": {
   "codemirror_mode": {
    "name": "ipython",
    "version": 3
   },
   "file_extension": ".py",
   "mimetype": "text/x-python",
   "name": "python",
   "nbconvert_exporter": "python",
   "pygments_lexer": "ipython3",
   "version": "3.9.12"
  }
 },
 "nbformat": 4,
 "nbformat_minor": 5
}
