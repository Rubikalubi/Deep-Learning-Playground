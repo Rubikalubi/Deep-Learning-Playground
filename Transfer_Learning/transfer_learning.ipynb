{
 "cells": [
  {
   "cell_type": "code",
   "execution_count": 1,
   "metadata": {},
   "outputs": [
    {
     "name": "stderr",
     "output_type": "stream",
     "text": [
      "f:\\Uni\\Cuda-Lab\\Cuda_Lab\\venv\\lib\\site-packages\\tqdm\\auto.py:22: TqdmWarning: IProgress not found. Please update jupyter and ipywidgets. See https://ipywidgets.readthedocs.io/en/stable/user_install.html\n",
      "  from .autonotebook import tqdm as notebook_tqdm\n"
     ]
    }
   ],
   "source": [
    "import torch\n",
    "import torch.nn as nn\n",
    "import torch.nn.functional as F\n",
    "import torchvision\n",
    "from torchvision import datasets, transforms, models\n",
    "from torch.utils.data import Dataset, DataLoader\n",
    "import matplotlib.pyplot as plt\n",
    "import numpy as np\n",
    "\n",
    "import optuna\n",
    "from optuna.trial import TrialState\n",
    "\n",
    "import os\n",
    "import pickle as pkl\n",
    "import random \n",
    "random.seed(19)\n",
    "\n",
    "import optuna\n",
    "from optuna.trial import TrialState\n",
    "\n",
    "from tqdm import tqdm\n",
    "from PIL import Image\n",
    "\n",
    "#you need the cutmix package from https://github.com/ildoonet/cutmix\n",
    "\n",
    "from cutmix.cutmix import CutMix\n",
    "from cutmix.utils import CutMixCrossEntropyLoss\n",
    "\n",
    "import gc"
   ]
  },
  {
   "cell_type": "code",
   "execution_count": 2,
   "metadata": {},
   "outputs": [],
   "source": [
    "device = torch.device(\"cuda:0\" if torch.cuda.is_available() else \"cpu\")\n",
    "\n",
    "EPOCHS = 10\n",
    "BSZ = 32\n",
    "IMG_SIZE = 224"
   ]
  },
  {
   "cell_type": "code",
   "execution_count": 3,
   "metadata": {},
   "outputs": [],
   "source": [
    "train_data_path = \"./data/training\"\n",
    "test_data_path = \"./data/testing\""
   ]
  },
  {
   "cell_type": "markdown",
   "metadata": {},
   "source": [
    "# Important \n",
    "Remove the corrupted images from the dataset before you run this code:\n",
    "\n",
    "table_2366/3385\n",
    "glass_1934\n",
    "\n",
    "The folders structure for the network is \n",
    "data/training\n",
    "data/testing\n",
    "\n",
    "These folder contain the images directly"
   ]
  },
  {
   "cell_type": "code",
   "execution_count": 4,
   "metadata": {},
   "outputs": [],
   "source": [
    "class GlassesAndTables(Dataset):\n",
    "    def __init__(self, root_dir=\"./data/\", custom_transforms=None, mode=\"training\", use_cache=True, subset=True, subset_size=1000):\n",
    "        self.root_dir = root_dir\n",
    "        self.mode = mode\n",
    "        self.data_path = os.path.join(self.root_dir, self.mode)\n",
    "        self.data = []\n",
    "        self.labels = []\n",
    "        self.img_names = []\n",
    "        self.labels_dict = {\"glass\": 0, \"table\": 1}\n",
    "        for sub, dir, files in os.walk(self.data_path):\n",
    "            for file in files:\n",
    "                self.data.append(os.path.join(sub, file))\n",
    "                self.img_names.append(file)\n",
    "                self.labels.append(self.labels_dict.get(file.split(\"_\")[0]))\n",
    "        self.labels = torch.tensor(self.labels)\n",
    "        if mode == \"training\":\n",
    "            self.transforms = custom_transforms['train']\n",
    "        else:\n",
    "            self.transforms = custom_transforms['test']\n",
    "        \n",
    "        self.USE_CACHE = use_cache\n",
    "        self.cache_path = os.path.join('data/cache', self.mode)\n",
    "        if not os.path.exists(self.cache_path):\n",
    "            os.makedirs(self.cache_path)\n",
    "        \n",
    "        if subset and self.mode == \"training\":\n",
    "            random_list_glass = sorted(random.sample(range(3198),1000))\n",
    "            random_list_table = sorted(random.sample(range(3199, 6397), 1000))\n",
    "            random_list = random_list_table + random_list_glass\n",
    "            self.data = [self.data[idx] for idx in random_list]\n",
    "            self.labels = [self.labels[idx] for idx in random_list]\n",
    "            self.img_names = [self.img_names[idx] for idx in random_list]\n",
    "            #print(np.sum(self.labels))       # This line output 1000 which proved the randomness work\n",
    "\n",
    "    def __getitem__(self, idx):\n",
    "        cache_file = os.path.join(self.cache_path, self.img_names[idx][:-3] + 'pkl')\n",
    "        \n",
    "        if self.USE_CACHE and os.path.exists(cache_file):\n",
    "            with open(cache_file, 'rb') as f:\n",
    "                img = pkl.load(f)\n",
    "        else:\n",
    "            try:\n",
    "                img = Image.open(self.data[idx]).convert('RGB')\n",
    "                img = img.resize((IMG_SIZE, IMG_SIZE))\n",
    "            except:\n",
    "                print(str(self.img_names[idx]) + \" is truncated\")\n",
    "            if self.USE_CACHE and not os.path.exists(cache_file):\n",
    "                with open(cache_file,'wb') as f:\n",
    "                    pkl.dump(img, f)\n",
    "                \n",
    "        img = self.transforms(img)\n",
    "        label = self.labels[idx]\n",
    "                \n",
    "        return img, label\n",
    "                       \n",
    "\n",
    "    def __len__(self):\n",
    "        return len(self.data)"
   ]
  },
  {
   "cell_type": "code",
   "execution_count": 5,
   "metadata": {},
   "outputs": [],
   "source": [
    "def train_epoch(model, train_loader, optimizer, criterion, device):\n",
    "    model.train()  \n",
    "    \n",
    "    loss_list = []\n",
    "    for i, (images, labels) in enumerate(tqdm(train_loader)):\n",
    "        images = images.to(device)\n",
    "        labels = labels.to(device)\n",
    "        \n",
    "        # Clear gradients w.r.t. parameters\n",
    "        optimizer.zero_grad()\n",
    "         \n",
    "        # Forward pass to get output/logits\n",
    "        outputs = model(images)\n",
    "         \n",
    "        # Calculate Loss: softmax --> cross entropy loss\n",
    "        loss = criterion(outputs, labels)\n",
    "        loss_list.append(loss.item())\n",
    "         \n",
    "        # Getting gradients w.r.t. parameters\n",
    "        loss.backward()\n",
    "         \n",
    "        # Updating parameters\n",
    "        optimizer.step()\n",
    "        \n",
    "    mean_loss = np.mean(loss_list)\n",
    "    return mean_loss, loss_list\n",
    "\n",
    "\n",
    "@torch.no_grad()\n",
    "def eval_model(model, eval_loader, criterion, device):\n",
    "    model.eval()  \n",
    "    \"\"\" Evaluating the model for either validation or test \"\"\"\n",
    "    correct = 0\n",
    "    total = 0\n",
    "    loss_list = []\n",
    "    \n",
    "    for images, labels in eval_loader:\n",
    "        images = images.to(device)\n",
    "        labels = labels.to(device)\n",
    "        \n",
    "        # Forward pass only to get logits/output\n",
    "        outputs = model(images)\n",
    "                 \n",
    "        loss = criterion(outputs, labels)\n",
    "        loss_list.append(loss.item())\n",
    "            \n",
    "        # Get predictions from the maximum value\n",
    "        preds = torch.argmax(outputs, dim=1)\n",
    "        correct += len(torch.where(preds==labels)[0])\n",
    "        total += len(labels)\n",
    "                 \n",
    "    # Total correct predictions and loss\n",
    "    accuracy = correct / total * 100\n",
    "    loss = np.mean(loss_list)\n",
    "    \n",
    "    return accuracy, loss\n",
    "\n",
    "\n",
    "def train_model(model, optimizer, scheduler, criterion, train_loader, valid_loader, num_epochs):\n",
    "    \"\"\" Training a model for a given number of epochs\"\"\"\n",
    "    \n",
    "    train_loss = []\n",
    "    val_loss =  []\n",
    "    valid_acc = []\n",
    "    \n",
    "    for epoch in range(num_epochs):\n",
    "           \n",
    "        # validation epoch \n",
    "        accuracy, loss = eval_model(\n",
    "                    model=model, eval_loader=valid_loader,\n",
    "                    criterion=criterion, device=device\n",
    "            )\n",
    "        valid_acc.append(accuracy)\n",
    "        val_loss.append(loss)\n",
    "        \n",
    "        # training epoch\n",
    "        mean_loss, cur_loss_iters = train_epoch(\n",
    "                model=model, train_loader=train_loader, optimizer=optimizer,\n",
    "                criterion=criterion, device=device\n",
    "            )\n",
    "        scheduler.step()\n",
    "        train_loss.append(mean_loss)\n",
    "        \n",
    "        if(epoch % 5 == 0 or epoch==num_epochs-1):\n",
    "            print(f\"Epoch {epoch+1}/{num_epochs}\")\n",
    "            print(f\"    Train loss: {round(mean_loss, 5)}\")\n",
    "            print(f\"    Accuracy: {accuracy}%\")\n",
    "            print(\"\\n\")\n",
    "        \n",
    "    print(f\"Training completed\")\n",
    "    return train_loss, val_loss, valid_acc"
   ]
  },
  {
   "cell_type": "code",
   "execution_count": 6,
   "metadata": {},
   "outputs": [],
   "source": [
    "data_transforms = {\n",
    "    'train': transforms.Compose([\n",
    "        transforms.RandomHorizontalFlip(p=0.5),\n",
    "        transforms.RandomRotation(30),\n",
    "        transforms.ColorJitter(brightness=0.4, contrast=0.4, saturation=0.4, hue=0.2),\n",
    "        transforms.ToTensor(),\n",
    "        transforms.Normalize([0.485, 0.456, 0.406], [0.229, 0.224, 0.225])\n",
    "    ]),\n",
    "    'test': transforms.Compose([\n",
    "        transforms.ToTensor(),\n",
    "        transforms.Normalize([0.485, 0.456, 0.406], [0.229, 0.224, 0.225])\n",
    "    ]),\n",
    "}"
   ]
  },
  {
   "cell_type": "code",
   "execution_count": 7,
   "metadata": {},
   "outputs": [],
   "source": [
    "TG_dataset = GlassesAndTables(root_dir=\"./data/\", custom_transforms=data_transforms, mode=\"training\", use_cache=True, subset=True)\n",
    "test_dataset = GlassesAndTables(root_dir=\"./data/\", custom_transforms=data_transforms, mode=\"testing\", use_cache=True, subset=True)\n",
    "\n",
    "\n",
    "#we use 20% as our validation set which is 400 or 1280 depends on if we use subset or not\n",
    "train_dataset, valid_dataset =  torch.utils.data.random_split(TG_dataset, [len(TG_dataset) - 400, 400])  \n",
    "train_dataset = CutMix(train_dataset, num_class=2, beta=1.0, prob=0.5, num_mix=2)\n",
    "\n",
    "train_loader = DataLoader(train_dataset, batch_size=BSZ, shuffle=True)\n",
    "valid_loader = DataLoader(valid_dataset, batch_size=BSZ, shuffle=True)\n",
    "test_loader = DataLoader(test_dataset, batch_size=BSZ, shuffle=False)"
   ]
  },
  {
   "cell_type": "markdown",
   "metadata": {},
   "source": [
    "### 1.1 VGG"
   ]
  },
  {
   "cell_type": "code",
   "execution_count": 8,
   "metadata": {},
   "outputs": [],
   "source": [
    "model_vgg = models.vgg11(pretrained=True)\n",
    "model_vgg.classifier[-1] = nn.Linear(4096, 2)\n",
    "model_vgg = model_vgg.to(device)\n",
    "\n",
    "optimizer_vgg = torch.optim.SGD(model_vgg.parameters(), lr=0.001)\n",
    "criterion = CutMixCrossEntropyLoss(True)\n",
    "scheduler_vgg = torch.optim.lr_scheduler.StepLR(optimizer_vgg, step_size=7, gamma=0.1)"
   ]
  },
  {
   "cell_type": "code",
   "execution_count": 9,
   "metadata": {},
   "outputs": [
    {
     "name": "stderr",
     "output_type": "stream",
     "text": [
      "100%|██████████| 50/50 [00:17<00:00,  2.92it/s]\n"
     ]
    },
    {
     "name": "stdout",
     "output_type": "stream",
     "text": [
      "Epoch 1/10\n",
      "    Train loss: 0.55568\n",
      "    Accuracy: 47.25%\n",
      "\n",
      "\n"
     ]
    },
    {
     "name": "stderr",
     "output_type": "stream",
     "text": [
      "100%|██████████| 50/50 [00:16<00:00,  3.10it/s]\n",
      "100%|██████████| 50/50 [00:15<00:00,  3.19it/s]\n",
      "100%|██████████| 50/50 [00:15<00:00,  3.14it/s]\n",
      "100%|██████████| 50/50 [00:15<00:00,  3.19it/s]\n",
      "100%|██████████| 50/50 [00:15<00:00,  3.16it/s]\n"
     ]
    },
    {
     "name": "stdout",
     "output_type": "stream",
     "text": [
      "Epoch 6/10\n",
      "    Train loss: 0.39773\n",
      "    Accuracy: 97.75%\n",
      "\n",
      "\n"
     ]
    },
    {
     "name": "stderr",
     "output_type": "stream",
     "text": [
      "100%|██████████| 50/50 [00:15<00:00,  3.19it/s]\n",
      "100%|██████████| 50/50 [00:15<00:00,  3.22it/s]\n",
      "100%|██████████| 50/50 [00:15<00:00,  3.17it/s]\n",
      "100%|██████████| 50/50 [00:15<00:00,  3.21it/s]"
     ]
    },
    {
     "name": "stdout",
     "output_type": "stream",
     "text": [
      "Epoch 10/10\n",
      "    Train loss: 0.35966\n",
      "    Accuracy: 98.75%\n",
      "\n",
      "\n",
      "Training completed\n"
     ]
    },
    {
     "name": "stderr",
     "output_type": "stream",
     "text": [
      "\n"
     ]
    }
   ],
   "source": [
    "tl_vgg, vl_vgg, va_vgg = train_model(model=model_vgg, optimizer=optimizer_vgg, scheduler=scheduler_vgg, criterion=criterion,\n",
    "        train_loader=train_loader, valid_loader=valid_loader, num_epochs=EPOCHS\n",
    "    )"
   ]
  },
  {
   "cell_type": "code",
   "execution_count": 10,
   "id": "7ab8fb63",
   "metadata": {},
   "outputs": [
    {
     "name": "stdout",
     "output_type": "stream",
     "text": [
      "Test Accuracy using VGG11: 99.43639291465378\n"
     ]
    }
   ],
   "source": [
    "test_acc, test_loss = eval_model(model=model_vgg, eval_loader=test_loader, criterion=criterion, device=device)\n",
    "print(\"Test Accuracy using VGG11: {}\".format(test_acc))"
   ]
  },
  {
   "cell_type": "code",
   "execution_count": 11,
   "metadata": {},
   "outputs": [
    {
     "data": {
      "text/plain": [
       "Text(0.5, 1.0, 'Accuracy of the finetundes VGG Network')"
      ]
     },
     "execution_count": 11,
     "metadata": {},
     "output_type": "execute_result"
    },
    {
     "data": {
      "image/png": "[encoded data removed]",
      "text/plain": [
       "<Figure size 1296x648 with 2 Axes>"
      ]
     },
     "metadata": {
      "needs_background": "light"
     },
     "output_type": "display_data"
    }
   ],
   "source": [
    "plt.style.use('seaborn')\n",
    "fig, ax = plt.subplots(1,2)\n",
    "fig.set_size_inches(18,9)\n",
    "\n",
    "ax[0].plot(tl_vgg, c=\"blue\", label=\"Training loss VGG\", linewidth=3, alpha=0.5)\n",
    "ax[0].plot(vl_vgg, c=\"red\", label=\"Validation loss VGG\", linewidth=3, alpha=0.5)\n",
    "ax[0].legend(loc=\"best\")\n",
    "ax[0].set_xlabel(\"EPOCH\")\n",
    "ax[0].set_ylabel(\"Loss\")\n",
    "ax[0].set_title(\"Loss of the pretrained and finetunded VGG Network\")\n",
    "\n",
    "ax[1].plot(va_vgg, c=\"blue\", label=\"Validation Accuracy VGG\", linewidth=3, alpha=0.5)\n",
    "ax[1].legend(loc=\"best\")\n",
    "ax[1].set_xlabel(\"EPOCH\")\n",
    "ax[1].set_ylabel(\"Accuracy\")\n",
    "ax[1].set_xscale(\"linear\")\n",
    "ax[1].set_yscale(\"linear\")\n",
    "ax[1].set_title(\"Accuracy of the finetundes VGG Network\")"
   ]
  },
  {
   "cell_type": "markdown",
   "id": "a86b517b",
   "metadata": {},
   "source": [
    "As we can see even after just a few epochs, we approach an accuracy of almost 100% with the fine tuned VGG net."
   ]
  },
  {
   "cell_type": "code",
   "execution_count": 12,
   "metadata": {},
   "outputs": [
    {
     "name": "stdout",
     "output_type": "stream",
     "text": [
      "Test Accuracy using VGG11: 99.43639291465378\n"
     ]
    }
   ],
   "source": [
    "test_acc, test_loss = eval_model(model=model_vgg, eval_loader=test_loader, criterion=criterion, device=device)\n",
    "print(\"Test Accuracy using VGG11: {}\".format(test_acc))"
   ]
  },
  {
   "cell_type": "code",
   "execution_count": 13,
   "id": "d296b98e",
   "metadata": {},
   "outputs": [],
   "source": [
    "#clear memory:\n",
    "del model_vgg\n",
    "del optimizer_vgg\n",
    "del scheduler_vgg\n",
    "gc.collect()\n",
    "torch.cuda.empty_cache()"
   ]
  },
  {
   "cell_type": "markdown",
   "metadata": {},
   "source": [
    "### 1.2 ResNet"
   ]
  },
  {
   "cell_type": "code",
   "execution_count": 14,
   "metadata": {},
   "outputs": [],
   "source": [
    "model_res = models.resnet18(pretrained=True)\n",
    "model_res.fc = nn. Linear(in_features=512, out_features=2, bias=True)\n",
    "model_res.to(device)\n",
    "\n",
    "optimizer_res = torch.optim.Adam(model_res.parameters(), lr=0.001)\n",
    "criterion = CutMixCrossEntropyLoss(True)\n",
    "scheduler_res = torch.optim.lr_scheduler.StepLR(optimizer_res, step_size=7, gamma=0.1)"
   ]
  },
  {
   "cell_type": "code",
   "execution_count": 15,
   "metadata": {},
   "outputs": [
    {
     "name": "stderr",
     "output_type": "stream",
     "text": [
      "100%|██████████| 50/50 [00:15<00:00,  3.32it/s]\n"
     ]
    },
    {
     "name": "stdout",
     "output_type": "stream",
     "text": [
      "Epoch 1/10\n",
      "    Train loss: 0.55884\n",
      "    Accuracy: 52.0%\n",
      "\n",
      "\n"
     ]
    },
    {
     "name": "stderr",
     "output_type": "stream",
     "text": [
      "100%|██████████| 50/50 [00:14<00:00,  3.39it/s]\n",
      "100%|██████████| 50/50 [00:14<00:00,  3.36it/s]\n",
      "100%|██████████| 50/50 [00:14<00:00,  3.41it/s]\n",
      "100%|██████████| 50/50 [00:14<00:00,  3.36it/s]\n",
      "100%|██████████| 50/50 [00:14<00:00,  3.43it/s]\n"
     ]
    },
    {
     "name": "stdout",
     "output_type": "stream",
     "text": [
      "Epoch 6/10\n",
      "    Train loss: 0.31754\n",
      "    Accuracy: 96.5%\n",
      "\n",
      "\n"
     ]
    },
    {
     "name": "stderr",
     "output_type": "stream",
     "text": [
      "100%|██████████| 50/50 [00:15<00:00,  3.28it/s]\n",
      "100%|██████████| 50/50 [00:14<00:00,  3.39it/s]\n",
      "100%|██████████| 50/50 [00:14<00:00,  3.37it/s]\n",
      "100%|██████████| 50/50 [00:14<00:00,  3.34it/s]"
     ]
    },
    {
     "name": "stdout",
     "output_type": "stream",
     "text": [
      "Epoch 10/10\n",
      "    Train loss: 0.30023\n",
      "    Accuracy: 98.5%\n",
      "\n",
      "\n",
      "Training completed\n"
     ]
    },
    {
     "name": "stderr",
     "output_type": "stream",
     "text": [
      "\n"
     ]
    }
   ],
   "source": [
    "tl_res, vl_res, va_res  = train_model(model=model_res, optimizer=optimizer_res, scheduler=scheduler_res, criterion=criterion,\n",
    "        train_loader=train_loader, valid_loader=valid_loader, num_epochs=EPOCHS\n",
    "    )"
   ]
  },
  {
   "cell_type": "markdown",
   "metadata": {},
   "source": [
    "### 1.2.2 ResNet with fixed feature extractor"
   ]
  },
  {
   "cell_type": "code",
   "execution_count": 16,
   "metadata": {},
   "outputs": [],
   "source": [
    "model_res_fix = models.resnet18(pretrained=True)\n",
    "for param in model_res_fix.parameters():\n",
    "    param.requires_grad = False\n",
    "model_res_fix.fc = nn. Linear(in_features=512, out_features=2, bias=True)\n",
    "model_res_fix.to(device)\n",
    "\n",
    "criterion = CutMixCrossEntropyLoss(True)\n",
    "optimizer_res_fix = torch.optim.Adam(model_res_fix.parameters(), lr=0.001)\n",
    "scheduler_res_fix = torch.optim.lr_scheduler.StepLR(optimizer_res, step_size=7, gamma=0.1)"
   ]
  },
  {
   "cell_type": "code",
   "execution_count": 17,
   "metadata": {},
   "outputs": [
    {
     "name": "stderr",
     "output_type": "stream",
     "text": [
      "100%|██████████| 50/50 [00:14<00:00,  3.53it/s]\n",
      "f:\\Uni\\Cuda-Lab\\Cuda_Lab\\venv\\lib\\site-packages\\torch\\optim\\lr_scheduler.py:131: UserWarning: Detected call of `lr_scheduler.step()` before `optimizer.step()`. In PyTorch 1.1.0 and later, you should call them in the opposite order: `optimizer.step()` before `lr_scheduler.step()`.  Failure to do this will result in PyTorch skipping the first value of the learning rate schedule. See more details at https://pytorch.org/docs/stable/optim.html#how-to-adjust-learning-rate\n",
      "  warnings.warn(\"Detected call of `lr_scheduler.step()` before `optimizer.step()`. \"\n"
     ]
    },
    {
     "name": "stdout",
     "output_type": "stream",
     "text": [
      "Epoch 1/10\n",
      "    Train loss: 0.54587\n",
      "    Accuracy: 42.0%\n",
      "\n",
      "\n"
     ]
    },
    {
     "name": "stderr",
     "output_type": "stream",
     "text": [
      "100%|██████████| 50/50 [00:14<00:00,  3.50it/s]\n",
      "100%|██████████| 50/50 [00:14<00:00,  3.49it/s]\n",
      "100%|██████████| 50/50 [00:14<00:00,  3.52it/s]\n",
      "100%|██████████| 50/50 [00:14<00:00,  3.45it/s]\n",
      "100%|██████████| 50/50 [00:14<00:00,  3.44it/s]\n"
     ]
    },
    {
     "name": "stdout",
     "output_type": "stream",
     "text": [
      "Epoch 6/10\n",
      "    Train loss: 0.39523\n",
      "    Accuracy: 93.75%\n",
      "\n",
      "\n"
     ]
    },
    {
     "name": "stderr",
     "output_type": "stream",
     "text": [
      "100%|██████████| 50/50 [00:15<00:00,  3.30it/s]\n",
      "100%|██████████| 50/50 [00:14<00:00,  3.40it/s]\n",
      "100%|██████████| 50/50 [00:14<00:00,  3.34it/s]\n",
      "100%|██████████| 50/50 [00:14<00:00,  3.35it/s]"
     ]
    },
    {
     "name": "stdout",
     "output_type": "stream",
     "text": [
      "Epoch 10/10\n",
      "    Train loss: 0.3825\n",
      "    Accuracy: 98.0%\n",
      "\n",
      "\n",
      "Training completed\n"
     ]
    },
    {
     "name": "stderr",
     "output_type": "stream",
     "text": [
      "\n"
     ]
    }
   ],
   "source": [
    "tl_res_fix, vl_res_fix, va_res_fix  = train_model(model=model_res_fix, optimizer=optimizer_res_fix, scheduler=scheduler_res_fix, criterion=criterion,\n",
    "        train_loader=train_loader, valid_loader=valid_loader, num_epochs=EPOCHS\n",
    "    )"
   ]
  },
  {
   "cell_type": "code",
   "execution_count": 18,
   "metadata": {},
   "outputs": [
    {
     "data": {
      "text/plain": [
       "Text(0.5, 1.0, 'Accuracy of the two ResNet Models')"
      ]
     },
     "execution_count": 18,
     "metadata": {},
     "output_type": "execute_result"
    },
    {
     "data": {
      "image/png": "[encoded data removed]",
      "text/plain": [
       "<Figure size 1296x648 with 2 Axes>"
      ]
     },
     "metadata": {},
     "output_type": "display_data"
    }
   ],
   "source": [
    "plt.style.use('seaborn')\n",
    "fig, ax = plt.subplots(1,2)\n",
    "fig.set_size_inches(18,9)\n",
    "\n",
    "ax[0].plot(tl_res, c=\"red\", label=\"Training loss fine tuned ResNet\", linewidth=3, alpha=0.5)\n",
    "ax[0].plot(vl_res, c=\"red\", linestyle='--', label=\"Validation loss fine tuned ResNet\", linewidth=3, alpha=0.5)\n",
    "ax[0].plot(tl_res_fix, c=\"blue\", label=\"Training loss ResNet as feature extractor with MLP classifier\", linewidth=3, alpha=0.5)\n",
    "ax[0].plot(vl_res_fix, c=\"blue\", linestyle='--', label=\"Validation loss fixed ResNet as feature extractor with MLP classifier\", linewidth=3, alpha=0.5)\n",
    "ax[0].legend(loc=\"best\")\n",
    "ax[0].set_xlabel(\"EPOCH\")\n",
    "ax[0].set_ylabel(\"Loss\")\n",
    "ax[0].set_title(\"Loss of the two ResNet Models\")\n",
    "\n",
    "ax[1].plot(va_res, c=\"blue\", label=\"Validation Accuracy fine tuned ResNet\", linewidth=3, alpha=0.5)\n",
    "ax[1].plot(va_res_fix, c=\"red\", label=\"Validation Accuracy ResNet as feature extractor with MLP classifier\", linewidth=3, alpha=0.5)\n",
    "ax[1].legend(loc=\"best\")\n",
    "ax[1].set_xlabel(\"EPOCH\")\n",
    "ax[1].set_ylabel(\"Accuracy\")\n",
    "ax[1].set_xscale(\"linear\")\n",
    "ax[1].set_yscale(\"linear\")\n",
    "ax[1].set_title(\"Accuracy of the two ResNet Models\")"
   ]
  },
  {
   "cell_type": "code",
   "execution_count": 19,
   "metadata": {},
   "outputs": [
    {
     "name": "stdout",
     "output_type": "stream",
     "text": [
      "Test Accuracy using ResNet: 99.27536231884058\n",
      "Test Accuracy using ResNet with fixed extractor: 99.35587761674718\n"
     ]
    }
   ],
   "source": [
    "test_acc_res, test_loss_res = eval_model(model=model_res, eval_loader=test_loader, criterion=criterion, device=device)\n",
    "print(\"Test Accuracy using ResNet: {}\".format(test_acc_res))\n",
    "test_acc_fixres, test_loss_fixres = eval_model(model=model_res_fix, eval_loader=test_loader, criterion=criterion, device=device)\n",
    "print(\"Test Accuracy using ResNet with fixed extractor: {}\".format(test_acc_fixres))"
   ]
  },
  {
   "cell_type": "markdown",
   "id": "d66d65a5",
   "metadata": {},
   "source": [
    "As we can see, the accuracy of the two Resnet Models is roughly the same. But the training and accuracy of the fine tuned resnet is far more unstable. This could be because the model is constantly on a cliff of the gradient where a small change of the weights causes a huge change in accuracy. "
   ]
  },
  {
   "cell_type": "code",
   "execution_count": 20,
   "id": "682e61d5",
   "metadata": {},
   "outputs": [],
   "source": [
    "#clear memory:\n",
    "del model_res_fix\n",
    "del model_res\n",
    "del optimizer_res_fix\n",
    "del optimizer_res\n",
    "del scheduler_res_fix\n",
    "del scheduler_res\n",
    "gc.collect()\n",
    "torch.cuda.empty_cache()"
   ]
  },
  {
   "cell_type": "markdown",
   "metadata": {},
   "source": [
    "### 1.3 MobileNet"
   ]
  },
  {
   "cell_type": "code",
   "execution_count": 21,
   "metadata": {},
   "outputs": [],
   "source": [
    "model_mobile = models.mobilenet_v2(pretrained=True)\n",
    "model_mobile.classifier[1] = nn.Linear(1280, 2)\n",
    "model_mobile.to(device)\n",
    "\n",
    "optimizer_mobile = torch.optim.Adam(model_mobile.parameters(), lr=0.001)\n",
    "criterion = CutMixCrossEntropyLoss(True)\n",
    "scheduler_mobile = torch.optim.lr_scheduler.StepLR(optimizer_mobile, step_size=7, gamma=0.1)"
   ]
  },
  {
   "cell_type": "code",
   "execution_count": 22,
   "metadata": {},
   "outputs": [
    {
     "name": "stderr",
     "output_type": "stream",
     "text": [
      "100%|██████████| 50/50 [00:16<00:00,  3.05it/s]\n"
     ]
    },
    {
     "name": "stdout",
     "output_type": "stream",
     "text": [
      "Epoch 1/10\n",
      "    Train loss: 0.4529\n",
      "    Accuracy: 48.0%\n",
      "\n",
      "\n"
     ]
    },
    {
     "name": "stderr",
     "output_type": "stream",
     "text": [
      "100%|██████████| 50/50 [00:16<00:00,  3.09it/s]\n",
      "100%|██████████| 50/50 [00:15<00:00,  3.14it/s]\n",
      "100%|██████████| 50/50 [00:15<00:00,  3.21it/s]\n",
      "100%|██████████| 50/50 [00:15<00:00,  3.17it/s]\n",
      "100%|██████████| 50/50 [00:15<00:00,  3.21it/s]\n"
     ]
    },
    {
     "name": "stdout",
     "output_type": "stream",
     "text": [
      "Epoch 6/10\n",
      "    Train loss: 0.32817\n",
      "    Accuracy: 99.25%\n",
      "\n",
      "\n"
     ]
    },
    {
     "name": "stderr",
     "output_type": "stream",
     "text": [
      "100%|██████████| 50/50 [00:15<00:00,  3.14it/s]\n",
      "100%|██████████| 50/50 [00:15<00:00,  3.16it/s]\n",
      "100%|██████████| 50/50 [00:15<00:00,  3.24it/s]\n",
      "100%|██████████| 50/50 [00:15<00:00,  3.25it/s]"
     ]
    },
    {
     "name": "stdout",
     "output_type": "stream",
     "text": [
      "Epoch 10/10\n",
      "    Train loss: 0.29985\n",
      "    Accuracy: 99.25%\n",
      "\n",
      "\n",
      "Training completed\n"
     ]
    },
    {
     "name": "stderr",
     "output_type": "stream",
     "text": [
      "\n"
     ]
    }
   ],
   "source": [
    "tl_mobile, vl_mobile, va_mobile = train_model(model=model_mobile, optimizer=optimizer_mobile, scheduler=scheduler_mobile, criterion=criterion,\n",
    "        train_loader=train_loader, valid_loader=valid_loader, num_epochs=EPOCHS\n",
    "    )"
   ]
  },
  {
   "cell_type": "code",
   "execution_count": 23,
   "id": "a7c0020d",
   "metadata": {},
   "outputs": [
    {
     "name": "stdout",
     "output_type": "stream",
     "text": [
      "Test Accuracy using MobileNet: 99.7584541062802\n"
     ]
    }
   ],
   "source": [
    "test_acc_mobile, test_loss_mobile = eval_model(model=model_mobile, eval_loader=test_loader, criterion=criterion, device=device)\n",
    "print(\"Test Accuracy using MobileNet: {}\".format(test_acc_mobile))"
   ]
  },
  {
   "cell_type": "code",
   "execution_count": 24,
   "metadata": {},
   "outputs": [
    {
     "data": {
      "text/plain": [
       "Text(0.5, 1.0, 'Accuracy')"
      ]
     },
     "execution_count": 24,
     "metadata": {},
     "output_type": "execute_result"
    },
    {
     "data": {
      "image/png": "[encoded data removed]",
      "text/plain": [
       "<Figure size 1296x648 with 2 Axes>"
      ]
     },
     "metadata": {},
     "output_type": "display_data"
    }
   ],
   "source": [
    "plt.style.use('seaborn')\n",
    "fig, ax = plt.subplots(1,2)\n",
    "fig.set_size_inches(18,9)\n",
    "\n",
    "ax[0].plot(tl_mobile, c=\"blue\", label=\"Training loss MobileNet\", linewidth=3, alpha=0.5)\n",
    "ax[0].plot(vl_mobile, c=\"red\", label=\"Validation loss MobileNet\", linewidth=3, alpha=0.5)\n",
    "ax[0].legend(loc=\"best\")\n",
    "ax[0].set_xlabel(\"EPOCH\")\n",
    "ax[0].set_ylabel(\"Loss\")\n",
    "ax[0].set_title(\"Loss of the finetuned MobileNet\")\n",
    "\n",
    "ax[1].plot(va_mobile, c=\"blue\", label=\"Validation Accuracy of the fine tuned MobileNet\", linewidth=3, alpha=0.5)\n",
    "ax[1].legend(loc=\"best\")\n",
    "ax[1].set_xlabel(\"EPOCH\")\n",
    "ax[1].set_ylabel(\"Accuracy\")\n",
    "ax[1].set_xscale(\"linear\")\n",
    "ax[1].set_yscale(\"linear\")\n",
    "ax[1].set_title(\"Accuracy\")"
   ]
  },
  {
   "cell_type": "code",
   "execution_count": 25,
   "metadata": {},
   "outputs": [
    {
     "name": "stdout",
     "output_type": "stream",
     "text": [
      "Test Accuracy using MobileNet: 99.7584541062802\n"
     ]
    }
   ],
   "source": [
    "test_acc_mobile, test_loss_mobile = eval_model(model=model_mobile, eval_loader=test_loader, criterion=criterion, device=device)\n",
    "print(\"Test Accuracy using MobileNet: {}\".format(test_acc_mobile))"
   ]
  },
  {
   "cell_type": "code",
   "execution_count": 26,
   "id": "97190606",
   "metadata": {},
   "outputs": [],
   "source": [
    "del model_mobile\n",
    "del optimizer_mobile\n",
    "del scheduler_mobile\n",
    "gc.collect()\n",
    "torch.cuda.empty_cache()"
   ]
  },
  {
   "cell_type": "markdown",
   "id": "bbe5fb4b",
   "metadata": {},
   "source": [
    "As we can see, mobile net works roughly the same as the Resnet and the VGG model"
   ]
  },
  {
   "cell_type": "markdown",
   "metadata": {},
   "source": [
    "### 1.4 DenseNet"
   ]
  },
  {
   "cell_type": "code",
   "execution_count": 27,
   "id": "95f5895a",
   "metadata": {},
   "outputs": [],
   "source": [
    "from sklearn import svm"
   ]
  },
  {
   "cell_type": "code",
   "execution_count": 28,
   "id": "18853df9",
   "metadata": {},
   "outputs": [],
   "source": [
    "model = models.densenet121(pretrained=True)\n"
   ]
  },
  {
   "cell_type": "code",
   "execution_count": 29,
   "id": "e12ec380",
   "metadata": {},
   "outputs": [],
   "source": [
    "data_transforms = {\n",
    "    'train': transforms.Compose([\n",
    "        transforms.RandomHorizontalFlip(p=0.5),\n",
    "        transforms.RandomRotation(30),\n",
    "        transforms.ColorJitter(brightness=0.4, contrast=0.4, saturation=0.4, hue=0.2),\n",
    "        transforms.ToTensor(),\n",
    "        transforms.Normalize([0.485, 0.456, 0.406], [0.229, 0.224, 0.225])\n",
    "    ]),\n",
    "    'test': transforms.Compose([\n",
    "        transforms.ToTensor(),\n",
    "        transforms.Normalize([0.485, 0.456, 0.406], [0.229, 0.224, 0.225])\n",
    "    ]),\n",
    "}"
   ]
  },
  {
   "cell_type": "code",
   "execution_count": 30,
   "id": "35898f97",
   "metadata": {},
   "outputs": [],
   "source": [
    "TG_dataset = GlassesAndTables(root_dir=\"./data/\", custom_transforms=data_transforms, mode=\"training\", use_cache=True, subset=True)\n",
    "test_dataset = GlassesAndTables(root_dir=\"./data/\", custom_transforms=data_transforms, mode=\"testing\", use_cache=True, subset=True)\n",
    "\n",
    "\n",
    "#we use 20% as our validation set which is 400 or 1280 depends on if we use subset or not\n",
    "train_dataset, valid_dataset =  torch.utils.data.random_split(TG_dataset, [len(TG_dataset) - 400, 400])  \n",
    "\n",
    "train_loader = DataLoader(train_dataset, batch_size=BSZ, shuffle=True)\n",
    "valid_loader = DataLoader(valid_dataset, batch_size=BSZ, shuffle=True)\n",
    "test_loader = DataLoader(test_dataset, batch_size=BSZ, shuffle=False)"
   ]
  },
  {
   "cell_type": "code",
   "execution_count": 31,
   "id": "65d0f1b6",
   "metadata": {},
   "outputs": [
    {
     "name": "stderr",
     "output_type": "stream",
     "text": [
      "  4%|▍         | 2/50 [00:05<02:05,  2.62s/it]"
     ]
    },
    {
     "name": "stdout",
     "output_type": "stream",
     "text": [
      "torch.Size([32, 1024])\n"
     ]
    },
    {
     "name": "stderr",
     "output_type": "stream",
     "text": [
      "100%|██████████| 50/50 [02:11<00:00,  2.63s/it]\n"
     ]
    },
    {
     "data": {
      "text/html": [
       "<style>#sk-container-id-1 {color: black;background-color: white;}#sk-container-id-1 pre{padding: 0;}#sk-container-id-1 div.sk-toggleable {background-color: white;}#sk-container-id-1 label.sk-toggleable__label {cursor: pointer;display: block;width: 100%;margin-bottom: 0;padding: 0.3em;box-sizing: border-box;text-align: center;}#sk-container-id-1 label.sk-toggleable__label-arrow:before {content: \"▸\";float: left;margin-right: 0.25em;color: #696969;}#sk-container-id-1 label.sk-toggleable__label-arrow:hover:before {color: black;}#sk-container-id-1 div.sk-estimator:hover label.sk-toggleable__label-arrow:before {color: black;}#sk-container-id-1 div.sk-toggleable__content {max-height: 0;max-width: 0;overflow: hidden;text-align: left;background-color: #f0f8ff;}#sk-container-id-1 div.sk-toggleable__content pre {margin: 0.2em;color: black;border-radius: 0.25em;background-color: #f0f8ff;}#sk-container-id-1 input.sk-toggleable__control:checked~div.sk-toggleable__content {max-height: 200px;max-width: 100%;overflow: auto;}#sk-container-id-1 input.sk-toggleable__control:checked~label.sk-toggleable__label-arrow:before {content: \"▾\";}#sk-container-id-1 div.sk-estimator input.sk-toggleable__control:checked~label.sk-toggleable__label {background-color: #d4ebff;}#sk-container-id-1 div.sk-label input.sk-toggleable__control:checked~label.sk-toggleable__label {background-color: #d4ebff;}#sk-container-id-1 input.sk-hidden--visually {border: 0;clip: rect(1px 1px 1px 1px);clip: rect(1px, 1px, 1px, 1px);height: 1px;margin: -1px;overflow: hidden;padding: 0;position: absolute;width: 1px;}#sk-container-id-1 div.sk-estimator {font-family: monospace;background-color: #f0f8ff;border: 1px dotted black;border-radius: 0.25em;box-sizing: border-box;margin-bottom: 0.5em;}#sk-container-id-1 div.sk-estimator:hover {background-color: #d4ebff;}#sk-container-id-1 div.sk-parallel-item::after {content: \"\";width: 100%;border-bottom: 1px solid gray;flex-grow: 1;}#sk-container-id-1 div.sk-label:hover label.sk-toggleable__label {background-color: #d4ebff;}#sk-container-id-1 div.sk-serial::before {content: \"\";position: absolute;border-left: 1px solid gray;box-sizing: border-box;top: 0;bottom: 0;left: 50%;z-index: 0;}#sk-container-id-1 div.sk-serial {display: flex;flex-direction: column;align-items: center;background-color: white;padding-right: 0.2em;padding-left: 0.2em;position: relative;}#sk-container-id-1 div.sk-item {position: relative;z-index: 1;}#sk-container-id-1 div.sk-parallel {display: flex;align-items: stretch;justify-content: center;background-color: white;position: relative;}#sk-container-id-1 div.sk-item::before, #sk-container-id-1 div.sk-parallel-item::before {content: \"\";position: absolute;border-left: 1px solid gray;box-sizing: border-box;top: 0;bottom: 0;left: 50%;z-index: -1;}#sk-container-id-1 div.sk-parallel-item {display: flex;flex-direction: column;z-index: 1;position: relative;background-color: white;}#sk-container-id-1 div.sk-parallel-item:first-child::after {align-self: flex-end;width: 50%;}#sk-container-id-1 div.sk-parallel-item:last-child::after {align-self: flex-start;width: 50%;}#sk-container-id-1 div.sk-parallel-item:only-child::after {width: 0;}#sk-container-id-1 div.sk-dashed-wrapped {border: 1px dashed gray;margin: 0 0.4em 0.5em 0.4em;box-sizing: border-box;padding-bottom: 0.4em;background-color: white;}#sk-container-id-1 div.sk-label label {font-family: monospace;font-weight: bold;display: inline-block;line-height: 1.2em;}#sk-container-id-1 div.sk-label-container {text-align: center;}#sk-container-id-1 div.sk-container {/* jupyter's `normalize.less` sets `[hidden] { display: none; }` but bootstrap.min.css set `[hidden] { display: none !important; }` so we also need the `!important` here to be able to override the default hidden behavior on the sphinx rendered scikit-learn.org. See: https://github.com/scikit-learn/scikit-learn/issues/21755 */display: inline-block !important;position: relative;}#sk-container-id-1 div.sk-text-repr-fallback {display: none;}</style><div id=\"sk-container-id-1\" class=\"sk-top-container\"><div class=\"sk-text-repr-fallback\"><pre>SVC()</pre><b>In a Jupyter environment, please rerun this cell to show the HTML representation or trust the notebook. <br />On GitHub, the HTML representation is unable to render, please try loading this page with nbviewer.org.</b></div><div class=\"sk-container\" hidden><div class=\"sk-item\"><div class=\"sk-estimator sk-toggleable\"><input class=\"sk-toggleable__control sk-hidden--visually\" id=\"sk-estimator-id-1\" type=\"checkbox\" checked><label for=\"sk-estimator-id-1\" class=\"sk-toggleable__label sk-toggleable__label-arrow\">SVC</label><div class=\"sk-toggleable__content\"><pre>SVC()</pre></div></div></div></div></div>"
      ],
      "text/plain": [
       "SVC()"
      ]
     },
     "execution_count": 31,
     "metadata": {},
     "output_type": "execute_result"
    }
   ],
   "source": [
    "#this identity code are used from https://discuss.pytorch.org/t/how-to-delete-layer-in-pretrained-model/17648\n",
    "class Identity(nn.Module):\n",
    "    def __init__(self):\n",
    "        super(Identity, self).__init__()\n",
    "        \n",
    "    def forward(self, x):\n",
    "        return x\n",
    "model.classifier = Identity()\n",
    "\n",
    "for param in model.parameters():\n",
    "    param.requires_grad=False\n",
    "labels = torch.tensor([])\n",
    "outputs = torch.tensor([])\n",
    "model\n",
    "clf = svm.SVC()\n",
    "for i, (images, label) in enumerate(tqdm(train_loader)):\n",
    "    # images, labels = images.to(device), labels.to(device)\n",
    "\n",
    "\n",
    "    output = model(images)\n",
    "    if i==1:\n",
    "        print(output.size())\n",
    "    outputs = torch.cat((outputs, output))\n",
    "    labels = torch.cat((labels, label))\n",
    "    #print(outputs.size())\n",
    "# outputs = outputs.cpu()\n",
    "clf.fit(outputs.detach().numpy(), labels.numpy())"
   ]
  },
  {
   "cell_type": "code",
   "execution_count": 32,
   "id": "ecd15ab8",
   "metadata": {},
   "outputs": [
    {
     "name": "stderr",
     "output_type": "stream",
     "text": [
      "100%|██████████| 39/39 [01:32<00:00,  2.36s/it]"
     ]
    },
    {
     "name": "stdout",
     "output_type": "stream",
     "text": [
      "Accuracy of the DenseNet feature extracotr with an SVM as classifier:  99.62457410047666\n"
     ]
    },
    {
     "name": "stderr",
     "output_type": "stream",
     "text": [
      "\n"
     ]
    }
   ],
   "source": [
    "model.eval()\n",
    "\n",
    "correct = 0\n",
    "total = 0\n",
    "accuracy = []\n",
    "for images, labels in tqdm(test_loader):\n",
    "        \n",
    "    # Forward pass only to get logits/output\n",
    "    outputs = model(images)\n",
    "    preds = clf.predict(outputs.detach().numpy())\n",
    "              \n",
    "    \n",
    "    correct += len(np.where(preds==labels.numpy())[0])\n",
    "    total += len(labels)\n",
    "                 \n",
    "    # Total correct predictions and loss\n",
    "    accuracy.append(correct / total * 100)\n",
    "\n",
    "print(\"Accuracy of the DenseNet feature extracotr with an SVM as classifier: \",np.mean(accuracy))\n",
    "\n"
   ]
  },
  {
   "cell_type": "code",
   "execution_count": null,
   "id": "658d9629",
   "metadata": {},
   "outputs": [],
   "source": [
    "del model\n",
    "del outputs\n",
    "del labels\n",
    "gc.collect()\n",
    "torch.cuda.empty_cache()"
   ]
  },
  {
   "cell_type": "code",
   "execution_count": 33,
   "id": "10544818",
   "metadata": {},
   "outputs": [],
   "source": [
    "model = models.densenet121(pretrained=True)\n",
    "for param in model.parameters():\n",
    "    param.requires_grad = False\n",
    "model.classifier = nn.Linear(in_features=1024, out_features=2, bias=True)\n",
    "model.to(device)\n",
    "\n",
    "criterion = CutMixCrossEntropyLoss(True)\n",
    "optimizer = torch.optim.Adam(model.parameters(), lr=0.001)\n",
    "scheduler = torch.optim.lr_scheduler.StepLR(optimizer, step_size=7, gamma=0.1)"
   ]
  },
  {
   "cell_type": "code",
   "execution_count": 34,
   "id": "7a7e7ffa",
   "metadata": {},
   "outputs": [],
   "source": [
    "TG_dataset = GlassesAndTables(root_dir=\"./data/\", custom_transforms=data_transforms, mode=\"training\", use_cache=True, subset=True)\n",
    "test_dataset = GlassesAndTables(root_dir=\"./data/\", custom_transforms=data_transforms, mode=\"testing\", use_cache=True, subset=True)\n",
    "\n",
    "\n",
    "#we use 20% as our validation set which is 400 or 1280 depends on if we use subset or not\n",
    "train_dataset, valid_dataset =  torch.utils.data.random_split(TG_dataset, [len(TG_dataset) - 400, 400])  \n",
    "\n",
    "train_dataset = CutMix(train_dataset, num_class=2, beta=1.0, prob=0.5, num_mix=2)\n",
    "\n",
    "\n",
    "train_loader = DataLoader(train_dataset, batch_size=BSZ, shuffle=True)\n",
    "valid_loader = DataLoader(valid_dataset, batch_size=BSZ, shuffle=True)\n",
    "test_loader = DataLoader(test_dataset, batch_size=BSZ, shuffle=False)"
   ]
  },
  {
   "cell_type": "code",
   "execution_count": 35,
   "id": "d2b698c4",
   "metadata": {},
   "outputs": [
    {
     "name": "stderr",
     "output_type": "stream",
     "text": [
      "100%|██████████| 50/50 [00:16<00:00,  2.96it/s]\n"
     ]
    },
    {
     "name": "stdout",
     "output_type": "stream",
     "text": [
      "Epoch 1/10\n",
      "    Train loss: 0.49846\n",
      "    Accuracy: 75.0%\n",
      "\n",
      "\n"
     ]
    },
    {
     "name": "stderr",
     "output_type": "stream",
     "text": [
      "100%|██████████| 50/50 [00:16<00:00,  3.01it/s]\n",
      "100%|██████████| 50/50 [00:16<00:00,  3.03it/s]\n",
      "100%|██████████| 50/50 [00:16<00:00,  3.03it/s]\n",
      "100%|██████████| 50/50 [00:16<00:00,  2.99it/s]\n",
      "100%|██████████| 50/50 [00:16<00:00,  3.05it/s]\n"
     ]
    },
    {
     "name": "stdout",
     "output_type": "stream",
     "text": [
      "Epoch 6/10\n",
      "    Train loss: 0.35724\n",
      "    Accuracy: 98.75%\n",
      "\n",
      "\n"
     ]
    },
    {
     "name": "stderr",
     "output_type": "stream",
     "text": [
      "100%|██████████| 50/50 [00:17<00:00,  2.93it/s]\n",
      "100%|██████████| 50/50 [00:16<00:00,  3.00it/s]\n",
      "100%|██████████| 50/50 [00:16<00:00,  3.04it/s]\n",
      "100%|██████████| 50/50 [00:16<00:00,  3.09it/s]"
     ]
    },
    {
     "name": "stdout",
     "output_type": "stream",
     "text": [
      "Epoch 10/10\n",
      "    Train loss: 0.34909\n",
      "    Accuracy: 99.5%\n",
      "\n",
      "\n",
      "Training completed\n"
     ]
    },
    {
     "name": "stderr",
     "output_type": "stream",
     "text": [
      "\n"
     ]
    }
   ],
   "source": [
    "loss_dense, vl_dense, va_dense = train_model(model=model, optimizer=optimizer, scheduler=scheduler, criterion=criterion,\n",
    "        train_loader=train_loader, valid_loader=valid_loader, num_epochs=EPOCHS\n",
    "    )"
   ]
  },
  {
   "cell_type": "code",
   "execution_count": 36,
   "id": "e824add7",
   "metadata": {},
   "outputs": [
    {
     "name": "stdout",
     "output_type": "stream",
     "text": [
      "Test Accuracy using MobileNet: 98.79227053140096\n"
     ]
    }
   ],
   "source": [
    "test_acc_dense, test_loss_dense = eval_model(model=model, eval_loader=test_loader, criterion=criterion, device=device)\n",
    "print(\"Test Accuracy using DenseNet: {}\".format(test_acc_dense))"
   ]
  },
  {
   "cell_type": "code",
   "execution_count": null,
   "id": "c2207639",
   "metadata": {},
   "outputs": [],
   "source": [
    "del model\n",
    "del optimizer\n",
    "del scheduler\n",
    "del train_loader\n",
    "del valid_loader\n",
    "del test_loader\n",
    "gc.collect()\n",
    "torch.cuda.empty_cache()"
   ]
  },
  {
   "cell_type": "markdown",
   "id": "fdd8cca7",
   "metadata": {},
   "source": [
    "As we can see the performance with an SVM as a classifier is quite impressive with 99.81%, which is almost as good as our best classifier down below and better than the classifiers we trained above. Also this only needs to train for one epoch, which is quite an advantage over the MLP classifier.\n",
    "The good performance of the SVM classifier is also not that surprising because an SVM can be seen as a 2 Layer fully connected network.\n",
    "\n",
    "We can not really compare it to a fine tuned densenet because the model is to big to be trained on 10GB of GPU memory. So we only compare it with the MLP classifier.\n",
    "The performance of the SVM as a classifier is better than the MLP and the training time is also shorter.\n",
    "We would suggest, that the SVM is the clear winner here!"
   ]
  },
  {
   "cell_type": "markdown",
   "metadata": {},
   "source": [
    "## Ex. 2 training with full dataset"
   ]
  },
  {
   "cell_type": "markdown",
   "id": "beb6a3fd",
   "metadata": {},
   "source": [
    "To find the best combination of augmentations and parameters we run an optuna trial.\n",
    "\n",
    "Augmentations:"
   ]
  },
  {
   "cell_type": "code",
   "execution_count": 7,
   "id": "ad3c015e",
   "metadata": {},
   "outputs": [],
   "source": [
    "possible_augmentations = [{\n",
    "    'train': transforms.Compose([\n",
    "        transforms.RandomHorizontalFlip(p=0.5),\n",
    "        transforms.RandomRotation(30),\n",
    "        transforms.ToTensor(),\n",
    "        transforms.Normalize([0.485, 0.456, 0.406], [0.229, 0.224, 0.225])\n",
    "    ]),\n",
    "    'test': transforms.Compose([\n",
    "        transforms.ToTensor(),\n",
    "        transforms.Normalize([0.485, 0.456, 0.406], [0.229, 0.224, 0.225])\n",
    "    ]),\n",
    "},\n",
    "{\n",
    "    'train': transforms.Compose([\n",
    "        transforms.RandomHorizontalFlip(p=0.5),\n",
    "        transforms.ToTensor(),\n",
    "        transforms.Normalize([0.485, 0.456, 0.406], [0.229, 0.224, 0.225])\n",
    "    ]),\n",
    "    'test': transforms.Compose([\n",
    "        transforms.ToTensor(),\n",
    "        transforms.Normalize([0.485, 0.456, 0.406], [0.229, 0.224, 0.225])\n",
    "    ]),\n",
    "},\n",
    "{\n",
    "    'train': transforms.Compose([\n",
    "        transforms.RandomHorizontalFlip(p=0.5),\n",
    "        transforms.RandomRotation(30),\n",
    "        transforms.ColorJitter(brightness=0.4, contrast=0.4, saturation=0.4, hue=0.2),\n",
    "        transforms.ToTensor(),\n",
    "        transforms.Normalize([0.485, 0.456, 0.406], [0.229, 0.224, 0.225])\n",
    "    ]),\n",
    "    'test': transforms.Compose([\n",
    "        transforms.ToTensor(),\n",
    "        transforms.Normalize([0.485, 0.456, 0.406], [0.229, 0.224, 0.225])\n",
    "    ]),\n",
    "}]"
   ]
  },
  {
   "cell_type": "code",
   "execution_count": 8,
   "id": "175a9633",
   "metadata": {},
   "outputs": [],
   "source": [
    "def objective(trial):\n",
    "    n_epochs = 10\n",
    "    model_name = trial.suggest_categorical(\"architecture\", [\"resnet50\",\"resnet18\", \"vgg11\"])\n",
    "    model = getattr(torchvision.models, model_name)(pretrained=True)\n",
    "\n",
    "    if model_name == \"resnet18\":\n",
    "        model.fc = nn.Linear(in_features=512, out_features=2, bias=True)\n",
    "    elif model_name == \"vgg11\":\n",
    "        model.classifier[-1] = nn.Linear(4096, 2)\n",
    "    else:\n",
    "        model.fc = nn.Linear(in_features=2048, out_features=2, bias=True)\n",
    "    model = model.to(device)\n",
    "    lr = 0.001\n",
    "    mixup = trial.suggest_categorical(\"cutmix\", [True, False])\n",
    "    bsz = 32\n",
    "    gamma = trial.suggest_categorical(\"gamma\", [0.1,0.2,0.4,1.0])\n",
    "    augmentation = trial.suggest_categorical(\"augmentation\", possible_augmentations)\n",
    "\n",
    "\n",
    "    optimizer = torch.optim.Adam(model.parameters(), lr=lr)\n",
    "    scheduler = torch.optim.lr_scheduler.StepLR(optimizer, step_size=5, gamma=gamma)\n",
    "\n",
    "\n",
    "    TG_dataset = GlassesAndTables(root_dir=\"./data/\", custom_transforms=augmentation, mode=\"training\", use_cache=True, subset=False)\n",
    "    test_dataset = GlassesAndTables(root_dir=\"./data/\", custom_transforms=augmentation, mode=\"testing\", use_cache=True, subset=False)\n",
    "\n",
    "\n",
    "    #we use 20% as our validation set which is 400 or 1280 depends on if we use subset or not\n",
    "    train_dataset, valid_dataset =  torch.utils.data.random_split(TG_dataset, [len(TG_dataset) - 1280, 1280])  \n",
    "    if mixup:\n",
    "        train_dataset = CutMix(train_dataset, num_class=2, beta=1.0, prob=0.5, num_mix=2)\n",
    "\n",
    "\n",
    "    train_loader_cut = DataLoader(train_dataset, batch_size=bsz, shuffle=True)\n",
    "    valid_loader_cut = DataLoader(valid_dataset, batch_size=bsz, shuffle=True)\n",
    "    test_loader_cut = DataLoader(test_dataset, batch_size=bsz, shuffle=False)\n",
    "\n",
    "\n",
    "    if mixup:\n",
    "        criterion = CutMixCrossEntropyLoss(True)\n",
    "    else: \n",
    "        criterion = torch.nn.CrossEntropyLoss()\n",
    "        \n",
    "    print(\"Model: {}, Learning Rate: {}, Mixup: {}, Batchsize: {}, Gamma: {}\".format(model_name, lr, str(mixup), bsz, gamma))\n",
    "\n",
    "    for epoch in range(n_epochs):\n",
    "        epoch_loss = train_epoch(model, train_loader_cut, optimizer, criterion, device)\n",
    "        validation_acc, validation_loss = eval_model(model, valid_loader_cut, criterion, device)\n",
    "\n",
    "        \n",
    "        trial.report(validation_acc, epoch)\n",
    "        \n",
    "        if trial.should_prune():\n",
    "            raise optuna.exceptions.TrialPruned()\n",
    "        \n",
    "        scheduler.step()\n",
    "    \n",
    "    test_acc, test_loss = eval_model(model, test_loader_cut, criterion, device)\n",
    "    print(\"Test accuracy: \", test_acc)\n",
    "\n",
    "    #we sometimes had problems with memory leaks, so delete the references after each trial\n",
    "    del model\n",
    "    del optimizer\n",
    "    del scheduler\n",
    "    del train_loader_cut\n",
    "    del valid_loader_cut\n",
    "    del test_loader_cut\n",
    "    gc.collect()\n",
    "    torch.cuda.empty_cache()\n",
    "    return test_acc "
   ]
  },
  {
   "cell_type": "code",
   "execution_count": 9,
   "id": "347002fb",
   "metadata": {},
   "outputs": [
    {
     "name": "stderr",
     "output_type": "stream",
     "text": [
      "\u001b[32m[I 2022-05-29 18:32:53,422]\u001b[0m A new study created in memory with name: no-name-5ef2a82c-a7e1-48e2-ba9d-adaad91cd7a2\u001b[0m\n"
     ]
    },
    {
     "name": "stdout",
     "output_type": "stream",
     "text": [
      "Model: vgg11, Learning Rate: 0.001, Mixup: True, Batchsize: 32, Gamma: 0.4\n"
     ]
    },
    {
     "name": "stderr",
     "output_type": "stream",
     "text": [
      "100%|██████████| 160/160 [00:53<00:00,  3.01it/s]\n",
      "100%|██████████| 160/160 [00:49<00:00,  3.21it/s]\n",
      "100%|██████████| 160/160 [00:49<00:00,  3.26it/s]\n",
      "100%|██████████| 160/160 [00:49<00:00,  3.21it/s]\n",
      "100%|██████████| 160/160 [00:50<00:00,  3.17it/s]\n",
      "100%|██████████| 160/160 [00:49<00:00,  3.21it/s]\n",
      "100%|██████████| 160/160 [00:50<00:00,  3.17it/s]\n",
      "100%|██████████| 160/160 [00:49<00:00,  3.21it/s]\n",
      "100%|██████████| 160/160 [00:50<00:00,  3.20it/s]\n",
      "100%|██████████| 160/160 [00:51<00:00,  3.09it/s]\n",
      "\u001b[32m[I 2022-05-29 18:42:29,869]\u001b[0m Trial 0 finished with value: 97.34299516908213 and parameters: {'architecture': 'vgg11', 'cutmix': True, 'gamma': 0.4, 'augmentation': {'train': Compose(\n",
      "    RandomHorizontalFlip(p=0.5)\n",
      "    RandomRotation(degrees=[-30.0, 30.0], interpolation=nearest, expand=False, fill=0)\n",
      "    ColorJitter(brightness=[0.6, 1.4], contrast=[0.6, 1.4], saturation=[0.6, 1.4], hue=[-0.2, 0.2])\n",
      "    ToTensor()\n",
      "    Normalize(mean=[0.485, 0.456, 0.406], std=[0.229, 0.224, 0.225])\n",
      "), 'test': Compose(\n",
      "    ToTensor()\n",
      "    Normalize(mean=[0.485, 0.456, 0.406], std=[0.229, 0.224, 0.225])\n",
      ")}}. Best is trial 0 with value: 97.34299516908213.\u001b[0m\n"
     ]
    },
    {
     "name": "stdout",
     "output_type": "stream",
     "text": [
      "Test accuracy:  97.34299516908213\n",
      "Model: resnet18, Learning Rate: 0.001, Mixup: True, Batchsize: 32, Gamma: 0.1\n"
     ]
    },
    {
     "name": "stderr",
     "output_type": "stream",
     "text": [
      "100%|██████████| 160/160 [00:14<00:00, 10.78it/s]\n",
      "100%|██████████| 160/160 [00:14<00:00, 10.76it/s]\n",
      "100%|██████████| 160/160 [00:14<00:00, 11.06it/s]\n",
      "100%|██████████| 160/160 [00:14<00:00, 11.23it/s]\n",
      "100%|██████████| 160/160 [00:14<00:00, 11.21it/s]\n",
      "100%|██████████| 160/160 [00:14<00:00, 11.17it/s]\n",
      "100%|██████████| 160/160 [00:14<00:00, 11.18it/s]\n",
      "100%|██████████| 160/160 [00:14<00:00, 11.30it/s]\n",
      "100%|██████████| 160/160 [00:14<00:00, 11.21it/s]\n",
      "100%|██████████| 160/160 [00:14<00:00, 11.17it/s]\n",
      "\u001b[32m[I 2022-05-29 18:45:14,309]\u001b[0m Trial 1 finished with value: 99.59742351046698 and parameters: {'architecture': 'resnet18', 'cutmix': True, 'gamma': 0.1, 'augmentation': {'train': Compose(\n",
      "    RandomHorizontalFlip(p=0.5)\n",
      "    RandomRotation(degrees=[-30.0, 30.0], interpolation=nearest, expand=False, fill=0)\n",
      "    ToTensor()\n",
      "    Normalize(mean=[0.485, 0.456, 0.406], std=[0.229, 0.224, 0.225])\n",
      "), 'test': Compose(\n",
      "    ToTensor()\n",
      "    Normalize(mean=[0.485, 0.456, 0.406], std=[0.229, 0.224, 0.225])\n",
      ")}}. Best is trial 1 with value: 99.59742351046698.\u001b[0m\n"
     ]
    },
    {
     "name": "stdout",
     "output_type": "stream",
     "text": [
      "Test accuracy:  99.59742351046698\n",
      "Model: resnet18, Learning Rate: 0.001, Mixup: False, Batchsize: 32, Gamma: 0.4\n"
     ]
    },
    {
     "name": "stderr",
     "output_type": "stream",
     "text": [
      "100%|██████████| 160/160 [00:09<00:00, 17.36it/s]\n",
      "100%|██████████| 160/160 [00:09<00:00, 17.28it/s]\n",
      "100%|██████████| 160/160 [00:09<00:00, 17.19it/s]\n",
      "100%|██████████| 160/160 [00:09<00:00, 17.29it/s]\n",
      "100%|██████████| 160/160 [00:09<00:00, 17.27it/s]\n",
      "100%|██████████| 160/160 [00:09<00:00, 17.26it/s]\n",
      "100%|██████████| 160/160 [00:09<00:00, 17.33it/s]\n",
      "100%|██████████| 160/160 [00:09<00:00, 17.35it/s]\n",
      "100%|██████████| 160/160 [00:09<00:00, 17.28it/s]\n",
      "100%|██████████| 160/160 [00:09<00:00, 17.28it/s]\n",
      "\u001b[32m[I 2022-05-29 18:47:07,145]\u001b[0m Trial 2 finished with value: 99.7584541062802 and parameters: {'architecture': 'resnet18', 'cutmix': False, 'gamma': 0.4, 'augmentation': {'train': Compose(\n",
      "    RandomHorizontalFlip(p=0.5)\n",
      "    RandomRotation(degrees=[-30.0, 30.0], interpolation=nearest, expand=False, fill=0)\n",
      "    ToTensor()\n",
      "    Normalize(mean=[0.485, 0.456, 0.406], std=[0.229, 0.224, 0.225])\n",
      "), 'test': Compose(\n",
      "    ToTensor()\n",
      "    Normalize(mean=[0.485, 0.456, 0.406], std=[0.229, 0.224, 0.225])\n",
      ")}}. Best is trial 2 with value: 99.7584541062802.\u001b[0m\n"
     ]
    },
    {
     "name": "stdout",
     "output_type": "stream",
     "text": [
      "Test accuracy:  99.7584541062802\n",
      "Model: resnet50, Learning Rate: 0.001, Mixup: True, Batchsize: 32, Gamma: 0.2\n"
     ]
    },
    {
     "name": "stderr",
     "output_type": "stream",
     "text": [
      "100%|██████████| 160/160 [00:22<00:00,  7.22it/s]\n",
      "100%|██████████| 160/160 [00:21<00:00,  7.50it/s]\n",
      "100%|██████████| 160/160 [00:21<00:00,  7.47it/s]\n",
      "100%|██████████| 160/160 [00:21<00:00,  7.49it/s]\n",
      "100%|██████████| 160/160 [00:21<00:00,  7.40it/s]\n",
      "100%|██████████| 160/160 [00:21<00:00,  7.44it/s]\n",
      "100%|██████████| 160/160 [00:21<00:00,  7.49it/s]\n",
      "100%|██████████| 160/160 [00:21<00:00,  7.47it/s]\n",
      "100%|██████████| 160/160 [00:21<00:00,  7.49it/s]\n",
      "100%|██████████| 160/160 [00:21<00:00,  7.49it/s]\n",
      "\u001b[32m[I 2022-05-29 18:51:13,061]\u001b[0m Trial 3 finished with value: 99.59742351046698 and parameters: {'architecture': 'resnet50', 'cutmix': True, 'gamma': 0.2, 'augmentation': {'train': Compose(\n",
      "    RandomHorizontalFlip(p=0.5)\n",
      "    RandomRotation(degrees=[-30.0, 30.0], interpolation=nearest, expand=False, fill=0)\n",
      "    ToTensor()\n",
      "    Normalize(mean=[0.485, 0.456, 0.406], std=[0.229, 0.224, 0.225])\n",
      "), 'test': Compose(\n",
      "    ToTensor()\n",
      "    Normalize(mean=[0.485, 0.456, 0.406], std=[0.229, 0.224, 0.225])\n",
      ")}}. Best is trial 2 with value: 99.7584541062802.\u001b[0m\n"
     ]
    },
    {
     "name": "stdout",
     "output_type": "stream",
     "text": [
      "Test accuracy:  99.59742351046698\n",
      "Model: resnet50, Learning Rate: 0.001, Mixup: False, Batchsize: 32, Gamma: 1.0\n"
     ]
    },
    {
     "name": "stderr",
     "output_type": "stream",
     "text": [
      "100%|██████████| 160/160 [00:32<00:00,  4.93it/s]\n",
      "100%|██████████| 160/160 [00:32<00:00,  4.93it/s]\n",
      "100%|██████████| 160/160 [00:32<00:00,  4.86it/s]\n",
      "100%|██████████| 160/160 [00:32<00:00,  4.95it/s]\n",
      "100%|██████████| 160/160 [00:32<00:00,  4.86it/s]\n",
      "100%|██████████| 160/160 [00:32<00:00,  4.92it/s]\n",
      "100%|██████████| 160/160 [00:32<00:00,  4.93it/s]\n",
      "100%|██████████| 160/160 [00:32<00:00,  4.90it/s]\n",
      "100%|██████████| 160/160 [00:32<00:00,  4.88it/s]\n",
      "100%|██████████| 160/160 [00:33<00:00,  4.74it/s]\n",
      "\u001b[32m[I 2022-05-29 18:57:52,469]\u001b[0m Trial 4 finished with value: 99.03381642512076 and parameters: {'architecture': 'resnet50', 'cutmix': False, 'gamma': 1.0, 'augmentation': {'train': Compose(\n",
      "    RandomHorizontalFlip(p=0.5)\n",
      "    RandomRotation(degrees=[-30.0, 30.0], interpolation=nearest, expand=False, fill=0)\n",
      "    ColorJitter(brightness=[0.6, 1.4], contrast=[0.6, 1.4], saturation=[0.6, 1.4], hue=[-0.2, 0.2])\n",
      "    ToTensor()\n",
      "    Normalize(mean=[0.485, 0.456, 0.406], std=[0.229, 0.224, 0.225])\n",
      "), 'test': Compose(\n",
      "    ToTensor()\n",
      "    Normalize(mean=[0.485, 0.456, 0.406], std=[0.229, 0.224, 0.225])\n",
      ")}}. Best is trial 2 with value: 99.7584541062802.\u001b[0m\n"
     ]
    },
    {
     "name": "stdout",
     "output_type": "stream",
     "text": [
      "Test accuracy:  99.03381642512076\n",
      "Model: vgg11, Learning Rate: 0.001, Mixup: True, Batchsize: 32, Gamma: 0.2\n"
     ]
    },
    {
     "name": "stderr",
     "output_type": "stream",
     "text": [
      "100%|██████████| 160/160 [00:49<00:00,  3.25it/s]\n",
      "\u001b[32m[I 2022-05-29 18:58:49,634]\u001b[0m Trial 5 pruned. \u001b[0m\n"
     ]
    },
    {
     "name": "stdout",
     "output_type": "stream",
     "text": [
      "Model: vgg11, Learning Rate: 0.001, Mixup: False, Batchsize: 32, Gamma: 0.1\n"
     ]
    },
    {
     "name": "stderr",
     "output_type": "stream",
     "text": [
      "100%|██████████| 160/160 [00:17<00:00,  8.93it/s]\n",
      "\u001b[32m[I 2022-05-29 18:59:11,186]\u001b[0m Trial 6 pruned. \u001b[0m\n"
     ]
    },
    {
     "name": "stdout",
     "output_type": "stream",
     "text": [
      "Model: resnet50, Learning Rate: 0.001, Mixup: False, Batchsize: 32, Gamma: 0.4\n"
     ]
    },
    {
     "name": "stderr",
     "output_type": "stream",
     "text": [
      "100%|██████████| 160/160 [00:20<00:00,  7.96it/s]\n",
      "\u001b[32m[I 2022-05-29 18:59:34,363]\u001b[0m Trial 7 pruned. \u001b[0m\n"
     ]
    },
    {
     "name": "stdout",
     "output_type": "stream",
     "text": [
      "Model: vgg11, Learning Rate: 0.001, Mixup: True, Batchsize: 32, Gamma: 0.4\n"
     ]
    },
    {
     "name": "stderr",
     "output_type": "stream",
     "text": [
      "100%|██████████| 160/160 [00:18<00:00,  8.85it/s]\n",
      "\u001b[32m[I 2022-05-29 18:59:55,924]\u001b[0m Trial 8 pruned. \u001b[0m\n"
     ]
    },
    {
     "name": "stdout",
     "output_type": "stream",
     "text": [
      "Model: resnet50, Learning Rate: 0.001, Mixup: False, Batchsize: 32, Gamma: 0.2\n"
     ]
    },
    {
     "name": "stderr",
     "output_type": "stream",
     "text": [
      "100%|██████████| 160/160 [00:32<00:00,  4.89it/s]\n",
      "100%|██████████| 160/160 [00:32<00:00,  4.89it/s]\n",
      "100%|██████████| 160/160 [00:32<00:00,  4.89it/s]\n",
      "100%|██████████| 160/160 [00:32<00:00,  4.89it/s]\n",
      "100%|██████████| 160/160 [00:32<00:00,  4.89it/s]\n",
      "\u001b[32m[I 2022-05-29 19:03:14,453]\u001b[0m Trial 9 pruned. \u001b[0m\n"
     ]
    },
    {
     "name": "stdout",
     "output_type": "stream",
     "text": [
      "Model: resnet18, Learning Rate: 0.001, Mixup: False, Batchsize: 32, Gamma: 1.0\n"
     ]
    },
    {
     "name": "stderr",
     "output_type": "stream",
     "text": [
      "100%|██████████| 160/160 [00:09<00:00, 17.24it/s]\n",
      "100%|██████████| 160/160 [00:09<00:00, 17.26it/s]\n",
      "100%|██████████| 160/160 [00:09<00:00, 17.39it/s]\n",
      "\u001b[32m[I 2022-05-29 19:03:47,935]\u001b[0m Trial 10 pruned. \u001b[0m\n"
     ]
    },
    {
     "name": "stdout",
     "output_type": "stream",
     "text": [
      "Model: resnet18, Learning Rate: 0.001, Mixup: True, Batchsize: 32, Gamma: 0.1\n"
     ]
    },
    {
     "name": "stderr",
     "output_type": "stream",
     "text": [
      "100%|██████████| 160/160 [00:14<00:00, 11.05it/s]\n",
      "100%|██████████| 160/160 [00:14<00:00, 11.12it/s]\n",
      "100%|██████████| 160/160 [00:14<00:00, 11.01it/s]\n",
      "100%|██████████| 160/160 [00:14<00:00, 11.06it/s]\n",
      "100%|██████████| 160/160 [00:14<00:00, 11.14it/s]\n",
      "100%|██████████| 160/160 [00:14<00:00, 11.19it/s]\n",
      "100%|██████████| 160/160 [00:14<00:00, 11.15it/s]\n",
      "100%|██████████| 160/160 [00:14<00:00, 11.21it/s]\n",
      "100%|██████████| 160/160 [00:14<00:00, 11.15it/s]\n",
      "100%|██████████| 160/160 [00:14<00:00, 11.18it/s]\n",
      "\u001b[32m[I 2022-05-29 19:06:32,304]\u001b[0m Trial 11 finished with value: 99.7584541062802 and parameters: {'architecture': 'resnet18', 'cutmix': True, 'gamma': 0.1, 'augmentation': {'train': Compose(\n",
      "    RandomHorizontalFlip(p=0.5)\n",
      "    RandomRotation(degrees=[-30.0, 30.0], interpolation=nearest, expand=False, fill=0)\n",
      "    ToTensor()\n",
      "    Normalize(mean=[0.485, 0.456, 0.406], std=[0.229, 0.224, 0.225])\n",
      "), 'test': Compose(\n",
      "    ToTensor()\n",
      "    Normalize(mean=[0.485, 0.456, 0.406], std=[0.229, 0.224, 0.225])\n",
      ")}}. Best is trial 2 with value: 99.7584541062802.\u001b[0m\n"
     ]
    },
    {
     "name": "stdout",
     "output_type": "stream",
     "text": [
      "Test accuracy:  99.7584541062802\n",
      "Model: resnet18, Learning Rate: 0.001, Mixup: True, Batchsize: 32, Gamma: 0.1\n"
     ]
    },
    {
     "name": "stderr",
     "output_type": "stream",
     "text": [
      "100%|██████████| 160/160 [00:14<00:00, 11.22it/s]\n",
      "100%|██████████| 160/160 [00:14<00:00, 11.26it/s]\n",
      "100%|██████████| 160/160 [00:14<00:00, 11.07it/s]\n",
      "100%|██████████| 160/160 [00:14<00:00, 11.18it/s]\n",
      "100%|██████████| 160/160 [00:14<00:00, 11.28it/s]\n",
      "100%|██████████| 160/160 [00:14<00:00, 11.28it/s]\n",
      "100%|██████████| 160/160 [00:14<00:00, 11.27it/s]\n",
      "100%|██████████| 160/160 [00:14<00:00, 11.32it/s]\n",
      "100%|██████████| 160/160 [00:14<00:00, 11.23it/s]\n",
      "100%|██████████| 160/160 [00:14<00:00, 11.26it/s]\n",
      "\u001b[32m[I 2022-05-29 19:09:15,022]\u001b[0m Trial 12 finished with value: 99.7584541062802 and parameters: {'architecture': 'resnet18', 'cutmix': True, 'gamma': 0.1, 'augmentation': {'train': Compose(\n",
      "    RandomHorizontalFlip(p=0.5)\n",
      "    RandomRotation(degrees=[-30.0, 30.0], interpolation=nearest, expand=False, fill=0)\n",
      "    ToTensor()\n",
      "    Normalize(mean=[0.485, 0.456, 0.406], std=[0.229, 0.224, 0.225])\n",
      "), 'test': Compose(\n",
      "    ToTensor()\n",
      "    Normalize(mean=[0.485, 0.456, 0.406], std=[0.229, 0.224, 0.225])\n",
      ")}}. Best is trial 2 with value: 99.7584541062802.\u001b[0m\n"
     ]
    },
    {
     "name": "stdout",
     "output_type": "stream",
     "text": [
      "Test accuracy:  99.7584541062802\n",
      "Model: resnet18, Learning Rate: 0.001, Mixup: False, Batchsize: 32, Gamma: 0.1\n"
     ]
    },
    {
     "name": "stderr",
     "output_type": "stream",
     "text": [
      "100%|██████████| 160/160 [00:09<00:00, 17.33it/s]\n",
      "\u001b[32m[I 2022-05-29 19:09:26,291]\u001b[0m Trial 13 pruned. \u001b[0m\n"
     ]
    },
    {
     "name": "stdout",
     "output_type": "stream",
     "text": [
      "Model: resnet18, Learning Rate: 0.001, Mixup: False, Batchsize: 32, Gamma: 0.4\n"
     ]
    },
    {
     "name": "stderr",
     "output_type": "stream",
     "text": [
      "100%|██████████| 160/160 [00:09<00:00, 17.33it/s]\n",
      "100%|██████████| 160/160 [00:09<00:00, 17.33it/s]\n",
      "100%|██████████| 160/160 [00:09<00:00, 16.96it/s]\n",
      "\u001b[32m[I 2022-05-29 19:10:00,043]\u001b[0m Trial 14 pruned. \u001b[0m\n"
     ]
    },
    {
     "name": "stdout",
     "output_type": "stream",
     "text": [
      "Model: resnet18, Learning Rate: 0.001, Mixup: True, Batchsize: 32, Gamma: 0.1\n"
     ]
    },
    {
     "name": "stderr",
     "output_type": "stream",
     "text": [
      "100%|██████████| 160/160 [00:14<00:00, 10.85it/s]\n",
      "100%|██████████| 160/160 [00:14<00:00, 10.75it/s]\n",
      "100%|██████████| 160/160 [00:14<00:00, 10.86it/s]\n",
      "\u001b[32m[I 2022-05-29 19:10:50,368]\u001b[0m Trial 15 pruned. \u001b[0m\n"
     ]
    },
    {
     "name": "stdout",
     "output_type": "stream",
     "text": [
      "Model: resnet18, Learning Rate: 0.001, Mixup: True, Batchsize: 32, Gamma: 0.4\n"
     ]
    },
    {
     "name": "stderr",
     "output_type": "stream",
     "text": [
      "100%|██████████| 160/160 [00:13<00:00, 12.14it/s]\n",
      "100%|██████████| 160/160 [00:13<00:00, 12.17it/s]\n",
      "100%|██████████| 160/160 [00:13<00:00, 12.17it/s]\n",
      "100%|██████████| 160/160 [00:13<00:00, 12.13it/s]\n",
      "100%|██████████| 160/160 [00:13<00:00, 12.14it/s]\n",
      "100%|██████████| 160/160 [00:13<00:00, 12.12it/s]\n",
      "100%|██████████| 160/160 [00:13<00:00, 12.09it/s]\n",
      "100%|██████████| 160/160 [00:13<00:00, 12.14it/s]\n",
      "100%|██████████| 160/160 [00:13<00:00, 12.12it/s]\n",
      "100%|██████████| 160/160 [00:13<00:00, 12.18it/s]\n",
      "\u001b[32m[I 2022-05-29 19:13:21,243]\u001b[0m Trial 16 finished with value: 99.8389694041868 and parameters: {'architecture': 'resnet18', 'cutmix': True, 'gamma': 0.4, 'augmentation': {'train': Compose(\n",
      "    RandomHorizontalFlip(p=0.5)\n",
      "    ToTensor()\n",
      "    Normalize(mean=[0.485, 0.456, 0.406], std=[0.229, 0.224, 0.225])\n",
      "), 'test': Compose(\n",
      "    ToTensor()\n",
      "    Normalize(mean=[0.485, 0.456, 0.406], std=[0.229, 0.224, 0.225])\n",
      ")}}. Best is trial 16 with value: 99.8389694041868.\u001b[0m\n"
     ]
    },
    {
     "name": "stdout",
     "output_type": "stream",
     "text": [
      "Test accuracy:  99.8389694041868\n",
      "Model: resnet18, Learning Rate: 0.001, Mixup: False, Batchsize: 32, Gamma: 0.4\n"
     ]
    },
    {
     "name": "stderr",
     "output_type": "stream",
     "text": [
      "100%|██████████| 160/160 [00:08<00:00, 18.07it/s]\n",
      "100%|██████████| 160/160 [00:08<00:00, 18.11it/s]\n",
      "100%|██████████| 160/160 [00:08<00:00, 18.15it/s]\n",
      "100%|██████████| 160/160 [00:08<00:00, 18.07it/s]\n",
      "100%|██████████| 160/160 [00:08<00:00, 18.00it/s]\n",
      "100%|██████████| 160/160 [00:08<00:00, 18.04it/s]\n",
      "100%|██████████| 160/160 [00:08<00:00, 18.13it/s]\n",
      "100%|██████████| 160/160 [00:08<00:00, 18.01it/s]\n",
      "100%|██████████| 160/160 [00:08<00:00, 18.04it/s]\n",
      "\u001b[32m[I 2022-05-29 19:14:56,669]\u001b[0m Trial 17 pruned. \u001b[0m\n"
     ]
    },
    {
     "name": "stdout",
     "output_type": "stream",
     "text": [
      "Model: resnet18, Learning Rate: 0.001, Mixup: False, Batchsize: 32, Gamma: 0.4\n"
     ]
    },
    {
     "name": "stderr",
     "output_type": "stream",
     "text": [
      "100%|██████████| 160/160 [00:08<00:00, 18.20it/s]\n",
      "100%|██████████| 160/160 [00:08<00:00, 18.15it/s]\n",
      "100%|██████████| 160/160 [00:08<00:00, 18.24it/s]\n",
      "100%|██████████| 160/160 [00:08<00:00, 18.71it/s]\n",
      "100%|██████████| 160/160 [00:08<00:00, 18.75it/s]\n",
      "100%|██████████| 160/160 [00:08<00:00, 18.71it/s]\n",
      "100%|██████████| 160/160 [00:08<00:00, 18.75it/s]\n",
      "100%|██████████| 160/160 [00:08<00:00, 18.75it/s]\n",
      "100%|██████████| 160/160 [00:08<00:00, 18.83it/s]\n",
      "\u001b[32m[I 2022-05-29 19:16:29,577]\u001b[0m Trial 18 pruned. \u001b[0m\n"
     ]
    },
    {
     "name": "stdout",
     "output_type": "stream",
     "text": [
      "Model: resnet18, Learning Rate: 0.001, Mixup: True, Batchsize: 32, Gamma: 0.4\n"
     ]
    },
    {
     "name": "stderr",
     "output_type": "stream",
     "text": [
      "100%|██████████| 160/160 [00:12<00:00, 12.58it/s]\n",
      "100%|██████████| 160/160 [00:12<00:00, 12.48it/s]\n",
      "100%|██████████| 160/160 [00:12<00:00, 12.58it/s]\n",
      "100%|██████████| 160/160 [00:13<00:00, 12.08it/s]\n",
      "100%|██████████| 160/160 [00:12<00:00, 12.64it/s]\n",
      "100%|██████████| 160/160 [00:12<00:00, 12.62it/s]\n",
      "100%|██████████| 160/160 [00:12<00:00, 12.66it/s]\n",
      "100%|██████████| 160/160 [00:12<00:00, 12.69it/s]\n",
      "100%|██████████| 160/160 [00:12<00:00, 12.67it/s]\n",
      "\u001b[32m[I 2022-05-29 19:18:39,627]\u001b[0m Trial 19 pruned. \u001b[0m\n"
     ]
    },
    {
     "name": "stdout",
     "output_type": "stream",
     "text": [
      "Model: resnet18, Learning Rate: 0.001, Mixup: False, Batchsize: 32, Gamma: 0.4\n"
     ]
    },
    {
     "name": "stderr",
     "output_type": "stream",
     "text": [
      "100%|██████████| 160/160 [00:08<00:00, 19.00it/s]\n",
      "\u001b[32m[I 2022-05-29 19:18:49,911]\u001b[0m Trial 20 pruned. \u001b[0m\n"
     ]
    },
    {
     "name": "stdout",
     "output_type": "stream",
     "text": [
      "Model: resnet18, Learning Rate: 0.001, Mixup: True, Batchsize: 32, Gamma: 1.0\n"
     ]
    },
    {
     "name": "stderr",
     "output_type": "stream",
     "text": [
      "100%|██████████| 160/160 [00:14<00:00, 11.26it/s]\n",
      "100%|██████████| 160/160 [00:14<00:00, 11.33it/s]\n",
      "100%|██████████| 160/160 [00:14<00:00, 11.23it/s]\n",
      "100%|██████████| 160/160 [00:14<00:00, 10.88it/s]\n",
      "100%|██████████| 160/160 [00:14<00:00, 11.22it/s]\n",
      "100%|██████████| 160/160 [00:14<00:00, 11.18it/s]\n",
      "\u001b[32m[I 2022-05-29 19:20:27,154]\u001b[0m Trial 21 pruned. \u001b[0m\n"
     ]
    },
    {
     "name": "stdout",
     "output_type": "stream",
     "text": [
      "Model: resnet18, Learning Rate: 0.001, Mixup: True, Batchsize: 32, Gamma: 0.1\n"
     ]
    },
    {
     "name": "stderr",
     "output_type": "stream",
     "text": [
      "100%|██████████| 160/160 [00:14<00:00, 11.24it/s]\n",
      "100%|██████████| 160/160 [00:14<00:00, 11.17it/s]\n",
      "100%|██████████| 160/160 [00:14<00:00, 11.23it/s]\n",
      "100%|██████████| 160/160 [00:14<00:00, 11.20it/s]\n",
      "100%|██████████| 160/160 [00:14<00:00, 11.09it/s]\n",
      "100%|██████████| 160/160 [00:14<00:00, 11.21it/s]\n",
      "100%|██████████| 160/160 [00:14<00:00, 11.24it/s]\n",
      "100%|██████████| 160/160 [00:14<00:00, 11.25it/s]\n",
      "100%|██████████| 160/160 [00:14<00:00, 11.32it/s]\n",
      "\u001b[32m[I 2022-05-29 19:22:52,327]\u001b[0m Trial 22 pruned. \u001b[0m\n"
     ]
    },
    {
     "name": "stdout",
     "output_type": "stream",
     "text": [
      "Model: resnet18, Learning Rate: 0.001, Mixup: True, Batchsize: 32, Gamma: 0.4\n"
     ]
    },
    {
     "name": "stderr",
     "output_type": "stream",
     "text": [
      "100%|██████████| 160/160 [00:12<00:00, 12.52it/s]\n",
      "100%|██████████| 160/160 [00:12<00:00, 12.66it/s]\n",
      "100%|██████████| 160/160 [00:12<00:00, 12.62it/s]\n",
      "100%|██████████| 160/160 [00:12<00:00, 12.52it/s]\n",
      "100%|██████████| 160/160 [00:13<00:00, 12.05it/s]\n",
      "100%|██████████| 160/160 [00:13<00:00, 11.50it/s]\n",
      "100%|██████████| 160/160 [00:14<00:00, 11.24it/s]\n",
      "100%|██████████| 160/160 [00:13<00:00, 12.01it/s]\n",
      "100%|██████████| 160/160 [00:13<00:00, 12.26it/s]\n",
      "100%|██████████| 160/160 [00:13<00:00, 12.10it/s]\n",
      "\u001b[32m[I 2022-05-29 19:25:23,105]\u001b[0m Trial 23 finished with value: 99.7584541062802 and parameters: {'architecture': 'resnet18', 'cutmix': True, 'gamma': 0.4, 'augmentation': {'train': Compose(\n",
      "    RandomHorizontalFlip(p=0.5)\n",
      "    ToTensor()\n",
      "    Normalize(mean=[0.485, 0.456, 0.406], std=[0.229, 0.224, 0.225])\n",
      "), 'test': Compose(\n",
      "    ToTensor()\n",
      "    Normalize(mean=[0.485, 0.456, 0.406], std=[0.229, 0.224, 0.225])\n",
      ")}}. Best is trial 16 with value: 99.8389694041868.\u001b[0m\n"
     ]
    },
    {
     "name": "stdout",
     "output_type": "stream",
     "text": [
      "Test accuracy:  99.7584541062802\n",
      "Model: resnet18, Learning Rate: 0.001, Mixup: True, Batchsize: 32, Gamma: 0.1\n"
     ]
    },
    {
     "name": "stderr",
     "output_type": "stream",
     "text": [
      "100%|██████████| 160/160 [00:14<00:00, 10.90it/s]\n",
      "100%|██████████| 160/160 [00:14<00:00, 10.72it/s]\n",
      "100%|██████████| 160/160 [00:14<00:00, 10.86it/s]\n",
      "100%|██████████| 160/160 [00:14<00:00, 10.85it/s]\n",
      "100%|██████████| 160/160 [00:14<00:00, 10.79it/s]\n",
      "100%|██████████| 160/160 [00:14<00:00, 10.75it/s]\n",
      "100%|██████████| 160/160 [00:14<00:00, 11.06it/s]\n",
      "100%|██████████| 160/160 [00:14<00:00, 11.19it/s]\n",
      "100%|██████████| 160/160 [00:14<00:00, 11.13it/s]\n",
      "100%|██████████| 160/160 [00:15<00:00, 10.25it/s]\n",
      "\u001b[32m[I 2022-05-29 19:28:11,775]\u001b[0m Trial 24 finished with value: 99.59742351046698 and parameters: {'architecture': 'resnet18', 'cutmix': True, 'gamma': 0.1, 'augmentation': {'train': Compose(\n",
      "    RandomHorizontalFlip(p=0.5)\n",
      "    RandomRotation(degrees=[-30.0, 30.0], interpolation=nearest, expand=False, fill=0)\n",
      "    ToTensor()\n",
      "    Normalize(mean=[0.485, 0.456, 0.406], std=[0.229, 0.224, 0.225])\n",
      "), 'test': Compose(\n",
      "    ToTensor()\n",
      "    Normalize(mean=[0.485, 0.456, 0.406], std=[0.229, 0.224, 0.225])\n",
      ")}}. Best is trial 16 with value: 99.8389694041868.\u001b[0m\n"
     ]
    },
    {
     "name": "stdout",
     "output_type": "stream",
     "text": [
      "Test accuracy:  99.59742351046698\n",
      "Study statistics: \n",
      "  Number of finished trials:  25\n",
      "  Number of pruned trials:  15\n",
      "  Number of complete trials:  10\n",
      "Best trial:\n",
      "  Value:  99.8389694041868\n",
      "  Params: \n",
      "    architecture: resnet18\n",
      "    cutmix: True\n",
      "    gamma: 0.4\n",
      "    augmentation: {'train': Compose(\n",
      "    RandomHorizontalFlip(p=0.5)\n",
      "    ToTensor()\n",
      "    Normalize(mean=[0.485, 0.456, 0.406], std=[0.229, 0.224, 0.225])\n",
      "), 'test': Compose(\n",
      "    ToTensor()\n",
      "    Normalize(mean=[0.485, 0.456, 0.406], std=[0.229, 0.224, 0.225])\n",
      ")}\n"
     ]
    }
   ],
   "source": [
    "import warnings\n",
    "warnings.filterwarnings('ignore')\n",
    "#supress the optuna warning which states, that a tuple is not useable for persistent storage, which we do not need\n",
    "#use code from https://github.com/optuna/optuna-examples/blob/main/pytorch/pytorch_simple.py\n",
    "study = optuna.create_study(direction=\"maximize\")\n",
    "study.optimize(objective,n_trials=25)\n",
    "\n",
    "pruned_trials = study.get_trials(deepcopy=False, states=[TrialState.PRUNED])\n",
    "complete_trials = study.get_trials(deepcopy=False, states=[TrialState.COMPLETE])\n",
    "\n",
    "print(\"Study statistics: \")\n",
    "print(\"  Number of finished trials: \", len(study.trials))\n",
    "print(\"  Number of pruned trials: \", len(pruned_trials))\n",
    "print(\"  Number of complete trials: \", len(complete_trials))\n",
    "\n",
    "print(\"Best trial:\")\n",
    "trial = study.best_trial\n",
    "\n",
    "print(\"  Value: \", trial.value)\n",
    "\n",
    "print(\"  Params: \")\n",
    "for key, value in trial.params.items():\n",
    "    print(\"    {}: {}\".format(key, value))\n"
   ]
  },
  {
   "cell_type": "markdown",
   "id": "7b767af2",
   "metadata": {},
   "source": [
    "The results really depend on the run, but we got an accuracy of 99.91 percent with a resnet 18, cutmix, gamma of 0.2 and Random Horizontal Flip and Random Rotation. with the full testset, 99.91% accuracy corresponds to only 1 image being misclassified\n",
    "So lets train it"
   ]
  },
  {
   "cell_type": "code",
   "execution_count": 10,
   "id": "fdff2627",
   "metadata": {},
   "outputs": [],
   "source": [
    "transform = {\n",
    "    'train': transforms.Compose([\n",
    "        transforms.RandomHorizontalFlip(p=0.5),\n",
    "        transforms.RandomRotation(30),\n",
    "        transforms.ToTensor(),\n",
    "        transforms.Normalize([0.485, 0.456, 0.406], [0.229, 0.224, 0.225])\n",
    "    ]),\n",
    "    'test': transforms.Compose([\n",
    "        transforms.ToTensor(),\n",
    "        transforms.Normalize([0.485, 0.456, 0.406], [0.229, 0.224, 0.225])\n",
    "    ]),\n",
    "}"
   ]
  },
  {
   "cell_type": "code",
   "execution_count": 14,
   "id": "2f1ee725",
   "metadata": {},
   "outputs": [],
   "source": [
    "model = models.resnet18(pretrained=True)\n",
    "model.fc = nn. Linear(in_features=512, out_features=2, bias=True)\n",
    "model.to(device)\n",
    "\n",
    "optimizer = torch.optim.Adam(model.parameters(), lr=0.001)\n",
    "criterion = CutMixCrossEntropyLoss(True)\n",
    "scheduler = torch.optim.lr_scheduler.StepLR(optimizer, step_size=7, gamma=0.1)"
   ]
  },
  {
   "cell_type": "code",
   "execution_count": 15,
   "id": "b489edd8",
   "metadata": {},
   "outputs": [
    {
     "name": "stderr",
     "output_type": "stream",
     "text": [
      "100%|██████████| 160/160 [00:16<00:00,  9.71it/s]\n"
     ]
    },
    {
     "name": "stdout",
     "output_type": "stream",
     "text": [
      "Test accuracy:  99.19484702093398\n"
     ]
    },
    {
     "name": "stderr",
     "output_type": "stream",
     "text": [
      "100%|██████████| 160/160 [00:14<00:00, 10.79it/s]\n"
     ]
    },
    {
     "name": "stdout",
     "output_type": "stream",
     "text": [
      "Test accuracy:  96.69887278582931\n"
     ]
    },
    {
     "name": "stderr",
     "output_type": "stream",
     "text": [
      "100%|██████████| 160/160 [00:15<00:00, 10.66it/s]\n"
     ]
    },
    {
     "name": "stdout",
     "output_type": "stream",
     "text": [
      "Test accuracy:  98.55072463768117\n"
     ]
    },
    {
     "name": "stderr",
     "output_type": "stream",
     "text": [
      "100%|██████████| 160/160 [00:14<00:00, 10.70it/s]\n"
     ]
    },
    {
     "name": "stdout",
     "output_type": "stream",
     "text": [
      "Test accuracy:  99.35587761674718\n"
     ]
    },
    {
     "name": "stderr",
     "output_type": "stream",
     "text": [
      "100%|██████████| 160/160 [00:20<00:00,  7.73it/s]\n"
     ]
    },
    {
     "name": "stdout",
     "output_type": "stream",
     "text": [
      "Test accuracy:  98.55072463768117\n"
     ]
    },
    {
     "name": "stderr",
     "output_type": "stream",
     "text": [
      "100%|██████████| 160/160 [00:18<00:00,  8.72it/s]\n"
     ]
    },
    {
     "name": "stdout",
     "output_type": "stream",
     "text": [
      "Test accuracy:  99.35587761674718\n"
     ]
    },
    {
     "name": "stderr",
     "output_type": "stream",
     "text": [
      "100%|██████████| 160/160 [00:17<00:00,  9.24it/s]\n"
     ]
    },
    {
     "name": "stdout",
     "output_type": "stream",
     "text": [
      "Test accuracy:  99.7584541062802\n"
     ]
    },
    {
     "name": "stderr",
     "output_type": "stream",
     "text": [
      "100%|██████████| 160/160 [00:17<00:00,  9.34it/s]\n"
     ]
    },
    {
     "name": "stdout",
     "output_type": "stream",
     "text": [
      "Test accuracy:  99.7584541062802\n"
     ]
    },
    {
     "name": "stderr",
     "output_type": "stream",
     "text": [
      "100%|██████████| 160/160 [00:17<00:00,  9.36it/s]\n"
     ]
    },
    {
     "name": "stdout",
     "output_type": "stream",
     "text": [
      "Test accuracy:  99.8389694041868\n"
     ]
    },
    {
     "name": "stderr",
     "output_type": "stream",
     "text": [
      "100%|██████████| 160/160 [00:17<00:00,  9.22it/s]\n"
     ]
    },
    {
     "name": "stdout",
     "output_type": "stream",
     "text": [
      "Test accuracy:  99.7584541062802\n"
     ]
    }
   ],
   "source": [
    "\n",
    "TG_dataset = GlassesAndTables(root_dir=\"./data/\", custom_transforms=transform, mode=\"training\", use_cache=True, subset=False)\n",
    "test_dataset = GlassesAndTables(root_dir=\"./data/\", custom_transforms=transform, mode=\"testing\", use_cache=True, subset=False)\n",
    "\n",
    "\n",
    "#we use 20% as our validation set which is 400 or 1280 depends on if we use subset or not\n",
    "train_dataset, valid_dataset =  torch.utils.data.random_split(TG_dataset, [len(TG_dataset) - 1280, 1280])  \n",
    "train_dataset = CutMix(train_dataset, num_class=2, beta=1.0, prob=0.5, num_mix=2)\n",
    "\n",
    "\n",
    "train_loader_cut = DataLoader(train_dataset, batch_size=32, shuffle=True)\n",
    "valid_loader_cut = DataLoader(valid_dataset, batch_size=32, shuffle=True)\n",
    "test_loader_cut = DataLoader(test_dataset, batch_size=32, shuffle=False)\n",
    "\n",
    "train_loss = []\n",
    "validation_loss_list = []\n",
    "validation_acc_list = []\n",
    "test_acc_list = []\n",
    "test_loss_list = []\n",
    "\n",
    "for epoch in range(10):\n",
    "\n",
    "    epoch_loss = train_epoch(model, train_loader_cut, optimizer, criterion, device)\n",
    "    validation_acc, validation_loss = eval_model(model, valid_loader_cut, criterion, device)\n",
    "\n",
    "    train_loss.append(epoch_loss)\n",
    "    validation_loss_list.append(validation_loss)\n",
    "    validation_acc_list.append(validation_acc)\n",
    "\n",
    "    \n",
    "    scheduler.step()\n",
    "\n",
    "    test_acc, test_loss = eval_model(model, test_loader_cut, criterion, device)\n",
    "    test_acc_list.append(test_acc)\n",
    "    test_loss_list.append(test_loss)\n",
    "    print(\"Test accuracy: \", test_acc)\n"
   ]
  },
  {
   "cell_type": "code",
   "execution_count": 18,
   "id": "b753237a",
   "metadata": {},
   "outputs": [
    {
     "data": {
      "text/plain": [
       "Text(0.5, 1.0, 'Accuracyof the best performing model')"
      ]
     },
     "execution_count": 18,
     "metadata": {},
     "output_type": "execute_result"
    },
    {
     "data": {
      "image/png": "[encoded data removed]",
      "text/plain": [
       "<Figure size 1296x648 with 2 Axes>"
      ]
     },
     "metadata": {},
     "output_type": "display_data"
    }
   ],
   "source": [
    "plt.style.use('seaborn')\n",
    "fig, ax = plt.subplots(1,2)\n",
    "fig.set_size_inches(18,9)\n",
    "\n",
    "#ax[0].plot(train_loss, c=\"blue\", label=\"Training loss Best Performance\", linewidth=3, alpha=0.5)\n",
    "ax[0].plot(validation_loss_list, c=\"red\", label=\"Validation loss Best Performance\", linewidth=3, alpha=0.5)\n",
    "ax[0].plot(test_loss_list, c=\"green\", label=\"Testing loss Best Performance\", linewidth=3, alpha=0.5)\n",
    "ax[0].legend(loc=\"best\")\n",
    "ax[0].set_xlabel(\"EPOCH\")\n",
    "ax[0].set_ylabel(\"Loss\")\n",
    "ax[0].set_title(\"Loss of the Best performing model\")\n",
    "\n",
    "ax[1].plot(validation_acc_list, c=\"red\", label=\"Validation Accuracy of the Best Performance\", linewidth=3, alpha=0.5)\n",
    "ax[1].plot(test_acc_list, c=\"green\", label=\"Test Accuracy of the Best Performance\", linewidth=3, alpha=0.5)\n",
    "ax[1].legend(loc=\"best\")\n",
    "ax[1].set_xlabel(\"EPOCH\")\n",
    "ax[1].set_ylabel(\"Accuracy\")\n",
    "ax[1].set_xscale(\"linear\")\n",
    "ax[1].set_yscale(\"linear\")\n",
    "ax[1].set_title(\"Accuracyof the best performing model\")"
   ]
  },
  {
   "cell_type": "markdown",
   "id": "721ab4a2",
   "metadata": {},
   "source": [
    "AS we can see, the loss is bouncing up and down like before. It also is quite a bit of initialization prone if we really achieve the 91.91% accuracy"
   ]
  },
  {
   "cell_type": "markdown",
   "id": "cf7c144b",
   "metadata": {},
   "source": [
    "Finally, lets try the performance for the fixed feature extractor for all resnet variants:"
   ]
  },
  {
   "cell_type": "code",
   "execution_count": null,
   "id": "878817a8",
   "metadata": {},
   "outputs": [],
   "source": [
    "def objective_fixed(trial):\n",
    "    n_epochs = 10\n",
    "    model_name = trial.suggest_categorical(\"architecture\", [\"resnet50\",\"resnet18\", \"resnet101\", \"resnet152\"])\n",
    "    model = getattr(torchvision.models, model_name)(pretrained=True)\n",
    "\n",
    "    for param in model.parameters():\n",
    "        param.requires_grad = False\n",
    "    if model_name == \"resnet18\":\n",
    "        model.fc = nn.Linear(in_features=512, out_features=2, bias=True)\n",
    "    else:\n",
    "        model.fc = nn.Linear(in_features=2048, out_features=2, bias=True)\n",
    "    model = model.to(device)\n",
    "    lr = 0.001\n",
    "    mixup = trial.suggest_categorical(\"cutmix\", [True, False])\n",
    "    bsz = 32\n",
    "    gamma = trial.suggest_categorical(\"gamma\", [0.1,0.2,0.4,1.0])\n",
    "    augmentation = trial.suggest_categorical(\"augmentation\", possible_augmentations)\n",
    "\n",
    "\n",
    "    optimizer = torch.optim.Adam(model.parameters(), lr=lr)\n",
    "    scheduler = torch.optim.lr_scheduler.StepLR(optimizer, step_size=5, gamma=gamma)\n",
    "\n",
    "\n",
    "    TG_dataset = GlassesAndTables(root_dir=\"./data/\", custom_transforms=augmentation, mode=\"training\", use_cache=True, subset=False)\n",
    "    test_dataset = GlassesAndTables(root_dir=\"./data/\", custom_transforms=augmentation, mode=\"testing\", use_cache=True, subset=False)\n",
    "\n",
    "\n",
    "    #we use 20% as our validation set which is 400 or 1280 depends on if we use subset or not\n",
    "    train_dataset, valid_dataset =  torch.utils.data.random_split(TG_dataset, [len(TG_dataset) - 1280, 1280])  \n",
    "    if mixup:\n",
    "        train_dataset = CutMix(train_dataset, num_class=2, beta=1.0, prob=0.5, num_mix=2)\n",
    "\n",
    "\n",
    "    train_loader_cut = DataLoader(train_dataset, batch_size=bsz, shuffle=True)\n",
    "    valid_loader_cut = DataLoader(valid_dataset, batch_size=bsz, shuffle=True)\n",
    "    test_loader_cut = DataLoader(test_dataset, batch_size=bsz, shuffle=False)\n",
    "\n",
    "\n",
    "    if mixup:\n",
    "        criterion = CutMixCrossEntropyLoss(True)\n",
    "    else: \n",
    "        criterion = torch.nn.CrossEntropyLoss()\n",
    "        \n",
    "    print(\"Model: {}, Learning Rate: {}, Mixup: {}, Batchsize: {}, Gamma: {}\".format(model_name, lr, str(mixup), bsz, gamma))\n",
    "\n",
    "    for epoch in range(n_epochs):\n",
    "        epoch_loss = train_epoch(model, train_loader_cut, optimizer, criterion, device)\n",
    "        validation_acc, validation_loss = eval_model(model, valid_loader_cut, criterion, device)\n",
    "\n",
    "        \n",
    "        trial.report(validation_acc, epoch)\n",
    "        \n",
    "        if trial.should_prune():\n",
    "            raise optuna.exceptions.TrialPruned()\n",
    "        \n",
    "        scheduler.step()\n",
    "    \n",
    "    test_acc, test_loss = eval_model(model, test_loader_cut, criterion, device)\n",
    "    print(\"Test accuracy: \", test_acc)\n",
    "    return test_acc "
   ]
  },
  {
   "cell_type": "code",
   "execution_count": null,
   "id": "41549a6d",
   "metadata": {},
   "outputs": [
    {
     "name": "stderr",
     "output_type": "stream",
     "text": [
      "\u001b[32m[I 2022-05-29 00:17:05,397]\u001b[0m A new study created in memory with name: no-name-b09d828b-9fbb-4b37-9da7-a36477384a41\u001b[0m\n"
     ]
    },
    {
     "name": "stdout",
     "output_type": "stream",
     "text": [
      "Model: resnet50, Learning Rate: 0.001, Mixup: False, Batchsize: 32, Gamma: 0.4\n"
     ]
    },
    {
     "name": "stderr",
     "output_type": "stream",
     "text": [
      "100%|██████████| 160/160 [00:29<00:00,  5.50it/s]\n",
      "100%|██████████| 160/160 [00:28<00:00,  5.62it/s]\n",
      "100%|██████████| 160/160 [00:28<00:00,  5.58it/s]\n",
      "100%|██████████| 160/160 [00:28<00:00,  5.61it/s]\n",
      "100%|██████████| 160/160 [00:28<00:00,  5.60it/s]\n",
      "100%|██████████| 160/160 [00:28<00:00,  5.59it/s]\n",
      "100%|██████████| 160/160 [00:28<00:00,  5.55it/s]\n",
      "100%|██████████| 160/160 [00:28<00:00,  5.58it/s]\n",
      "100%|██████████| 160/160 [00:29<00:00,  5.35it/s]\n",
      "100%|██████████| 160/160 [00:29<00:00,  5.39it/s]\n",
      "\u001b[32m[I 2022-05-29 00:23:06,618]\u001b[0m Trial 0 finished with value: 99.7584541062802 and parameters: {'architecture': 'resnet50', 'cutmix': False, 'gamma': 0.4, 'augmentation': {'train': Compose(\n",
      "    RandomHorizontalFlip(p=0.5)\n",
      "    RandomRotation(degrees=[-30.0, 30.0], interpolation=nearest, expand=False, fill=0)\n",
      "    ColorJitter(brightness=[0.6, 1.4], contrast=[0.6, 1.4], saturation=[0.6, 1.4], hue=[-0.2, 0.2])\n",
      "    ToTensor()\n",
      "    Normalize(mean=[0.485, 0.456, 0.406], std=[0.229, 0.224, 0.225])\n",
      "), 'test': Compose(\n",
      "    ToTensor()\n",
      "    Normalize(mean=[0.485, 0.456, 0.406], std=[0.229, 0.224, 0.225])\n",
      ")}}. Best is trial 0 with value: 99.7584541062802.\u001b[0m\n"
     ]
    },
    {
     "name": "stdout",
     "output_type": "stream",
     "text": [
      "Test accuracy:  99.7584541062802\n",
      "Model: resnet101, Learning Rate: 0.001, Mixup: False, Batchsize: 32, Gamma: 0.4\n"
     ]
    },
    {
     "name": "stderr",
     "output_type": "stream",
     "text": [
      "100%|██████████| 160/160 [00:33<00:00,  4.78it/s]\n",
      "100%|██████████| 160/160 [00:33<00:00,  4.78it/s]\n",
      "100%|██████████| 160/160 [00:33<00:00,  4.74it/s]\n",
      "100%|██████████| 160/160 [00:33<00:00,  4.77it/s]\n",
      "100%|██████████| 160/160 [00:33<00:00,  4.80it/s]\n",
      "100%|██████████| 160/160 [00:33<00:00,  4.79it/s]\n",
      "100%|██████████| 160/160 [00:33<00:00,  4.77it/s]\n",
      "100%|██████████| 160/160 [00:33<00:00,  4.79it/s]\n",
      "100%|██████████| 160/160 [00:33<00:00,  4.78it/s]\n",
      "100%|██████████| 160/160 [00:33<00:00,  4.78it/s]\n",
      "\u001b[32m[I 2022-05-29 00:30:06,261]\u001b[0m Trial 1 finished with value: 99.59742351046698 and parameters: {'architecture': 'resnet101', 'cutmix': False, 'gamma': 0.4, 'augmentation': {'train': Compose(\n",
      "    RandomHorizontalFlip(p=0.5)\n",
      "    RandomRotation(degrees=[-30.0, 30.0], interpolation=nearest, expand=False, fill=0)\n",
      "    ColorJitter(brightness=[0.6, 1.4], contrast=[0.6, 1.4], saturation=[0.6, 1.4], hue=[-0.2, 0.2])\n",
      "    ToTensor()\n",
      "    Normalize(mean=[0.485, 0.456, 0.406], std=[0.229, 0.224, 0.225])\n",
      "), 'test': Compose(\n",
      "    ToTensor()\n",
      "    Normalize(mean=[0.485, 0.456, 0.406], std=[0.229, 0.224, 0.225])\n",
      ")}}. Best is trial 0 with value: 99.7584541062802.\u001b[0m\n"
     ]
    },
    {
     "name": "stdout",
     "output_type": "stream",
     "text": [
      "Test accuracy:  99.59742351046698\n",
      "Model: resnet152, Learning Rate: 0.001, Mixup: True, Batchsize: 32, Gamma: 1.0\n"
     ]
    },
    {
     "name": "stderr",
     "output_type": "stream",
     "text": [
      "100%|██████████| 160/160 [00:24<00:00,  6.50it/s]\n",
      "100%|██████████| 160/160 [00:24<00:00,  6.45it/s]\n",
      "100%|██████████| 160/160 [00:24<00:00,  6.50it/s]\n",
      "100%|██████████| 160/160 [00:24<00:00,  6.57it/s]\n",
      "100%|██████████| 160/160 [00:23<00:00,  6.68it/s]\n",
      "100%|██████████| 160/160 [00:23<00:00,  6.67it/s]\n",
      "100%|██████████| 160/160 [00:24<00:00,  6.66it/s]\n",
      "100%|██████████| 160/160 [00:23<00:00,  6.69it/s]\n",
      "100%|██████████| 160/160 [00:23<00:00,  6.68it/s]\n",
      "100%|██████████| 160/160 [00:23<00:00,  6.67it/s]\n",
      "\u001b[32m[I 2022-05-29 00:34:59,122]\u001b[0m Trial 2 finished with value: 99.03381642512076 and parameters: {'architecture': 'resnet152', 'cutmix': True, 'gamma': 1.0, 'augmentation': {'train': Compose(\n",
      "    RandomHorizontalFlip(p=0.5)\n",
      "    RandomRotation(degrees=[-30.0, 30.0], interpolation=nearest, expand=False, fill=0)\n",
      "    ToTensor()\n",
      "    Normalize(mean=[0.485, 0.456, 0.406], std=[0.229, 0.224, 0.225])\n",
      "), 'test': Compose(\n",
      "    ToTensor()\n",
      "    Normalize(mean=[0.485, 0.456, 0.406], std=[0.229, 0.224, 0.225])\n",
      ")}}. Best is trial 0 with value: 99.7584541062802.\u001b[0m\n"
     ]
    },
    {
     "name": "stdout",
     "output_type": "stream",
     "text": [
      "Test accuracy:  99.03381642512076\n",
      "Model: resnet101, Learning Rate: 0.001, Mixup: False, Batchsize: 32, Gamma: 1.0\n"
     ]
    },
    {
     "name": "stderr",
     "output_type": "stream",
     "text": [
      "100%|██████████| 160/160 [00:32<00:00,  4.99it/s]\n",
      "100%|██████████| 160/160 [00:32<00:00,  4.98it/s]\n",
      "100%|██████████| 160/160 [00:32<00:00,  4.99it/s]\n",
      "100%|██████████| 160/160 [00:32<00:00,  4.93it/s]\n",
      "100%|██████████| 160/160 [00:29<00:00,  5.45it/s]\n",
      "100%|██████████| 160/160 [00:29<00:00,  5.38it/s]\n",
      "100%|██████████| 160/160 [00:29<00:00,  5.39it/s]\n",
      "100%|██████████| 160/160 [00:29<00:00,  5.38it/s]\n",
      "100%|██████████| 160/160 [00:29<00:00,  5.36it/s]\n",
      "100%|██████████| 160/160 [00:29<00:00,  5.36it/s]\n",
      "\u001b[32m[I 2022-05-29 00:41:23,406]\u001b[0m Trial 3 finished with value: 99.6779388083736 and parameters: {'architecture': 'resnet101', 'cutmix': False, 'gamma': 1.0, 'augmentation': {'train': Compose(\n",
      "    RandomHorizontalFlip(p=0.5)\n",
      "    RandomRotation(degrees=[-30.0, 30.0], interpolation=nearest, expand=False, fill=0)\n",
      "    ColorJitter(brightness=[0.6, 1.4], contrast=[0.6, 1.4], saturation=[0.6, 1.4], hue=[-0.2, 0.2])\n",
      "    ToTensor()\n",
      "    Normalize(mean=[0.485, 0.456, 0.406], std=[0.229, 0.224, 0.225])\n",
      "), 'test': Compose(\n",
      "    ToTensor()\n",
      "    Normalize(mean=[0.485, 0.456, 0.406], std=[0.229, 0.224, 0.225])\n",
      ")}}. Best is trial 0 with value: 99.7584541062802.\u001b[0m\n"
     ]
    },
    {
     "name": "stdout",
     "output_type": "stream",
     "text": [
      "Test accuracy:  99.6779388083736\n",
      "Model: resnet152, Learning Rate: 0.001, Mixup: False, Batchsize: 32, Gamma: 0.1\n"
     ]
    },
    {
     "name": "stderr",
     "output_type": "stream",
     "text": [
      "100%|██████████| 160/160 [00:16<00:00,  9.71it/s]\n",
      "100%|██████████| 160/160 [00:16<00:00,  9.70it/s]\n",
      "100%|██████████| 160/160 [00:16<00:00,  9.69it/s]\n",
      "100%|██████████| 160/160 [00:16<00:00,  9.69it/s]\n",
      "100%|██████████| 160/160 [00:16<00:00,  9.70it/s]\n",
      "100%|██████████| 160/160 [00:16<00:00,  9.69it/s]\n",
      "100%|██████████| 160/160 [00:16<00:00,  9.70it/s]\n",
      "100%|██████████| 160/160 [00:16<00:00,  9.69it/s]\n",
      "100%|██████████| 160/160 [00:16<00:00,  9.70it/s]\n",
      "100%|██████████| 160/160 [00:16<00:00,  9.73it/s]\n",
      "\u001b[32m[I 2022-05-29 00:44:52,613]\u001b[0m Trial 4 finished with value: 99.7584541062802 and parameters: {'architecture': 'resnet152', 'cutmix': False, 'gamma': 0.1, 'augmentation': {'train': Compose(\n",
      "    RandomHorizontalFlip(p=0.5)\n",
      "    RandomRotation(degrees=[-30.0, 30.0], interpolation=nearest, expand=False, fill=0)\n",
      "    ToTensor()\n",
      "    Normalize(mean=[0.485, 0.456, 0.406], std=[0.229, 0.224, 0.225])\n",
      "), 'test': Compose(\n",
      "    ToTensor()\n",
      "    Normalize(mean=[0.485, 0.456, 0.406], std=[0.229, 0.224, 0.225])\n",
      ")}}. Best is trial 0 with value: 99.7584541062802.\u001b[0m\n"
     ]
    },
    {
     "name": "stdout",
     "output_type": "stream",
     "text": [
      "Test accuracy:  99.7584541062802\n",
      "Model: resnet101, Learning Rate: 0.001, Mixup: True, Batchsize: 32, Gamma: 0.2\n"
     ]
    },
    {
     "name": "stderr",
     "output_type": "stream",
     "text": [
      "100%|██████████| 160/160 [00:50<00:00,  3.17it/s]\n",
      "\u001b[32m[I 2022-05-29 00:45:51,030]\u001b[0m Trial 5 pruned. \u001b[0m\n"
     ]
    },
    {
     "name": "stdout",
     "output_type": "stream",
     "text": [
      "Model: resnet152, Learning Rate: 0.001, Mixup: True, Batchsize: 32, Gamma: 0.2\n"
     ]
    },
    {
     "name": "stderr",
     "output_type": "stream",
     "text": [
      "100%|██████████| 160/160 [00:21<00:00,  7.47it/s]\n",
      "100%|██████████| 160/160 [00:21<00:00,  7.45it/s]\n",
      "100%|██████████| 160/160 [00:21<00:00,  7.43it/s]\n",
      "100%|██████████| 160/160 [00:21<00:00,  7.31it/s]\n",
      "100%|██████████| 160/160 [00:21<00:00,  7.45it/s]\n",
      "100%|██████████| 160/160 [00:21<00:00,  7.55it/s]\n",
      "100%|██████████| 160/160 [00:21<00:00,  7.56it/s]\n",
      "100%|██████████| 160/160 [00:21<00:00,  7.55it/s]\n",
      "100%|██████████| 160/160 [00:21<00:00,  7.59it/s]\n",
      "100%|██████████| 160/160 [00:21<00:00,  7.61it/s]\n",
      "\u001b[32m[I 2022-05-29 00:50:08,547]\u001b[0m Trial 6 finished with value: 99.19484702093398 and parameters: {'architecture': 'resnet152', 'cutmix': True, 'gamma': 0.2, 'augmentation': {'train': Compose(\n",
      "    RandomHorizontalFlip(p=0.5)\n",
      "    RandomRotation(degrees=[-30.0, 30.0], interpolation=nearest, expand=False, fill=0)\n",
      "    ToTensor()\n",
      "    Normalize(mean=[0.485, 0.456, 0.406], std=[0.229, 0.224, 0.225])\n",
      "), 'test': Compose(\n",
      "    ToTensor()\n",
      "    Normalize(mean=[0.485, 0.456, 0.406], std=[0.229, 0.224, 0.225])\n",
      ")}}. Best is trial 0 with value: 99.7584541062802.\u001b[0m\n"
     ]
    },
    {
     "name": "stdout",
     "output_type": "stream",
     "text": [
      "Test accuracy:  99.19484702093398\n",
      "Model: resnet18, Learning Rate: 0.001, Mixup: True, Batchsize: 32, Gamma: 0.1\n"
     ]
    },
    {
     "name": "stderr",
     "output_type": "stream",
     "text": [
      "100%|██████████| 160/160 [00:43<00:00,  3.68it/s]\n",
      "\u001b[32m[I 2022-05-29 00:50:57,758]\u001b[0m Trial 7 pruned. \u001b[0m\n"
     ]
    },
    {
     "name": "stdout",
     "output_type": "stream",
     "text": [
      "Model: resnet152, Learning Rate: 0.001, Mixup: False, Batchsize: 32, Gamma: 1.0\n"
     ]
    },
    {
     "name": "stderr",
     "output_type": "stream",
     "text": [
      "100%|██████████| 160/160 [00:16<00:00,  9.82it/s]\n",
      "100%|██████████| 160/160 [00:16<00:00,  9.81it/s]\n",
      "100%|██████████| 160/160 [00:16<00:00,  9.79it/s]\n",
      "100%|██████████| 160/160 [00:16<00:00,  9.79it/s]\n",
      "100%|██████████| 160/160 [00:16<00:00,  9.78it/s]\n",
      "100%|██████████| 160/160 [00:16<00:00,  9.78it/s]\n",
      "100%|██████████| 160/160 [00:16<00:00,  9.78it/s]\n",
      "100%|██████████| 160/160 [00:16<00:00,  9.78it/s]\n",
      "100%|██████████| 160/160 [00:16<00:00,  9.73it/s]\n",
      "100%|██████████| 160/160 [00:16<00:00,  9.68it/s]\n",
      "\u001b[32m[I 2022-05-29 00:54:25,301]\u001b[0m Trial 8 finished with value: 99.8389694041868 and parameters: {'architecture': 'resnet152', 'cutmix': False, 'gamma': 1.0, 'augmentation': {'train': Compose(\n",
      "    RandomHorizontalFlip(p=0.5)\n",
      "    RandomRotation(degrees=[-30.0, 30.0], interpolation=nearest, expand=False, fill=0)\n",
      "    ToTensor()\n",
      "    Normalize(mean=[0.485, 0.456, 0.406], std=[0.229, 0.224, 0.225])\n",
      "), 'test': Compose(\n",
      "    ToTensor()\n",
      "    Normalize(mean=[0.485, 0.456, 0.406], std=[0.229, 0.224, 0.225])\n",
      ")}}. Best is trial 8 with value: 99.8389694041868.\u001b[0m\n"
     ]
    },
    {
     "name": "stdout",
     "output_type": "stream",
     "text": [
      "Test accuracy:  99.8389694041868\n",
      "Model: resnet152, Learning Rate: 0.001, Mixup: False, Batchsize: 32, Gamma: 0.1\n"
     ]
    },
    {
     "name": "stderr",
     "output_type": "stream",
     "text": [
      "100%|██████████| 160/160 [00:16<00:00,  9.67it/s]\n",
      "100%|██████████| 160/160 [00:16<00:00,  9.67it/s]\n",
      "100%|██████████| 160/160 [00:16<00:00,  9.65it/s]\n",
      "100%|██████████| 160/160 [00:16<00:00,  9.66it/s]\n",
      "100%|██████████| 160/160 [00:16<00:00,  9.66it/s]\n",
      "100%|██████████| 160/160 [00:16<00:00,  9.67it/s]\n",
      "100%|██████████| 160/160 [00:16<00:00,  9.69it/s]\n",
      "100%|██████████| 160/160 [00:16<00:00,  9.65it/s]\n",
      "100%|██████████| 160/160 [00:16<00:00,  9.59it/s]\n",
      "100%|██████████| 160/160 [00:16<00:00,  9.67it/s]\n",
      "\u001b[32m[I 2022-05-29 00:57:55,178]\u001b[0m Trial 9 finished with value: 99.7584541062802 and parameters: {'architecture': 'resnet152', 'cutmix': False, 'gamma': 0.1, 'augmentation': {'train': Compose(\n",
      "    RandomHorizontalFlip(p=0.5)\n",
      "    RandomRotation(degrees=[-30.0, 30.0], interpolation=nearest, expand=False, fill=0)\n",
      "    ToTensor()\n",
      "    Normalize(mean=[0.485, 0.456, 0.406], std=[0.229, 0.224, 0.225])\n",
      "), 'test': Compose(\n",
      "    ToTensor()\n",
      "    Normalize(mean=[0.485, 0.456, 0.406], std=[0.229, 0.224, 0.225])\n",
      ")}}. Best is trial 8 with value: 99.8389694041868.\u001b[0m\n"
     ]
    },
    {
     "name": "stdout",
     "output_type": "stream",
     "text": [
      "Test accuracy:  99.7584541062802\n",
      "Model: resnet18, Learning Rate: 0.001, Mixup: False, Batchsize: 32, Gamma: 1.0\n"
     ]
    },
    {
     "name": "stderr",
     "output_type": "stream",
     "text": [
      "100%|██████████| 160/160 [00:06<00:00, 25.08it/s]\n",
      "\u001b[32m[I 2022-05-29 00:58:03,290]\u001b[0m Trial 10 pruned. \u001b[0m\n"
     ]
    },
    {
     "name": "stdout",
     "output_type": "stream",
     "text": [
      "Model: resnet50, Learning Rate: 0.001, Mixup: False, Batchsize: 32, Gamma: 0.4\n"
     ]
    },
    {
     "name": "stderr",
     "output_type": "stream",
     "text": [
      "100%|██████████| 160/160 [00:09<00:00, 16.78it/s]\n",
      "100%|██████████| 160/160 [00:09<00:00, 16.77it/s]\n",
      "100%|██████████| 160/160 [00:09<00:00, 16.73it/s]\n",
      "100%|██████████| 160/160 [00:09<00:00, 16.72it/s]\n",
      "100%|██████████| 160/160 [00:09<00:00, 16.82it/s]\n",
      "100%|██████████| 160/160 [00:09<00:00, 16.70it/s]\n",
      "100%|██████████| 160/160 [00:09<00:00, 16.77it/s]\n",
      "100%|██████████| 160/160 [00:09<00:00, 16.78it/s]\n",
      "100%|██████████| 160/160 [00:09<00:00, 16.78it/s]\n",
      "100%|██████████| 160/160 [00:09<00:00, 16.77it/s]\n",
      "\u001b[32m[I 2022-05-29 01:00:04,048]\u001b[0m Trial 11 finished with value: 99.8389694041868 and parameters: {'architecture': 'resnet50', 'cutmix': False, 'gamma': 0.4, 'augmentation': {'train': Compose(\n",
      "    RandomHorizontalFlip(p=0.5)\n",
      "    ToTensor()\n",
      "    Normalize(mean=[0.485, 0.456, 0.406], std=[0.229, 0.224, 0.225])\n",
      "), 'test': Compose(\n",
      "    ToTensor()\n",
      "    Normalize(mean=[0.485, 0.456, 0.406], std=[0.229, 0.224, 0.225])\n",
      ")}}. Best is trial 8 with value: 99.8389694041868.\u001b[0m\n"
     ]
    },
    {
     "name": "stdout",
     "output_type": "stream",
     "text": [
      "Test accuracy:  99.8389694041868\n",
      "Model: resnet50, Learning Rate: 0.001, Mixup: False, Batchsize: 32, Gamma: 0.4\n"
     ]
    },
    {
     "name": "stderr",
     "output_type": "stream",
     "text": [
      "100%|██████████| 160/160 [00:09<00:00, 16.76it/s]\n",
      "100%|██████████| 160/160 [00:09<00:00, 16.77it/s]\n",
      "100%|██████████| 160/160 [00:09<00:00, 16.75it/s]\n",
      "100%|██████████| 160/160 [00:09<00:00, 16.77it/s]\n",
      "100%|██████████| 160/160 [00:09<00:00, 16.74it/s]\n",
      "100%|██████████| 160/160 [00:09<00:00, 16.74it/s]\n",
      "100%|██████████| 160/160 [00:09<00:00, 16.72it/s]\n",
      "100%|██████████| 160/160 [00:09<00:00, 16.72it/s]\n",
      "100%|██████████| 160/160 [00:09<00:00, 16.70it/s]\n",
      "100%|██████████| 160/160 [00:09<00:00, 16.81it/s]\n",
      "\u001b[32m[I 2022-05-29 01:02:04,851]\u001b[0m Trial 12 finished with value: 99.8389694041868 and parameters: {'architecture': 'resnet50', 'cutmix': False, 'gamma': 0.4, 'augmentation': {'train': Compose(\n",
      "    RandomHorizontalFlip(p=0.5)\n",
      "    ToTensor()\n",
      "    Normalize(mean=[0.485, 0.456, 0.406], std=[0.229, 0.224, 0.225])\n",
      "), 'test': Compose(\n",
      "    ToTensor()\n",
      "    Normalize(mean=[0.485, 0.456, 0.406], std=[0.229, 0.224, 0.225])\n",
      ")}}. Best is trial 8 with value: 99.8389694041868.\u001b[0m\n"
     ]
    },
    {
     "name": "stdout",
     "output_type": "stream",
     "text": [
      "Test accuracy:  99.8389694041868\n",
      "Model: resnet50, Learning Rate: 0.001, Mixup: False, Batchsize: 32, Gamma: 1.0\n"
     ]
    },
    {
     "name": "stderr",
     "output_type": "stream",
     "text": [
      "100%|██████████| 160/160 [00:09<00:00, 16.74it/s]\n",
      "100%|██████████| 160/160 [00:09<00:00, 16.75it/s]\n",
      "100%|██████████| 160/160 [00:09<00:00, 16.79it/s]\n",
      "100%|██████████| 160/160 [00:09<00:00, 16.71it/s]\n",
      "100%|██████████| 160/160 [00:09<00:00, 16.80it/s]\n",
      "100%|██████████| 160/160 [00:09<00:00, 16.81it/s]\n",
      "100%|██████████| 160/160 [00:09<00:00, 16.71it/s]\n",
      "100%|██████████| 160/160 [00:09<00:00, 16.71it/s]\n",
      "100%|██████████| 160/160 [00:09<00:00, 16.73it/s]\n",
      "100%|██████████| 160/160 [00:09<00:00, 17.08it/s]\n",
      "\u001b[32m[I 2022-05-29 01:04:05,421]\u001b[0m Trial 13 finished with value: 99.8389694041868 and parameters: {'architecture': 'resnet50', 'cutmix': False, 'gamma': 1.0, 'augmentation': {'train': Compose(\n",
      "    RandomHorizontalFlip(p=0.5)\n",
      "    ToTensor()\n",
      "    Normalize(mean=[0.485, 0.456, 0.406], std=[0.229, 0.224, 0.225])\n",
      "), 'test': Compose(\n",
      "    ToTensor()\n",
      "    Normalize(mean=[0.485, 0.456, 0.406], std=[0.229, 0.224, 0.225])\n",
      ")}}. Best is trial 8 with value: 99.8389694041868.\u001b[0m\n"
     ]
    },
    {
     "name": "stdout",
     "output_type": "stream",
     "text": [
      "Test accuracy:  99.8389694041868\n",
      "Model: resnet50, Learning Rate: 0.001, Mixup: False, Batchsize: 32, Gamma: 0.4\n"
     ]
    },
    {
     "name": "stderr",
     "output_type": "stream",
     "text": [
      "100%|██████████| 160/160 [00:09<00:00, 17.03it/s]\n",
      "100%|██████████| 160/160 [00:09<00:00, 17.03it/s]\n",
      "100%|██████████| 160/160 [00:09<00:00, 17.05it/s]\n",
      "100%|██████████| 160/160 [00:09<00:00, 17.04it/s]\n",
      "100%|██████████| 160/160 [00:09<00:00, 17.04it/s]\n",
      "100%|██████████| 160/160 [00:09<00:00, 17.05it/s]\n",
      "100%|██████████| 160/160 [00:09<00:00, 16.99it/s]\n",
      "100%|██████████| 160/160 [00:09<00:00, 17.05it/s]\n",
      "100%|██████████| 160/160 [00:09<00:00, 17.01it/s]\n",
      "100%|██████████| 160/160 [00:09<00:00, 17.03it/s]\n",
      "\u001b[32m[I 2022-05-29 01:06:04,368]\u001b[0m Trial 14 finished with value: 99.8389694041868 and parameters: {'architecture': 'resnet50', 'cutmix': False, 'gamma': 0.4, 'augmentation': {'train': Compose(\n",
      "    RandomHorizontalFlip(p=0.5)\n",
      "    ToTensor()\n",
      "    Normalize(mean=[0.485, 0.456, 0.406], std=[0.229, 0.224, 0.225])\n",
      "), 'test': Compose(\n",
      "    ToTensor()\n",
      "    Normalize(mean=[0.485, 0.456, 0.406], std=[0.229, 0.224, 0.225])\n",
      ")}}. Best is trial 8 with value: 99.8389694041868.\u001b[0m\n"
     ]
    },
    {
     "name": "stdout",
     "output_type": "stream",
     "text": [
      "Test accuracy:  99.8389694041868\n",
      "Model: resnet152, Learning Rate: 0.001, Mixup: False, Batchsize: 32, Gamma: 1.0\n"
     ]
    },
    {
     "name": "stderr",
     "output_type": "stream",
     "text": [
      "100%|██████████| 160/160 [00:15<00:00, 10.30it/s]\n",
      "100%|██████████| 160/160 [00:15<00:00, 10.27it/s]\n",
      "100%|██████████| 160/160 [00:15<00:00, 10.28it/s]\n",
      "100%|██████████| 160/160 [00:15<00:00, 10.24it/s]\n",
      "100%|██████████| 160/160 [00:15<00:00, 10.27it/s]\n",
      "100%|██████████| 160/160 [00:16<00:00,  9.41it/s]\n",
      "100%|██████████| 160/160 [00:18<00:00,  8.60it/s]\n",
      "100%|██████████| 160/160 [00:18<00:00,  8.63it/s]\n",
      "100%|██████████| 160/160 [00:18<00:00,  8.60it/s]\n",
      "100%|██████████| 160/160 [00:18<00:00,  8.62it/s]\n",
      "\u001b[32m[I 2022-05-29 01:09:39,790]\u001b[0m Trial 15 finished with value: 99.51690821256038 and parameters: {'architecture': 'resnet152', 'cutmix': False, 'gamma': 1.0, 'augmentation': {'train': Compose(\n",
      "    RandomHorizontalFlip(p=0.5)\n",
      "    ToTensor()\n",
      "    Normalize(mean=[0.485, 0.456, 0.406], std=[0.229, 0.224, 0.225])\n",
      "), 'test': Compose(\n",
      "    ToTensor()\n",
      "    Normalize(mean=[0.485, 0.456, 0.406], std=[0.229, 0.224, 0.225])\n",
      ")}}. Best is trial 8 with value: 99.8389694041868.\u001b[0m\n"
     ]
    },
    {
     "name": "stdout",
     "output_type": "stream",
     "text": [
      "Test accuracy:  99.51690821256038\n",
      "Model: resnet50, Learning Rate: 0.001, Mixup: False, Batchsize: 32, Gamma: 0.4\n"
     ]
    },
    {
     "name": "stderr",
     "output_type": "stream",
     "text": [
      "100%|██████████| 160/160 [00:11<00:00, 13.66it/s]\n",
      "100%|██████████| 160/160 [00:11<00:00, 13.60it/s]\n",
      "\u001b[32m[I 2022-05-29 01:10:09,199]\u001b[0m Trial 16 pruned. \u001b[0m\n"
     ]
    },
    {
     "name": "stdout",
     "output_type": "stream",
     "text": [
      "Model: resnet18, Learning Rate: 0.001, Mixup: False, Batchsize: 32, Gamma: 0.2\n"
     ]
    },
    {
     "name": "stderr",
     "output_type": "stream",
     "text": [
      "100%|██████████| 160/160 [00:06<00:00, 22.87it/s]\n",
      "100%|██████████| 160/160 [00:06<00:00, 23.00it/s]\n",
      "100%|██████████| 160/160 [00:06<00:00, 23.07it/s]\n",
      "100%|██████████| 160/160 [00:06<00:00, 22.90it/s]\n",
      "100%|██████████| 160/160 [00:07<00:00, 22.74it/s]\n",
      "100%|██████████| 160/160 [00:06<00:00, 22.99it/s]\n",
      "100%|██████████| 160/160 [00:06<00:00, 22.98it/s]\n",
      "100%|██████████| 160/160 [00:06<00:00, 22.94it/s]\n",
      "100%|██████████| 160/160 [00:06<00:00, 23.09it/s]\n",
      "100%|██████████| 160/160 [00:07<00:00, 22.78it/s]\n",
      "\u001b[32m[I 2022-05-29 01:11:37,545]\u001b[0m Trial 17 finished with value: 99.8389694041868 and parameters: {'architecture': 'resnet18', 'cutmix': False, 'gamma': 0.2, 'augmentation': {'train': Compose(\n",
      "    RandomHorizontalFlip(p=0.5)\n",
      "    ToTensor()\n",
      "    Normalize(mean=[0.485, 0.456, 0.406], std=[0.229, 0.224, 0.225])\n",
      "), 'test': Compose(\n",
      "    ToTensor()\n",
      "    Normalize(mean=[0.485, 0.456, 0.406], std=[0.229, 0.224, 0.225])\n",
      ")}}. Best is trial 8 with value: 99.8389694041868.\u001b[0m\n"
     ]
    },
    {
     "name": "stdout",
     "output_type": "stream",
     "text": [
      "Test accuracy:  99.8389694041868\n",
      "Model: resnet152, Learning Rate: 0.001, Mixup: True, Batchsize: 32, Gamma: 1.0\n"
     ]
    },
    {
     "name": "stderr",
     "output_type": "stream",
     "text": [
      "100%|██████████| 160/160 [00:24<00:00,  6.51it/s]\n",
      "\u001b[32m[I 2022-05-29 01:12:07,762]\u001b[0m Trial 18 pruned. \u001b[0m\n"
     ]
    },
    {
     "name": "stdout",
     "output_type": "stream",
     "text": [
      "Model: resnet50, Learning Rate: 0.001, Mixup: False, Batchsize: 32, Gamma: 0.4\n"
     ]
    },
    {
     "name": "stderr",
     "output_type": "stream",
     "text": [
      "100%|██████████| 160/160 [00:11<00:00, 13.95it/s]\n",
      "100%|██████████| 160/160 [00:11<00:00, 13.92it/s]\n",
      "100%|██████████| 160/160 [00:11<00:00, 13.99it/s]\n",
      "100%|██████████| 160/160 [00:11<00:00, 14.23it/s]\n",
      "100%|██████████| 160/160 [00:11<00:00, 14.27it/s]\n",
      "100%|██████████| 160/160 [00:11<00:00, 14.21it/s]\n",
      "100%|██████████| 160/160 [00:11<00:00, 14.25it/s]\n",
      "100%|██████████| 160/160 [00:11<00:00, 14.25it/s]\n",
      "100%|██████████| 160/160 [00:11<00:00, 14.16it/s]\n",
      "100%|██████████| 160/160 [00:11<00:00, 14.23it/s]\n",
      "\u001b[32m[I 2022-05-29 01:14:30,171]\u001b[0m Trial 19 finished with value: 99.8389694041868 and parameters: {'architecture': 'resnet50', 'cutmix': False, 'gamma': 0.4, 'augmentation': {'train': Compose(\n",
      "    RandomHorizontalFlip(p=0.5)\n",
      "    ToTensor()\n",
      "    Normalize(mean=[0.485, 0.456, 0.406], std=[0.229, 0.224, 0.225])\n",
      "), 'test': Compose(\n",
      "    ToTensor()\n",
      "    Normalize(mean=[0.485, 0.456, 0.406], std=[0.229, 0.224, 0.225])\n",
      ")}}. Best is trial 8 with value: 99.8389694041868.\u001b[0m\n"
     ]
    },
    {
     "name": "stdout",
     "output_type": "stream",
     "text": [
      "Test accuracy:  99.8389694041868\n",
      "Model: resnet18, Learning Rate: 0.001, Mixup: False, Batchsize: 32, Gamma: 0.2\n"
     ]
    },
    {
     "name": "stderr",
     "output_type": "stream",
     "text": [
      "100%|██████████| 160/160 [00:07<00:00, 22.11it/s]\n",
      "100%|██████████| 160/160 [00:07<00:00, 22.05it/s]\n",
      "100%|██████████| 160/160 [00:07<00:00, 22.09it/s]\n",
      "100%|██████████| 160/160 [00:07<00:00, 22.15it/s]\n",
      "100%|██████████| 160/160 [00:07<00:00, 22.09it/s]\n",
      "100%|██████████| 160/160 [00:07<00:00, 22.10it/s]\n",
      "100%|██████████| 160/160 [00:07<00:00, 22.22it/s]\n",
      "100%|██████████| 160/160 [00:07<00:00, 22.18it/s]\n",
      "100%|██████████| 160/160 [00:07<00:00, 22.13it/s]\n",
      "100%|██████████| 160/160 [00:07<00:00, 22.07it/s]\n",
      "\u001b[32m[I 2022-05-29 01:16:01,483]\u001b[0m Trial 20 finished with value: 99.7584541062802 and parameters: {'architecture': 'resnet18', 'cutmix': False, 'gamma': 0.2, 'augmentation': {'train': Compose(\n",
      "    RandomHorizontalFlip(p=0.5)\n",
      "    ToTensor()\n",
      "    Normalize(mean=[0.485, 0.456, 0.406], std=[0.229, 0.224, 0.225])\n",
      "), 'test': Compose(\n",
      "    ToTensor()\n",
      "    Normalize(mean=[0.485, 0.456, 0.406], std=[0.229, 0.224, 0.225])\n",
      ")}}. Best is trial 8 with value: 99.8389694041868.\u001b[0m\n"
     ]
    },
    {
     "name": "stdout",
     "output_type": "stream",
     "text": [
      "Test accuracy:  99.7584541062802\n",
      "Model: resnet18, Learning Rate: 0.001, Mixup: False, Batchsize: 32, Gamma: 0.2\n"
     ]
    },
    {
     "name": "stderr",
     "output_type": "stream",
     "text": [
      "100%|██████████| 160/160 [00:07<00:00, 22.15it/s]\n",
      "\u001b[32m[I 2022-05-29 01:16:10,644]\u001b[0m Trial 21 pruned. \u001b[0m\n"
     ]
    },
    {
     "name": "stdout",
     "output_type": "stream",
     "text": [
      "Model: resnet50, Learning Rate: 0.001, Mixup: False, Batchsize: 32, Gamma: 1.0\n"
     ]
    },
    {
     "name": "stderr",
     "output_type": "stream",
     "text": [
      "100%|██████████| 160/160 [00:11<00:00, 14.26it/s]\n",
      "100%|██████████| 160/160 [00:11<00:00, 14.27it/s]\n",
      "100%|██████████| 160/160 [00:11<00:00, 14.22it/s]\n",
      "100%|██████████| 160/160 [00:11<00:00, 14.28it/s]\n",
      "100%|██████████| 160/160 [00:11<00:00, 14.01it/s]\n",
      "100%|██████████| 160/160 [00:11<00:00, 14.17it/s]\n",
      "100%|██████████| 160/160 [00:11<00:00, 14.22it/s]\n",
      "100%|██████████| 160/160 [00:11<00:00, 14.29it/s]\n",
      "100%|██████████| 160/160 [00:11<00:00, 14.24it/s]\n",
      "100%|██████████| 160/160 [00:11<00:00, 14.22it/s]\n",
      "\u001b[32m[I 2022-05-29 01:18:32,327]\u001b[0m Trial 22 finished with value: 99.43639291465378 and parameters: {'architecture': 'resnet50', 'cutmix': False, 'gamma': 1.0, 'augmentation': {'train': Compose(\n",
      "    RandomHorizontalFlip(p=0.5)\n",
      "    ToTensor()\n",
      "    Normalize(mean=[0.485, 0.456, 0.406], std=[0.229, 0.224, 0.225])\n",
      "), 'test': Compose(\n",
      "    ToTensor()\n",
      "    Normalize(mean=[0.485, 0.456, 0.406], std=[0.229, 0.224, 0.225])\n",
      ")}}. Best is trial 8 with value: 99.8389694041868.\u001b[0m\n"
     ]
    },
    {
     "name": "stdout",
     "output_type": "stream",
     "text": [
      "Test accuracy:  99.43639291465378\n",
      "Model: resnet50, Learning Rate: 0.001, Mixup: False, Batchsize: 32, Gamma: 0.4\n"
     ]
    },
    {
     "name": "stderr",
     "output_type": "stream",
     "text": [
      "100%|██████████| 160/160 [00:11<00:00, 14.22it/s]\n",
      "100%|██████████| 160/160 [00:11<00:00, 14.24it/s]\n",
      "100%|██████████| 160/160 [00:11<00:00, 14.23it/s]\n",
      "100%|██████████| 160/160 [00:11<00:00, 14.24it/s]\n",
      "100%|██████████| 160/160 [00:11<00:00, 14.20it/s]\n",
      "100%|██████████| 160/160 [00:11<00:00, 14.18it/s]\n",
      "100%|██████████| 160/160 [00:11<00:00, 14.28it/s]\n",
      "100%|██████████| 160/160 [00:11<00:00, 14.19it/s]\n",
      "100%|██████████| 160/160 [00:11<00:00, 14.20it/s]\n",
      "100%|██████████| 160/160 [00:11<00:00, 14.24it/s]\n",
      "\u001b[32m[I 2022-05-29 01:20:53,973]\u001b[0m Trial 23 finished with value: 99.8389694041868 and parameters: {'architecture': 'resnet50', 'cutmix': False, 'gamma': 0.4, 'augmentation': {'train': Compose(\n",
      "    RandomHorizontalFlip(p=0.5)\n",
      "    ToTensor()\n",
      "    Normalize(mean=[0.485, 0.456, 0.406], std=[0.229, 0.224, 0.225])\n",
      "), 'test': Compose(\n",
      "    ToTensor()\n",
      "    Normalize(mean=[0.485, 0.456, 0.406], std=[0.229, 0.224, 0.225])\n",
      ")}}. Best is trial 8 with value: 99.8389694041868.\u001b[0m\n"
     ]
    },
    {
     "name": "stdout",
     "output_type": "stream",
     "text": [
      "Test accuracy:  99.8389694041868\n",
      "Model: resnet18, Learning Rate: 0.001, Mixup: False, Batchsize: 32, Gamma: 0.4\n"
     ]
    },
    {
     "name": "stderr",
     "output_type": "stream",
     "text": [
      "100%|██████████| 160/160 [00:07<00:00, 22.36it/s]\n",
      "100%|██████████| 160/160 [00:07<00:00, 22.05it/s]\n",
      "\u001b[32m[I 2022-05-29 01:21:12,008]\u001b[0m Trial 24 pruned. \u001b[0m\n"
     ]
    },
    {
     "name": "stdout",
     "output_type": "stream",
     "text": [
      "Study statistics: \n",
      "  Number of finished trials:  25\n",
      "  Number of pruned trials:  7\n",
      "  Number of complete trials:  18\n",
      "Best trial:\n",
      "  Value:  99.8389694041868\n",
      "  Params: \n",
      "    architecture: resnet152\n",
      "    cutmix: False\n",
      "    gamma: 1.0\n",
      "    augmentation: {'train': Compose(\n",
      "    RandomHorizontalFlip(p=0.5)\n",
      "    RandomRotation(degrees=[-30.0, 30.0], interpolation=nearest, expand=False, fill=0)\n",
      "    ToTensor()\n",
      "    Normalize(mean=[0.485, 0.456, 0.406], std=[0.229, 0.224, 0.225])\n",
      "), 'test': Compose(\n",
      "    ToTensor()\n",
      "    Normalize(mean=[0.485, 0.456, 0.406], std=[0.229, 0.224, 0.225])\n",
      ")}\n"
     ]
    }
   ],
   "source": [
    "import warnings\n",
    "warnings.filterwarnings('ignore')\n",
    "#supress the optuna warning which states, that a tuple is not useable for persistent storage, which we do not need\n",
    "#use code from https://github.com/optuna/optuna-examples/blob/main/pytorch/pytorch_simple.py\n",
    "study = optuna.create_study(direction=\"maximize\")\n",
    "study.optimize(objective_fixed,n_trials=25)\n",
    "\n",
    "pruned_trials = study.get_trials(deepcopy=False, states=[TrialState.PRUNED])\n",
    "complete_trials = study.get_trials(deepcopy=False, states=[TrialState.COMPLETE])\n",
    "\n",
    "print(\"Study statistics: \")\n",
    "print(\"  Number of finished trials: \", len(study.trials))\n",
    "print(\"  Number of pruned trials: \", len(pruned_trials))\n",
    "print(\"  Number of complete trials: \", len(complete_trials))\n",
    "\n",
    "print(\"Best trial:\")\n",
    "trial = study.best_trial\n",
    "\n",
    "print(\"  Value: \", trial.value)\n",
    "\n",
    "print(\"  Params: \")\n",
    "for key, value in trial.params.items():\n",
    "    print(\"    {}: {}\".format(key, value))\n"
   ]
  },
  {
   "cell_type": "code",
   "execution_count": null,
   "id": "dd1538cb",
   "metadata": {},
   "outputs": [],
   "source": []
  }
 ],
 "metadata": {
  "interpreter": {
   "hash": "53255508f1ba9865586e3e7b5d3e6f61e5dc26822489f7f6790e2b183ae9e4dc"
  },
  "kernelspec": {
   "display_name": "Python 3",
   "language": "python",
   "name": "python3"
  },
  "language_info": {
   "codemirror_mode": {
    "name": "ipython",
    "version": 3
   },
   "file_extension": ".py",
   "mimetype": "text/x-python",
   "name": "python",
   "nbconvert_exporter": "python",
   "pygments_lexer": "ipython3",
   "version": "3.9.5"
  }
 },
 "nbformat": 4,
 "nbformat_minor": 5
}
